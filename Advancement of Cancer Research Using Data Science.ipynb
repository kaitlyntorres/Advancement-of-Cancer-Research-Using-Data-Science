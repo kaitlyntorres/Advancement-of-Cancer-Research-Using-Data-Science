{
 "cells": [
  {
   "cell_type": "markdown",
   "metadata": {},
   "source": [
    "# Import and install packages"
   ]
  },
  {
   "cell_type": "code",
   "execution_count": 4,
   "metadata": {},
   "outputs": [],
   "source": [
    "#import packages\n",
    "import tabula\n",
    "import pandas as pd\n",
    "import time\n",
    "import asyncio\n",
    "from playwright.async_api import async_playwright\n",
    "from bs4 import BeautifulSoup as bs\n",
    "import plotly.express as px\n",
    "import plotly.figure_factory as ff"
   ]
  },
  {
   "cell_type": "code",
   "execution_count": null,
   "metadata": {},
   "outputs": [],
   "source": [
    "!pip install --upgrade plotly\n",
    "!pip install --upgrade geopandas\n",
    "!pip install --upgrade pyshp\n",
    "!pip install --upgrade shapely"
   ]
  },
  {
   "cell_type": "markdown",
   "metadata": {},
   "source": [
    "# Counts of Cancer per US State 2016-2020"
   ]
  },
  {
   "cell_type": "code",
   "execution_count": 2,
   "metadata": {},
   "outputs": [],
   "source": [
    "#Cancer Occurence per US State\n",
    "\n",
    "url =\"https://acsjournals.onlinelibrary.wiley.com/doi/10.3322/caac.21763\"\n",
    "\n",
    "\n",
    "async with async_playwright() as p:\n",
    "    browser = await p.chromium.launch(headless=False)\n",
    "    page = await browser.new_page()\n",
    "    await page.goto(url)\n",
    "    time.sleep(6)\n",
    "    html = await page.content()\n",
    "    soup = bs(html, 'html.parser')\n",
    "    #print(soup)\n",
    "\n",
    "    #uses beautiful soup package to go through website and extract out table\n",
    "    #appends data to list\n",
    "    data = []\n",
    "    m= soup.find(id=\"caac21763-tbl-0002\", class_=\"article-table-content\") \n",
    "    for d in m.find_all('div',{'class':\"article-table-content-wrapper\"}):\n",
    "        table = m.find('table', attrs={'class':'table article-section__table'})\n",
    "        table_body = table.find('tbody')\n",
    "        rows = table_body.find_all('tr')\n",
    "        for row in rows:\n",
    "            cols = row.find_all('td')\n",
    "            cols = [ele.text.strip() for ele in cols]\n",
    "            data.append([ele for ele in cols if ele]) # Get rid of empty values\n",
    "    \n"
   ]
  },
  {
   "cell_type": "code",
   "execution_count": 3,
   "metadata": {},
   "outputs": [],
   "source": [
    "#converts list to dataframe\n",
    "df = pd.DataFrame (data, columns = ['State', 'All sites', 'Female breast', 'Colon & rectum', 'Leukemia', 'Lung & bronchus', 'Melanoma of the skin', 'Non-Hodgkin lymphoma'\n",
    "                                   ,'Prostate', 'Urinary bladder', 'Uterine cervix', 'Uterine corpus'])\n",
    "\n"
   ]
  },
  {
   "cell_type": "code",
   "execution_count": 4,
   "metadata": {},
   "outputs": [],
   "source": [
    "#replaces value\n",
    "df=df.replace('—b', '< 50')\n",
    "\n",
    "#top 3 cancers in USA:\n",
    "    #1. Breast\n",
    "    #2. Prostate\n",
    "    #3. Lung & Bronchus\n",
    "\n",
    "#gets rid of last row\n",
    "states = df.iloc[:-1 , :]\n",
    "#replace char\n",
    "states= states.replace(',','', regex=True)\n",
    "\n",
    "#makes columns type int\n",
    "c=0\n",
    "for i in states:\n",
    "    if(c!=0 and c!=10):\n",
    "        states[i]=states[i].astype('Int64')\n",
    "    c+=1\n",
    "        "
   ]
  },
  {
   "cell_type": "markdown",
   "metadata": {},
   "source": [
    "## Population of US States 2020"
   ]
  },
  {
   "cell_type": "code",
   "execution_count": 62,
   "metadata": {},
   "outputs": [],
   "source": [
    "#POPULATION OF US STATES 2020\n",
    "\n",
    "url = \"https://ballotpedia.org/United_States_census,_2020\"\n",
    "\n",
    "\n",
    "\n",
    "async with async_playwright() as p:\n",
    "    browser = await p.chromium.launch(headless=False)\n",
    "    page = await browser.new_page()\n",
    "    await page.goto(url)\n",
    "    time.sleep(6)\n",
    "    html = await page.content()\n",
    "    soup = bs(html, 'html.parser')\n",
    "    #print(soup)\n",
    "\n",
    "    #uses beautiful soup package to go through website and extract out table\n",
    "    #appends data to list\n",
    "    data = []\n",
    "    \n",
    "    for d in soup.find_all('div',{'class':\"mw-parser-output\"}):\n",
    "        table = d.find('table', attrs={'class':'bptable collapsible sortable jquery-tablesorter'})\n",
    "        table_body = table.find('tbody')\n",
    "        rows = table_body.find_all('tr')\n",
    "        for row in rows:\n",
    "            cols = row.find_all('td')\n",
    "            cols = [ele.text.strip() for ele in cols]\n",
    "            data.append([ele for ele in cols if ele]) # Get rid of empty values"
   ]
  },
  {
   "cell_type": "code",
   "execution_count": 63,
   "metadata": {},
   "outputs": [],
   "source": [
    "#converts list to dataframe\n",
    "popstates2020 = pd.DataFrame (data, columns = ['State', '2020 Population','A','B','C'])\n",
    "#delete columns\n",
    "del popstates2020['A']\n",
    "del popstates2020['B']\n",
    "del popstates2020['C']\n",
    "#replace char and convert the column of type int\n",
    "popstates2020['2020 Population'] = popstates2020['2020 Population'].str.replace(',', '').astype(int)\n",
    "#resets index and deletes column\n",
    "popstates2020=popstates2020.reset_index()\n",
    "del popstates2020['index']"
   ]
  },
  {
   "cell_type": "markdown",
   "metadata": {},
   "source": [
    "## Choropleth Maps for all US States"
   ]
  },
  {
   "cell_type": "code",
   "execution_count": 49,
   "metadata": {},
   "outputs": [],
   "source": [
    "#US codes w/ D.C\n",
    "code=['AL', 'AK','AZ', 'AR', 'CA' ,'CO', 'CT','DC', 'DE', 'FL', 'GA', 'HI', 'ID', 'IL', 'IN', 'IA', 'KS', \n",
    "     'KY', 'LA', 'ME', 'MD', 'MA', 'MI', 'MN', 'MS', 'MO','MT', 'NE', 'NV', 'NH', 'NJ', 'NM', 'NY', 'NC', 'ND', 'OH', 'OK', 'OR', 'PA', 'RI', 'SC', 'SD', 'TN', 'TX', 'UT', 'VT', 'VA', 'WA', 'WV', 'WI', 'WY']"
   ]
  },
  {
   "cell_type": "code",
   "execution_count": 60,
   "metadata": {},
   "outputs": [],
   "source": [
    "#US codes w/o D.C\n",
    "code2=['AL', 'AK','AZ', 'AR', 'CA' ,'CO', 'CT','DE', 'FL', 'GA', 'HI', 'ID', 'IL', 'IN', 'IA', 'KS', \n",
    "     'KY', 'LA', 'ME', 'MD', 'MA', 'MI', 'MN', 'MS', 'MO','MT', 'NE', 'NV', 'NH', 'NJ', 'NM', 'NY', 'NC', 'ND', 'OH', 'OK', 'OR', 'PA', 'RI', 'SC', 'SD', 'TN', 'TX', 'UT', 'VT', 'VA', 'WA', 'WV', 'WI', 'WY']"
   ]
  },
  {
   "cell_type": "code",
   "execution_count": 52,
   "metadata": {},
   "outputs": [],
   "source": [
    "#make col type int\n",
    "sortedStates['All sites']=sortedStates['All sites'].astype(int)"
   ]
  },
  {
   "cell_type": "markdown",
   "metadata": {},
   "source": [
    "### 2020 Population choropleth maps"
   ]
  },
  {
   "cell_type": "code",
   "execution_count": 67,
   "metadata": {},
   "outputs": [
    {
     "data": {
      "application/vnd.plotly.v1+json": {
       "config": {
        "plotlyServerURL": "https://plot.ly"
       },
       "data": [
        {
         "coloraxis": "coloraxis",
         "geo": "geo",
         "hovertemplate": "locations=%{location}<br>2020 Population=%{z}<extra></extra>",
         "locationmode": "USA-states",
         "locations": [
          "AL",
          "AK",
          "AZ",
          "AR",
          "CA",
          "CO",
          "CT",
          "DE",
          "FL",
          "GA",
          "HI",
          "ID",
          "IL",
          "IN",
          "IA",
          "KS",
          "KY",
          "LA",
          "ME",
          "MD",
          "MA",
          "MI",
          "MN",
          "MS",
          "MO",
          "MT",
          "NE",
          "NV",
          "NH",
          "NJ",
          "NM",
          "NY",
          "NC",
          "ND",
          "OH",
          "OK",
          "OR",
          "PA",
          "RI",
          "SC",
          "SD",
          "TN",
          "TX",
          "UT",
          "VT",
          "VA",
          "WA",
          "WV",
          "WI",
          "WY"
         ],
         "name": "",
         "type": "choropleth",
         "z": [
          5030053,
          736081,
          7158923,
          3013756,
          39576757,
          5782171,
          3608298,
          990837,
          21570527,
          10725274,
          1460137,
          1841377,
          12822739,
          6790280,
          3192406,
          2940865,
          4509342,
          4661468,
          1363582,
          6185278,
          7033469,
          10084442,
          5709752,
          2963914,
          6160281,
          1085407,
          1963333,
          3108462,
          1379089,
          9294493,
          2120220,
          20215751,
          10453948,
          779702,
          11808848,
          3963516,
          4241500,
          13011844,
          1098163,
          5124712,
          887770,
          6916897,
          29183290,
          3275252,
          643503,
          8654542,
          7715946,
          1795045,
          5897473,
          577719
         ]
        }
       ],
       "layout": {
        "coloraxis": {
         "colorbar": {
          "title": {
           "text": "2020 Population"
          }
         },
         "colorscale": [
          [
           0,
           "#440154"
          ],
          [
           0.1111111111111111,
           "#482878"
          ],
          [
           0.2222222222222222,
           "#3e4989"
          ],
          [
           0.3333333333333333,
           "#31688e"
          ],
          [
           0.4444444444444444,
           "#26828e"
          ],
          [
           0.5555555555555556,
           "#1f9e89"
          ],
          [
           0.6666666666666666,
           "#35b779"
          ],
          [
           0.7777777777777778,
           "#6ece58"
          ],
          [
           0.8888888888888888,
           "#b5de2b"
          ],
          [
           1,
           "#fde725"
          ]
         ]
        },
        "geo": {
         "center": {},
         "domain": {
          "x": [
           0,
           1
          ],
          "y": [
           0,
           1
          ]
         },
         "scope": "usa"
        },
        "legend": {
         "tracegroupgap": 0
        },
        "margin": {
         "t": 60
        },
        "template": {
         "data": {
          "bar": [
           {
            "error_x": {
             "color": "#2a3f5f"
            },
            "error_y": {
             "color": "#2a3f5f"
            },
            "marker": {
             "line": {
              "color": "#E5ECF6",
              "width": 0.5
             },
             "pattern": {
              "fillmode": "overlay",
              "size": 10,
              "solidity": 0.2
             }
            },
            "type": "bar"
           }
          ],
          "barpolar": [
           {
            "marker": {
             "line": {
              "color": "#E5ECF6",
              "width": 0.5
             },
             "pattern": {
              "fillmode": "overlay",
              "size": 10,
              "solidity": 0.2
             }
            },
            "type": "barpolar"
           }
          ],
          "carpet": [
           {
            "aaxis": {
             "endlinecolor": "#2a3f5f",
             "gridcolor": "white",
             "linecolor": "white",
             "minorgridcolor": "white",
             "startlinecolor": "#2a3f5f"
            },
            "baxis": {
             "endlinecolor": "#2a3f5f",
             "gridcolor": "white",
             "linecolor": "white",
             "minorgridcolor": "white",
             "startlinecolor": "#2a3f5f"
            },
            "type": "carpet"
           }
          ],
          "choropleth": [
           {
            "colorbar": {
             "outlinewidth": 0,
             "ticks": ""
            },
            "type": "choropleth"
           }
          ],
          "contour": [
           {
            "colorbar": {
             "outlinewidth": 0,
             "ticks": ""
            },
            "colorscale": [
             [
              0,
              "#0d0887"
             ],
             [
              0.1111111111111111,
              "#46039f"
             ],
             [
              0.2222222222222222,
              "#7201a8"
             ],
             [
              0.3333333333333333,
              "#9c179e"
             ],
             [
              0.4444444444444444,
              "#bd3786"
             ],
             [
              0.5555555555555556,
              "#d8576b"
             ],
             [
              0.6666666666666666,
              "#ed7953"
             ],
             [
              0.7777777777777778,
              "#fb9f3a"
             ],
             [
              0.8888888888888888,
              "#fdca26"
             ],
             [
              1,
              "#f0f921"
             ]
            ],
            "type": "contour"
           }
          ],
          "contourcarpet": [
           {
            "colorbar": {
             "outlinewidth": 0,
             "ticks": ""
            },
            "type": "contourcarpet"
           }
          ],
          "heatmap": [
           {
            "colorbar": {
             "outlinewidth": 0,
             "ticks": ""
            },
            "colorscale": [
             [
              0,
              "#0d0887"
             ],
             [
              0.1111111111111111,
              "#46039f"
             ],
             [
              0.2222222222222222,
              "#7201a8"
             ],
             [
              0.3333333333333333,
              "#9c179e"
             ],
             [
              0.4444444444444444,
              "#bd3786"
             ],
             [
              0.5555555555555556,
              "#d8576b"
             ],
             [
              0.6666666666666666,
              "#ed7953"
             ],
             [
              0.7777777777777778,
              "#fb9f3a"
             ],
             [
              0.8888888888888888,
              "#fdca26"
             ],
             [
              1,
              "#f0f921"
             ]
            ],
            "type": "heatmap"
           }
          ],
          "heatmapgl": [
           {
            "colorbar": {
             "outlinewidth": 0,
             "ticks": ""
            },
            "colorscale": [
             [
              0,
              "#0d0887"
             ],
             [
              0.1111111111111111,
              "#46039f"
             ],
             [
              0.2222222222222222,
              "#7201a8"
             ],
             [
              0.3333333333333333,
              "#9c179e"
             ],
             [
              0.4444444444444444,
              "#bd3786"
             ],
             [
              0.5555555555555556,
              "#d8576b"
             ],
             [
              0.6666666666666666,
              "#ed7953"
             ],
             [
              0.7777777777777778,
              "#fb9f3a"
             ],
             [
              0.8888888888888888,
              "#fdca26"
             ],
             [
              1,
              "#f0f921"
             ]
            ],
            "type": "heatmapgl"
           }
          ],
          "histogram": [
           {
            "marker": {
             "pattern": {
              "fillmode": "overlay",
              "size": 10,
              "solidity": 0.2
             }
            },
            "type": "histogram"
           }
          ],
          "histogram2d": [
           {
            "colorbar": {
             "outlinewidth": 0,
             "ticks": ""
            },
            "colorscale": [
             [
              0,
              "#0d0887"
             ],
             [
              0.1111111111111111,
              "#46039f"
             ],
             [
              0.2222222222222222,
              "#7201a8"
             ],
             [
              0.3333333333333333,
              "#9c179e"
             ],
             [
              0.4444444444444444,
              "#bd3786"
             ],
             [
              0.5555555555555556,
              "#d8576b"
             ],
             [
              0.6666666666666666,
              "#ed7953"
             ],
             [
              0.7777777777777778,
              "#fb9f3a"
             ],
             [
              0.8888888888888888,
              "#fdca26"
             ],
             [
              1,
              "#f0f921"
             ]
            ],
            "type": "histogram2d"
           }
          ],
          "histogram2dcontour": [
           {
            "colorbar": {
             "outlinewidth": 0,
             "ticks": ""
            },
            "colorscale": [
             [
              0,
              "#0d0887"
             ],
             [
              0.1111111111111111,
              "#46039f"
             ],
             [
              0.2222222222222222,
              "#7201a8"
             ],
             [
              0.3333333333333333,
              "#9c179e"
             ],
             [
              0.4444444444444444,
              "#bd3786"
             ],
             [
              0.5555555555555556,
              "#d8576b"
             ],
             [
              0.6666666666666666,
              "#ed7953"
             ],
             [
              0.7777777777777778,
              "#fb9f3a"
             ],
             [
              0.8888888888888888,
              "#fdca26"
             ],
             [
              1,
              "#f0f921"
             ]
            ],
            "type": "histogram2dcontour"
           }
          ],
          "mesh3d": [
           {
            "colorbar": {
             "outlinewidth": 0,
             "ticks": ""
            },
            "type": "mesh3d"
           }
          ],
          "parcoords": [
           {
            "line": {
             "colorbar": {
              "outlinewidth": 0,
              "ticks": ""
             }
            },
            "type": "parcoords"
           }
          ],
          "pie": [
           {
            "automargin": true,
            "type": "pie"
           }
          ],
          "scatter": [
           {
            "fillpattern": {
             "fillmode": "overlay",
             "size": 10,
             "solidity": 0.2
            },
            "type": "scatter"
           }
          ],
          "scatter3d": [
           {
            "line": {
             "colorbar": {
              "outlinewidth": 0,
              "ticks": ""
             }
            },
            "marker": {
             "colorbar": {
              "outlinewidth": 0,
              "ticks": ""
             }
            },
            "type": "scatter3d"
           }
          ],
          "scattercarpet": [
           {
            "marker": {
             "colorbar": {
              "outlinewidth": 0,
              "ticks": ""
             }
            },
            "type": "scattercarpet"
           }
          ],
          "scattergeo": [
           {
            "marker": {
             "colorbar": {
              "outlinewidth": 0,
              "ticks": ""
             }
            },
            "type": "scattergeo"
           }
          ],
          "scattergl": [
           {
            "marker": {
             "colorbar": {
              "outlinewidth": 0,
              "ticks": ""
             }
            },
            "type": "scattergl"
           }
          ],
          "scattermapbox": [
           {
            "marker": {
             "colorbar": {
              "outlinewidth": 0,
              "ticks": ""
             }
            },
            "type": "scattermapbox"
           }
          ],
          "scatterpolar": [
           {
            "marker": {
             "colorbar": {
              "outlinewidth": 0,
              "ticks": ""
             }
            },
            "type": "scatterpolar"
           }
          ],
          "scatterpolargl": [
           {
            "marker": {
             "colorbar": {
              "outlinewidth": 0,
              "ticks": ""
             }
            },
            "type": "scatterpolargl"
           }
          ],
          "scatterternary": [
           {
            "marker": {
             "colorbar": {
              "outlinewidth": 0,
              "ticks": ""
             }
            },
            "type": "scatterternary"
           }
          ],
          "surface": [
           {
            "colorbar": {
             "outlinewidth": 0,
             "ticks": ""
            },
            "colorscale": [
             [
              0,
              "#0d0887"
             ],
             [
              0.1111111111111111,
              "#46039f"
             ],
             [
              0.2222222222222222,
              "#7201a8"
             ],
             [
              0.3333333333333333,
              "#9c179e"
             ],
             [
              0.4444444444444444,
              "#bd3786"
             ],
             [
              0.5555555555555556,
              "#d8576b"
             ],
             [
              0.6666666666666666,
              "#ed7953"
             ],
             [
              0.7777777777777778,
              "#fb9f3a"
             ],
             [
              0.8888888888888888,
              "#fdca26"
             ],
             [
              1,
              "#f0f921"
             ]
            ],
            "type": "surface"
           }
          ],
          "table": [
           {
            "cells": {
             "fill": {
              "color": "#EBF0F8"
             },
             "line": {
              "color": "white"
             }
            },
            "header": {
             "fill": {
              "color": "#C8D4E3"
             },
             "line": {
              "color": "white"
             }
            },
            "type": "table"
           }
          ]
         },
         "layout": {
          "annotationdefaults": {
           "arrowcolor": "#2a3f5f",
           "arrowhead": 0,
           "arrowwidth": 1
          },
          "autotypenumbers": "strict",
          "coloraxis": {
           "colorbar": {
            "outlinewidth": 0,
            "ticks": ""
           }
          },
          "colorscale": {
           "diverging": [
            [
             0,
             "#8e0152"
            ],
            [
             0.1,
             "#c51b7d"
            ],
            [
             0.2,
             "#de77ae"
            ],
            [
             0.3,
             "#f1b6da"
            ],
            [
             0.4,
             "#fde0ef"
            ],
            [
             0.5,
             "#f7f7f7"
            ],
            [
             0.6,
             "#e6f5d0"
            ],
            [
             0.7,
             "#b8e186"
            ],
            [
             0.8,
             "#7fbc41"
            ],
            [
             0.9,
             "#4d9221"
            ],
            [
             1,
             "#276419"
            ]
           ],
           "sequential": [
            [
             0,
             "#0d0887"
            ],
            [
             0.1111111111111111,
             "#46039f"
            ],
            [
             0.2222222222222222,
             "#7201a8"
            ],
            [
             0.3333333333333333,
             "#9c179e"
            ],
            [
             0.4444444444444444,
             "#bd3786"
            ],
            [
             0.5555555555555556,
             "#d8576b"
            ],
            [
             0.6666666666666666,
             "#ed7953"
            ],
            [
             0.7777777777777778,
             "#fb9f3a"
            ],
            [
             0.8888888888888888,
             "#fdca26"
            ],
            [
             1,
             "#f0f921"
            ]
           ],
           "sequentialminus": [
            [
             0,
             "#0d0887"
            ],
            [
             0.1111111111111111,
             "#46039f"
            ],
            [
             0.2222222222222222,
             "#7201a8"
            ],
            [
             0.3333333333333333,
             "#9c179e"
            ],
            [
             0.4444444444444444,
             "#bd3786"
            ],
            [
             0.5555555555555556,
             "#d8576b"
            ],
            [
             0.6666666666666666,
             "#ed7953"
            ],
            [
             0.7777777777777778,
             "#fb9f3a"
            ],
            [
             0.8888888888888888,
             "#fdca26"
            ],
            [
             1,
             "#f0f921"
            ]
           ]
          },
          "colorway": [
           "#636efa",
           "#EF553B",
           "#00cc96",
           "#ab63fa",
           "#FFA15A",
           "#19d3f3",
           "#FF6692",
           "#B6E880",
           "#FF97FF",
           "#FECB52"
          ],
          "font": {
           "color": "#2a3f5f"
          },
          "geo": {
           "bgcolor": "white",
           "lakecolor": "white",
           "landcolor": "#E5ECF6",
           "showlakes": true,
           "showland": true,
           "subunitcolor": "white"
          },
          "hoverlabel": {
           "align": "left"
          },
          "hovermode": "closest",
          "mapbox": {
           "style": "light"
          },
          "paper_bgcolor": "white",
          "plot_bgcolor": "#E5ECF6",
          "polar": {
           "angularaxis": {
            "gridcolor": "white",
            "linecolor": "white",
            "ticks": ""
           },
           "bgcolor": "#E5ECF6",
           "radialaxis": {
            "gridcolor": "white",
            "linecolor": "white",
            "ticks": ""
           }
          },
          "scene": {
           "xaxis": {
            "backgroundcolor": "#E5ECF6",
            "gridcolor": "white",
            "gridwidth": 2,
            "linecolor": "white",
            "showbackground": true,
            "ticks": "",
            "zerolinecolor": "white"
           },
           "yaxis": {
            "backgroundcolor": "#E5ECF6",
            "gridcolor": "white",
            "gridwidth": 2,
            "linecolor": "white",
            "showbackground": true,
            "ticks": "",
            "zerolinecolor": "white"
           },
           "zaxis": {
            "backgroundcolor": "#E5ECF6",
            "gridcolor": "white",
            "gridwidth": 2,
            "linecolor": "white",
            "showbackground": true,
            "ticks": "",
            "zerolinecolor": "white"
           }
          },
          "shapedefaults": {
           "line": {
            "color": "#2a3f5f"
           }
          },
          "ternary": {
           "aaxis": {
            "gridcolor": "white",
            "linecolor": "white",
            "ticks": ""
           },
           "baxis": {
            "gridcolor": "white",
            "linecolor": "white",
            "ticks": ""
           },
           "bgcolor": "#E5ECF6",
           "caxis": {
            "gridcolor": "white",
            "linecolor": "white",
            "ticks": ""
           }
          },
          "title": {
           "x": 0.05
          },
          "xaxis": {
           "automargin": true,
           "gridcolor": "white",
           "linecolor": "white",
           "ticks": "",
           "title": {
            "standoff": 15
           },
           "zerolinecolor": "white",
           "zerolinewidth": 2
          },
          "yaxis": {
           "automargin": true,
           "gridcolor": "white",
           "linecolor": "white",
           "ticks": "",
           "title": {
            "standoff": 15
           },
           "zerolinecolor": "white",
           "zerolinewidth": 2
          }
         }
        }
       }
      },
      "text/html": [
       "<div>                            <div id=\"5bb66757-a4d6-4dc6-a1c9-a9efdfc70bcd\" class=\"plotly-graph-div\" style=\"height:525px; width:100%;\"></div>            <script type=\"text/javascript\">                require([\"plotly\"], function(Plotly) {                    window.PLOTLYENV=window.PLOTLYENV || {};                                    if (document.getElementById(\"5bb66757-a4d6-4dc6-a1c9-a9efdfc70bcd\")) {                    Plotly.newPlot(                        \"5bb66757-a4d6-4dc6-a1c9-a9efdfc70bcd\",                        [{\"coloraxis\":\"coloraxis\",\"geo\":\"geo\",\"hovertemplate\":\"locations=%{location}<br>2020 Population=%{z}<extra></extra>\",\"locationmode\":\"USA-states\",\"locations\":[\"AL\",\"AK\",\"AZ\",\"AR\",\"CA\",\"CO\",\"CT\",\"DE\",\"FL\",\"GA\",\"HI\",\"ID\",\"IL\",\"IN\",\"IA\",\"KS\",\"KY\",\"LA\",\"ME\",\"MD\",\"MA\",\"MI\",\"MN\",\"MS\",\"MO\",\"MT\",\"NE\",\"NV\",\"NH\",\"NJ\",\"NM\",\"NY\",\"NC\",\"ND\",\"OH\",\"OK\",\"OR\",\"PA\",\"RI\",\"SC\",\"SD\",\"TN\",\"TX\",\"UT\",\"VT\",\"VA\",\"WA\",\"WV\",\"WI\",\"WY\"],\"name\":\"\",\"z\":[5030053,736081,7158923,3013756,39576757,5782171,3608298,990837,21570527,10725274,1460137,1841377,12822739,6790280,3192406,2940865,4509342,4661468,1363582,6185278,7033469,10084442,5709752,2963914,6160281,1085407,1963333,3108462,1379089,9294493,2120220,20215751,10453948,779702,11808848,3963516,4241500,13011844,1098163,5124712,887770,6916897,29183290,3275252,643503,8654542,7715946,1795045,5897473,577719],\"type\":\"choropleth\"}],                        {\"template\":{\"data\":{\"histogram2dcontour\":[{\"type\":\"histogram2dcontour\",\"colorbar\":{\"outlinewidth\":0,\"ticks\":\"\"},\"colorscale\":[[0.0,\"#0d0887\"],[0.1111111111111111,\"#46039f\"],[0.2222222222222222,\"#7201a8\"],[0.3333333333333333,\"#9c179e\"],[0.4444444444444444,\"#bd3786\"],[0.5555555555555556,\"#d8576b\"],[0.6666666666666666,\"#ed7953\"],[0.7777777777777778,\"#fb9f3a\"],[0.8888888888888888,\"#fdca26\"],[1.0,\"#f0f921\"]]}],\"choropleth\":[{\"type\":\"choropleth\",\"colorbar\":{\"outlinewidth\":0,\"ticks\":\"\"}}],\"histogram2d\":[{\"type\":\"histogram2d\",\"colorbar\":{\"outlinewidth\":0,\"ticks\":\"\"},\"colorscale\":[[0.0,\"#0d0887\"],[0.1111111111111111,\"#46039f\"],[0.2222222222222222,\"#7201a8\"],[0.3333333333333333,\"#9c179e\"],[0.4444444444444444,\"#bd3786\"],[0.5555555555555556,\"#d8576b\"],[0.6666666666666666,\"#ed7953\"],[0.7777777777777778,\"#fb9f3a\"],[0.8888888888888888,\"#fdca26\"],[1.0,\"#f0f921\"]]}],\"heatmap\":[{\"type\":\"heatmap\",\"colorbar\":{\"outlinewidth\":0,\"ticks\":\"\"},\"colorscale\":[[0.0,\"#0d0887\"],[0.1111111111111111,\"#46039f\"],[0.2222222222222222,\"#7201a8\"],[0.3333333333333333,\"#9c179e\"],[0.4444444444444444,\"#bd3786\"],[0.5555555555555556,\"#d8576b\"],[0.6666666666666666,\"#ed7953\"],[0.7777777777777778,\"#fb9f3a\"],[0.8888888888888888,\"#fdca26\"],[1.0,\"#f0f921\"]]}],\"heatmapgl\":[{\"type\":\"heatmapgl\",\"colorbar\":{\"outlinewidth\":0,\"ticks\":\"\"},\"colorscale\":[[0.0,\"#0d0887\"],[0.1111111111111111,\"#46039f\"],[0.2222222222222222,\"#7201a8\"],[0.3333333333333333,\"#9c179e\"],[0.4444444444444444,\"#bd3786\"],[0.5555555555555556,\"#d8576b\"],[0.6666666666666666,\"#ed7953\"],[0.7777777777777778,\"#fb9f3a\"],[0.8888888888888888,\"#fdca26\"],[1.0,\"#f0f921\"]]}],\"contourcarpet\":[{\"type\":\"contourcarpet\",\"colorbar\":{\"outlinewidth\":0,\"ticks\":\"\"}}],\"contour\":[{\"type\":\"contour\",\"colorbar\":{\"outlinewidth\":0,\"ticks\":\"\"},\"colorscale\":[[0.0,\"#0d0887\"],[0.1111111111111111,\"#46039f\"],[0.2222222222222222,\"#7201a8\"],[0.3333333333333333,\"#9c179e\"],[0.4444444444444444,\"#bd3786\"],[0.5555555555555556,\"#d8576b\"],[0.6666666666666666,\"#ed7953\"],[0.7777777777777778,\"#fb9f3a\"],[0.8888888888888888,\"#fdca26\"],[1.0,\"#f0f921\"]]}],\"surface\":[{\"type\":\"surface\",\"colorbar\":{\"outlinewidth\":0,\"ticks\":\"\"},\"colorscale\":[[0.0,\"#0d0887\"],[0.1111111111111111,\"#46039f\"],[0.2222222222222222,\"#7201a8\"],[0.3333333333333333,\"#9c179e\"],[0.4444444444444444,\"#bd3786\"],[0.5555555555555556,\"#d8576b\"],[0.6666666666666666,\"#ed7953\"],[0.7777777777777778,\"#fb9f3a\"],[0.8888888888888888,\"#fdca26\"],[1.0,\"#f0f921\"]]}],\"mesh3d\":[{\"type\":\"mesh3d\",\"colorbar\":{\"outlinewidth\":0,\"ticks\":\"\"}}],\"scatter\":[{\"fillpattern\":{\"fillmode\":\"overlay\",\"size\":10,\"solidity\":0.2},\"type\":\"scatter\"}],\"parcoords\":[{\"type\":\"parcoords\",\"line\":{\"colorbar\":{\"outlinewidth\":0,\"ticks\":\"\"}}}],\"scatterpolargl\":[{\"type\":\"scatterpolargl\",\"marker\":{\"colorbar\":{\"outlinewidth\":0,\"ticks\":\"\"}}}],\"bar\":[{\"error_x\":{\"color\":\"#2a3f5f\"},\"error_y\":{\"color\":\"#2a3f5f\"},\"marker\":{\"line\":{\"color\":\"#E5ECF6\",\"width\":0.5},\"pattern\":{\"fillmode\":\"overlay\",\"size\":10,\"solidity\":0.2}},\"type\":\"bar\"}],\"scattergeo\":[{\"type\":\"scattergeo\",\"marker\":{\"colorbar\":{\"outlinewidth\":0,\"ticks\":\"\"}}}],\"scatterpolar\":[{\"type\":\"scatterpolar\",\"marker\":{\"colorbar\":{\"outlinewidth\":0,\"ticks\":\"\"}}}],\"histogram\":[{\"marker\":{\"pattern\":{\"fillmode\":\"overlay\",\"size\":10,\"solidity\":0.2}},\"type\":\"histogram\"}],\"scattergl\":[{\"type\":\"scattergl\",\"marker\":{\"colorbar\":{\"outlinewidth\":0,\"ticks\":\"\"}}}],\"scatter3d\":[{\"type\":\"scatter3d\",\"line\":{\"colorbar\":{\"outlinewidth\":0,\"ticks\":\"\"}},\"marker\":{\"colorbar\":{\"outlinewidth\":0,\"ticks\":\"\"}}}],\"scattermapbox\":[{\"type\":\"scattermapbox\",\"marker\":{\"colorbar\":{\"outlinewidth\":0,\"ticks\":\"\"}}}],\"scatterternary\":[{\"type\":\"scatterternary\",\"marker\":{\"colorbar\":{\"outlinewidth\":0,\"ticks\":\"\"}}}],\"scattercarpet\":[{\"type\":\"scattercarpet\",\"marker\":{\"colorbar\":{\"outlinewidth\":0,\"ticks\":\"\"}}}],\"carpet\":[{\"aaxis\":{\"endlinecolor\":\"#2a3f5f\",\"gridcolor\":\"white\",\"linecolor\":\"white\",\"minorgridcolor\":\"white\",\"startlinecolor\":\"#2a3f5f\"},\"baxis\":{\"endlinecolor\":\"#2a3f5f\",\"gridcolor\":\"white\",\"linecolor\":\"white\",\"minorgridcolor\":\"white\",\"startlinecolor\":\"#2a3f5f\"},\"type\":\"carpet\"}],\"table\":[{\"cells\":{\"fill\":{\"color\":\"#EBF0F8\"},\"line\":{\"color\":\"white\"}},\"header\":{\"fill\":{\"color\":\"#C8D4E3\"},\"line\":{\"color\":\"white\"}},\"type\":\"table\"}],\"barpolar\":[{\"marker\":{\"line\":{\"color\":\"#E5ECF6\",\"width\":0.5},\"pattern\":{\"fillmode\":\"overlay\",\"size\":10,\"solidity\":0.2}},\"type\":\"barpolar\"}],\"pie\":[{\"automargin\":true,\"type\":\"pie\"}]},\"layout\":{\"autotypenumbers\":\"strict\",\"colorway\":[\"#636efa\",\"#EF553B\",\"#00cc96\",\"#ab63fa\",\"#FFA15A\",\"#19d3f3\",\"#FF6692\",\"#B6E880\",\"#FF97FF\",\"#FECB52\"],\"font\":{\"color\":\"#2a3f5f\"},\"hovermode\":\"closest\",\"hoverlabel\":{\"align\":\"left\"},\"paper_bgcolor\":\"white\",\"plot_bgcolor\":\"#E5ECF6\",\"polar\":{\"bgcolor\":\"#E5ECF6\",\"angularaxis\":{\"gridcolor\":\"white\",\"linecolor\":\"white\",\"ticks\":\"\"},\"radialaxis\":{\"gridcolor\":\"white\",\"linecolor\":\"white\",\"ticks\":\"\"}},\"ternary\":{\"bgcolor\":\"#E5ECF6\",\"aaxis\":{\"gridcolor\":\"white\",\"linecolor\":\"white\",\"ticks\":\"\"},\"baxis\":{\"gridcolor\":\"white\",\"linecolor\":\"white\",\"ticks\":\"\"},\"caxis\":{\"gridcolor\":\"white\",\"linecolor\":\"white\",\"ticks\":\"\"}},\"coloraxis\":{\"colorbar\":{\"outlinewidth\":0,\"ticks\":\"\"}},\"colorscale\":{\"sequential\":[[0.0,\"#0d0887\"],[0.1111111111111111,\"#46039f\"],[0.2222222222222222,\"#7201a8\"],[0.3333333333333333,\"#9c179e\"],[0.4444444444444444,\"#bd3786\"],[0.5555555555555556,\"#d8576b\"],[0.6666666666666666,\"#ed7953\"],[0.7777777777777778,\"#fb9f3a\"],[0.8888888888888888,\"#fdca26\"],[1.0,\"#f0f921\"]],\"sequentialminus\":[[0.0,\"#0d0887\"],[0.1111111111111111,\"#46039f\"],[0.2222222222222222,\"#7201a8\"],[0.3333333333333333,\"#9c179e\"],[0.4444444444444444,\"#bd3786\"],[0.5555555555555556,\"#d8576b\"],[0.6666666666666666,\"#ed7953\"],[0.7777777777777778,\"#fb9f3a\"],[0.8888888888888888,\"#fdca26\"],[1.0,\"#f0f921\"]],\"diverging\":[[0,\"#8e0152\"],[0.1,\"#c51b7d\"],[0.2,\"#de77ae\"],[0.3,\"#f1b6da\"],[0.4,\"#fde0ef\"],[0.5,\"#f7f7f7\"],[0.6,\"#e6f5d0\"],[0.7,\"#b8e186\"],[0.8,\"#7fbc41\"],[0.9,\"#4d9221\"],[1,\"#276419\"]]},\"xaxis\":{\"gridcolor\":\"white\",\"linecolor\":\"white\",\"ticks\":\"\",\"title\":{\"standoff\":15},\"zerolinecolor\":\"white\",\"automargin\":true,\"zerolinewidth\":2},\"yaxis\":{\"gridcolor\":\"white\",\"linecolor\":\"white\",\"ticks\":\"\",\"title\":{\"standoff\":15},\"zerolinecolor\":\"white\",\"automargin\":true,\"zerolinewidth\":2},\"scene\":{\"xaxis\":{\"backgroundcolor\":\"#E5ECF6\",\"gridcolor\":\"white\",\"linecolor\":\"white\",\"showbackground\":true,\"ticks\":\"\",\"zerolinecolor\":\"white\",\"gridwidth\":2},\"yaxis\":{\"backgroundcolor\":\"#E5ECF6\",\"gridcolor\":\"white\",\"linecolor\":\"white\",\"showbackground\":true,\"ticks\":\"\",\"zerolinecolor\":\"white\",\"gridwidth\":2},\"zaxis\":{\"backgroundcolor\":\"#E5ECF6\",\"gridcolor\":\"white\",\"linecolor\":\"white\",\"showbackground\":true,\"ticks\":\"\",\"zerolinecolor\":\"white\",\"gridwidth\":2}},\"shapedefaults\":{\"line\":{\"color\":\"#2a3f5f\"}},\"annotationdefaults\":{\"arrowcolor\":\"#2a3f5f\",\"arrowhead\":0,\"arrowwidth\":1},\"geo\":{\"bgcolor\":\"white\",\"landcolor\":\"#E5ECF6\",\"subunitcolor\":\"white\",\"showland\":true,\"showlakes\":true,\"lakecolor\":\"white\"},\"title\":{\"x\":0.05},\"mapbox\":{\"style\":\"light\"}}},\"geo\":{\"domain\":{\"x\":[0.0,1.0],\"y\":[0.0,1.0]},\"center\":{},\"scope\":\"usa\"},\"coloraxis\":{\"colorbar\":{\"title\":{\"text\":\"2020 Population\"}},\"colorscale\":[[0.0,\"#440154\"],[0.1111111111111111,\"#482878\"],[0.2222222222222222,\"#3e4989\"],[0.3333333333333333,\"#31688e\"],[0.4444444444444444,\"#26828e\"],[0.5555555555555556,\"#1f9e89\"],[0.6666666666666666,\"#35b779\"],[0.7777777777777778,\"#6ece58\"],[0.8888888888888888,\"#b5de2b\"],[1.0,\"#fde725\"]]},\"legend\":{\"tracegroupgap\":0},\"margin\":{\"t\":60}},                        {\"responsive\": true}                    ).then(function(){\n",
       "                            \n",
       "var gd = document.getElementById('5bb66757-a4d6-4dc6-a1c9-a9efdfc70bcd');\n",
       "var x = new MutationObserver(function (mutations, observer) {{\n",
       "        var display = window.getComputedStyle(gd).display;\n",
       "        if (!display || display === 'none') {{\n",
       "            console.log([gd, 'removed!']);\n",
       "            Plotly.purge(gd);\n",
       "            observer.disconnect();\n",
       "        }}\n",
       "}});\n",
       "\n",
       "// Listen for the removal of the full notebook cells\n",
       "var notebookContainer = gd.closest('#notebook-container');\n",
       "if (notebookContainer) {{\n",
       "    x.observe(notebookContainer, {childList: true});\n",
       "}}\n",
       "\n",
       "// Listen for the clearing of the current output cell\n",
       "var outputEl = gd.closest('.output');\n",
       "if (outputEl) {{\n",
       "    x.observe(outputEl, {childList: true});\n",
       "}}\n",
       "\n",
       "                        })                };                });            </script>        </div>"
      ]
     },
     "metadata": {},
     "output_type": "display_data"
    }
   ],
   "source": [
    "#heatmap for 2020 population per state\n",
    "fig = px.choropleth(popstates2020, locations=code2,\n",
    "                    locationmode=\"USA-states\", color='2020 Population',color_continuous_scale=\"Viridis\", scope=\"usa\")\n",
    "#on click of state goes to heatmap for that state and its county\n",
    "fig.show()"
   ]
  },
  {
   "cell_type": "markdown",
   "metadata": {},
   "source": [
    "### Cancer per US State choropleth map "
   ]
  },
  {
   "cell_type": "code",
   "execution_count": 57,
   "metadata": {},
   "outputs": [
    {
     "data": {
      "application/vnd.plotly.v1+json": {
       "config": {
        "plotlyServerURL": "https://plot.ly"
       },
       "data": [
        {
         "coloraxis": "coloraxis",
         "geo": "geo",
         "hovertemplate": "locations=%{location}<br>All sites=%{z}<extra></extra>",
         "locationmode": "USA-states",
         "locations": [
          "AL",
          "AK",
          "AZ",
          "AR",
          "CA",
          "CO",
          "CT",
          "DC",
          "DE",
          "FL",
          "GA",
          "HI",
          "ID",
          "IL",
          "IN",
          "IA",
          "KS",
          "KY",
          "LA",
          "ME",
          "MD",
          "MA",
          "MI",
          "MN",
          "MS",
          "MO",
          "MT",
          "NE",
          "NV",
          "NH",
          "NJ",
          "NM",
          "NY",
          "NC",
          "ND",
          "OH",
          "OK",
          "OR",
          "PA",
          "RI",
          "SC",
          "SD",
          "TN",
          "TX",
          "UT",
          "VT",
          "VA",
          "WA",
          "WV",
          "WI",
          "WY"
         ],
         "name": "",
         "type": "choropleth",
         "z": [
          30730,
          3390,
          41120,
          18670,
          192770,
          28920,
          23480,
          7240,
          3520,
          162410,
          61170,
          8460,
          10810,
          74580,
          40270,
          20460,
          16840,
          30270,
          28580,
          10490,
          35200,
          42880,
          61910,
          34380,
          18210,
          37910,
          7100,
          11530,
          17370,
          9580,
          56150,
          11280,
          123810,
          67690,
          4370,
          74140,
          23420,
          26030,
          88450,
          7030,
          33890,
          5340,
          43790,
          139100,
          13840,
          4370,
          47100,
          44630,
          12840,
          37640,
          3170
         ]
        }
       ],
       "layout": {
        "coloraxis": {
         "colorbar": {
          "title": {
           "text": "All sites"
          }
         },
         "colorscale": [
          [
           0,
           "#440154"
          ],
          [
           0.1111111111111111,
           "#482878"
          ],
          [
           0.2222222222222222,
           "#3e4989"
          ],
          [
           0.3333333333333333,
           "#31688e"
          ],
          [
           0.4444444444444444,
           "#26828e"
          ],
          [
           0.5555555555555556,
           "#1f9e89"
          ],
          [
           0.6666666666666666,
           "#35b779"
          ],
          [
           0.7777777777777778,
           "#6ece58"
          ],
          [
           0.8888888888888888,
           "#b5de2b"
          ],
          [
           1,
           "#fde725"
          ]
         ]
        },
        "geo": {
         "center": {},
         "domain": {
          "x": [
           0,
           1
          ],
          "y": [
           0,
           1
          ]
         },
         "scope": "usa"
        },
        "legend": {
         "tracegroupgap": 0
        },
        "margin": {
         "t": 60
        },
        "template": {
         "data": {
          "bar": [
           {
            "error_x": {
             "color": "#2a3f5f"
            },
            "error_y": {
             "color": "#2a3f5f"
            },
            "marker": {
             "line": {
              "color": "#E5ECF6",
              "width": 0.5
             },
             "pattern": {
              "fillmode": "overlay",
              "size": 10,
              "solidity": 0.2
             }
            },
            "type": "bar"
           }
          ],
          "barpolar": [
           {
            "marker": {
             "line": {
              "color": "#E5ECF6",
              "width": 0.5
             },
             "pattern": {
              "fillmode": "overlay",
              "size": 10,
              "solidity": 0.2
             }
            },
            "type": "barpolar"
           }
          ],
          "carpet": [
           {
            "aaxis": {
             "endlinecolor": "#2a3f5f",
             "gridcolor": "white",
             "linecolor": "white",
             "minorgridcolor": "white",
             "startlinecolor": "#2a3f5f"
            },
            "baxis": {
             "endlinecolor": "#2a3f5f",
             "gridcolor": "white",
             "linecolor": "white",
             "minorgridcolor": "white",
             "startlinecolor": "#2a3f5f"
            },
            "type": "carpet"
           }
          ],
          "choropleth": [
           {
            "colorbar": {
             "outlinewidth": 0,
             "ticks": ""
            },
            "type": "choropleth"
           }
          ],
          "contour": [
           {
            "colorbar": {
             "outlinewidth": 0,
             "ticks": ""
            },
            "colorscale": [
             [
              0,
              "#0d0887"
             ],
             [
              0.1111111111111111,
              "#46039f"
             ],
             [
              0.2222222222222222,
              "#7201a8"
             ],
             [
              0.3333333333333333,
              "#9c179e"
             ],
             [
              0.4444444444444444,
              "#bd3786"
             ],
             [
              0.5555555555555556,
              "#d8576b"
             ],
             [
              0.6666666666666666,
              "#ed7953"
             ],
             [
              0.7777777777777778,
              "#fb9f3a"
             ],
             [
              0.8888888888888888,
              "#fdca26"
             ],
             [
              1,
              "#f0f921"
             ]
            ],
            "type": "contour"
           }
          ],
          "contourcarpet": [
           {
            "colorbar": {
             "outlinewidth": 0,
             "ticks": ""
            },
            "type": "contourcarpet"
           }
          ],
          "heatmap": [
           {
            "colorbar": {
             "outlinewidth": 0,
             "ticks": ""
            },
            "colorscale": [
             [
              0,
              "#0d0887"
             ],
             [
              0.1111111111111111,
              "#46039f"
             ],
             [
              0.2222222222222222,
              "#7201a8"
             ],
             [
              0.3333333333333333,
              "#9c179e"
             ],
             [
              0.4444444444444444,
              "#bd3786"
             ],
             [
              0.5555555555555556,
              "#d8576b"
             ],
             [
              0.6666666666666666,
              "#ed7953"
             ],
             [
              0.7777777777777778,
              "#fb9f3a"
             ],
             [
              0.8888888888888888,
              "#fdca26"
             ],
             [
              1,
              "#f0f921"
             ]
            ],
            "type": "heatmap"
           }
          ],
          "heatmapgl": [
           {
            "colorbar": {
             "outlinewidth": 0,
             "ticks": ""
            },
            "colorscale": [
             [
              0,
              "#0d0887"
             ],
             [
              0.1111111111111111,
              "#46039f"
             ],
             [
              0.2222222222222222,
              "#7201a8"
             ],
             [
              0.3333333333333333,
              "#9c179e"
             ],
             [
              0.4444444444444444,
              "#bd3786"
             ],
             [
              0.5555555555555556,
              "#d8576b"
             ],
             [
              0.6666666666666666,
              "#ed7953"
             ],
             [
              0.7777777777777778,
              "#fb9f3a"
             ],
             [
              0.8888888888888888,
              "#fdca26"
             ],
             [
              1,
              "#f0f921"
             ]
            ],
            "type": "heatmapgl"
           }
          ],
          "histogram": [
           {
            "marker": {
             "pattern": {
              "fillmode": "overlay",
              "size": 10,
              "solidity": 0.2
             }
            },
            "type": "histogram"
           }
          ],
          "histogram2d": [
           {
            "colorbar": {
             "outlinewidth": 0,
             "ticks": ""
            },
            "colorscale": [
             [
              0,
              "#0d0887"
             ],
             [
              0.1111111111111111,
              "#46039f"
             ],
             [
              0.2222222222222222,
              "#7201a8"
             ],
             [
              0.3333333333333333,
              "#9c179e"
             ],
             [
              0.4444444444444444,
              "#bd3786"
             ],
             [
              0.5555555555555556,
              "#d8576b"
             ],
             [
              0.6666666666666666,
              "#ed7953"
             ],
             [
              0.7777777777777778,
              "#fb9f3a"
             ],
             [
              0.8888888888888888,
              "#fdca26"
             ],
             [
              1,
              "#f0f921"
             ]
            ],
            "type": "histogram2d"
           }
          ],
          "histogram2dcontour": [
           {
            "colorbar": {
             "outlinewidth": 0,
             "ticks": ""
            },
            "colorscale": [
             [
              0,
              "#0d0887"
             ],
             [
              0.1111111111111111,
              "#46039f"
             ],
             [
              0.2222222222222222,
              "#7201a8"
             ],
             [
              0.3333333333333333,
              "#9c179e"
             ],
             [
              0.4444444444444444,
              "#bd3786"
             ],
             [
              0.5555555555555556,
              "#d8576b"
             ],
             [
              0.6666666666666666,
              "#ed7953"
             ],
             [
              0.7777777777777778,
              "#fb9f3a"
             ],
             [
              0.8888888888888888,
              "#fdca26"
             ],
             [
              1,
              "#f0f921"
             ]
            ],
            "type": "histogram2dcontour"
           }
          ],
          "mesh3d": [
           {
            "colorbar": {
             "outlinewidth": 0,
             "ticks": ""
            },
            "type": "mesh3d"
           }
          ],
          "parcoords": [
           {
            "line": {
             "colorbar": {
              "outlinewidth": 0,
              "ticks": ""
             }
            },
            "type": "parcoords"
           }
          ],
          "pie": [
           {
            "automargin": true,
            "type": "pie"
           }
          ],
          "scatter": [
           {
            "fillpattern": {
             "fillmode": "overlay",
             "size": 10,
             "solidity": 0.2
            },
            "type": "scatter"
           }
          ],
          "scatter3d": [
           {
            "line": {
             "colorbar": {
              "outlinewidth": 0,
              "ticks": ""
             }
            },
            "marker": {
             "colorbar": {
              "outlinewidth": 0,
              "ticks": ""
             }
            },
            "type": "scatter3d"
           }
          ],
          "scattercarpet": [
           {
            "marker": {
             "colorbar": {
              "outlinewidth": 0,
              "ticks": ""
             }
            },
            "type": "scattercarpet"
           }
          ],
          "scattergeo": [
           {
            "marker": {
             "colorbar": {
              "outlinewidth": 0,
              "ticks": ""
             }
            },
            "type": "scattergeo"
           }
          ],
          "scattergl": [
           {
            "marker": {
             "colorbar": {
              "outlinewidth": 0,
              "ticks": ""
             }
            },
            "type": "scattergl"
           }
          ],
          "scattermapbox": [
           {
            "marker": {
             "colorbar": {
              "outlinewidth": 0,
              "ticks": ""
             }
            },
            "type": "scattermapbox"
           }
          ],
          "scatterpolar": [
           {
            "marker": {
             "colorbar": {
              "outlinewidth": 0,
              "ticks": ""
             }
            },
            "type": "scatterpolar"
           }
          ],
          "scatterpolargl": [
           {
            "marker": {
             "colorbar": {
              "outlinewidth": 0,
              "ticks": ""
             }
            },
            "type": "scatterpolargl"
           }
          ],
          "scatterternary": [
           {
            "marker": {
             "colorbar": {
              "outlinewidth": 0,
              "ticks": ""
             }
            },
            "type": "scatterternary"
           }
          ],
          "surface": [
           {
            "colorbar": {
             "outlinewidth": 0,
             "ticks": ""
            },
            "colorscale": [
             [
              0,
              "#0d0887"
             ],
             [
              0.1111111111111111,
              "#46039f"
             ],
             [
              0.2222222222222222,
              "#7201a8"
             ],
             [
              0.3333333333333333,
              "#9c179e"
             ],
             [
              0.4444444444444444,
              "#bd3786"
             ],
             [
              0.5555555555555556,
              "#d8576b"
             ],
             [
              0.6666666666666666,
              "#ed7953"
             ],
             [
              0.7777777777777778,
              "#fb9f3a"
             ],
             [
              0.8888888888888888,
              "#fdca26"
             ],
             [
              1,
              "#f0f921"
             ]
            ],
            "type": "surface"
           }
          ],
          "table": [
           {
            "cells": {
             "fill": {
              "color": "#EBF0F8"
             },
             "line": {
              "color": "white"
             }
            },
            "header": {
             "fill": {
              "color": "#C8D4E3"
             },
             "line": {
              "color": "white"
             }
            },
            "type": "table"
           }
          ]
         },
         "layout": {
          "annotationdefaults": {
           "arrowcolor": "#2a3f5f",
           "arrowhead": 0,
           "arrowwidth": 1
          },
          "autotypenumbers": "strict",
          "coloraxis": {
           "colorbar": {
            "outlinewidth": 0,
            "ticks": ""
           }
          },
          "colorscale": {
           "diverging": [
            [
             0,
             "#8e0152"
            ],
            [
             0.1,
             "#c51b7d"
            ],
            [
             0.2,
             "#de77ae"
            ],
            [
             0.3,
             "#f1b6da"
            ],
            [
             0.4,
             "#fde0ef"
            ],
            [
             0.5,
             "#f7f7f7"
            ],
            [
             0.6,
             "#e6f5d0"
            ],
            [
             0.7,
             "#b8e186"
            ],
            [
             0.8,
             "#7fbc41"
            ],
            [
             0.9,
             "#4d9221"
            ],
            [
             1,
             "#276419"
            ]
           ],
           "sequential": [
            [
             0,
             "#0d0887"
            ],
            [
             0.1111111111111111,
             "#46039f"
            ],
            [
             0.2222222222222222,
             "#7201a8"
            ],
            [
             0.3333333333333333,
             "#9c179e"
            ],
            [
             0.4444444444444444,
             "#bd3786"
            ],
            [
             0.5555555555555556,
             "#d8576b"
            ],
            [
             0.6666666666666666,
             "#ed7953"
            ],
            [
             0.7777777777777778,
             "#fb9f3a"
            ],
            [
             0.8888888888888888,
             "#fdca26"
            ],
            [
             1,
             "#f0f921"
            ]
           ],
           "sequentialminus": [
            [
             0,
             "#0d0887"
            ],
            [
             0.1111111111111111,
             "#46039f"
            ],
            [
             0.2222222222222222,
             "#7201a8"
            ],
            [
             0.3333333333333333,
             "#9c179e"
            ],
            [
             0.4444444444444444,
             "#bd3786"
            ],
            [
             0.5555555555555556,
             "#d8576b"
            ],
            [
             0.6666666666666666,
             "#ed7953"
            ],
            [
             0.7777777777777778,
             "#fb9f3a"
            ],
            [
             0.8888888888888888,
             "#fdca26"
            ],
            [
             1,
             "#f0f921"
            ]
           ]
          },
          "colorway": [
           "#636efa",
           "#EF553B",
           "#00cc96",
           "#ab63fa",
           "#FFA15A",
           "#19d3f3",
           "#FF6692",
           "#B6E880",
           "#FF97FF",
           "#FECB52"
          ],
          "font": {
           "color": "#2a3f5f"
          },
          "geo": {
           "bgcolor": "white",
           "lakecolor": "white",
           "landcolor": "#E5ECF6",
           "showlakes": true,
           "showland": true,
           "subunitcolor": "white"
          },
          "hoverlabel": {
           "align": "left"
          },
          "hovermode": "closest",
          "mapbox": {
           "style": "light"
          },
          "paper_bgcolor": "white",
          "plot_bgcolor": "#E5ECF6",
          "polar": {
           "angularaxis": {
            "gridcolor": "white",
            "linecolor": "white",
            "ticks": ""
           },
           "bgcolor": "#E5ECF6",
           "radialaxis": {
            "gridcolor": "white",
            "linecolor": "white",
            "ticks": ""
           }
          },
          "scene": {
           "xaxis": {
            "backgroundcolor": "#E5ECF6",
            "gridcolor": "white",
            "gridwidth": 2,
            "linecolor": "white",
            "showbackground": true,
            "ticks": "",
            "zerolinecolor": "white"
           },
           "yaxis": {
            "backgroundcolor": "#E5ECF6",
            "gridcolor": "white",
            "gridwidth": 2,
            "linecolor": "white",
            "showbackground": true,
            "ticks": "",
            "zerolinecolor": "white"
           },
           "zaxis": {
            "backgroundcolor": "#E5ECF6",
            "gridcolor": "white",
            "gridwidth": 2,
            "linecolor": "white",
            "showbackground": true,
            "ticks": "",
            "zerolinecolor": "white"
           }
          },
          "shapedefaults": {
           "line": {
            "color": "#2a3f5f"
           }
          },
          "ternary": {
           "aaxis": {
            "gridcolor": "white",
            "linecolor": "white",
            "ticks": ""
           },
           "baxis": {
            "gridcolor": "white",
            "linecolor": "white",
            "ticks": ""
           },
           "bgcolor": "#E5ECF6",
           "caxis": {
            "gridcolor": "white",
            "linecolor": "white",
            "ticks": ""
           }
          },
          "title": {
           "x": 0.05
          },
          "xaxis": {
           "automargin": true,
           "gridcolor": "white",
           "linecolor": "white",
           "ticks": "",
           "title": {
            "standoff": 15
           },
           "zerolinecolor": "white",
           "zerolinewidth": 2
          },
          "yaxis": {
           "automargin": true,
           "gridcolor": "white",
           "linecolor": "white",
           "ticks": "",
           "title": {
            "standoff": 15
           },
           "zerolinecolor": "white",
           "zerolinewidth": 2
          }
         }
        }
       }
      },
      "text/html": [
       "<div>                            <div id=\"97fad6e2-6d30-498c-9810-26d3f51f04d4\" class=\"plotly-graph-div\" style=\"height:525px; width:100%;\"></div>            <script type=\"text/javascript\">                require([\"plotly\"], function(Plotly) {                    window.PLOTLYENV=window.PLOTLYENV || {};                                    if (document.getElementById(\"97fad6e2-6d30-498c-9810-26d3f51f04d4\")) {                    Plotly.newPlot(                        \"97fad6e2-6d30-498c-9810-26d3f51f04d4\",                        [{\"coloraxis\":\"coloraxis\",\"geo\":\"geo\",\"hovertemplate\":\"locations=%{location}<br>All sites=%{z}<extra></extra>\",\"locationmode\":\"USA-states\",\"locations\":[\"AL\",\"AK\",\"AZ\",\"AR\",\"CA\",\"CO\",\"CT\",\"DC\",\"DE\",\"FL\",\"GA\",\"HI\",\"ID\",\"IL\",\"IN\",\"IA\",\"KS\",\"KY\",\"LA\",\"ME\",\"MD\",\"MA\",\"MI\",\"MN\",\"MS\",\"MO\",\"MT\",\"NE\",\"NV\",\"NH\",\"NJ\",\"NM\",\"NY\",\"NC\",\"ND\",\"OH\",\"OK\",\"OR\",\"PA\",\"RI\",\"SC\",\"SD\",\"TN\",\"TX\",\"UT\",\"VT\",\"VA\",\"WA\",\"WV\",\"WI\",\"WY\"],\"name\":\"\",\"z\":[30730,3390,41120,18670,192770,28920,23480,7240,3520,162410,61170,8460,10810,74580,40270,20460,16840,30270,28580,10490,35200,42880,61910,34380,18210,37910,7100,11530,17370,9580,56150,11280,123810,67690,4370,74140,23420,26030,88450,7030,33890,5340,43790,139100,13840,4370,47100,44630,12840,37640,3170],\"type\":\"choropleth\"}],                        {\"template\":{\"data\":{\"histogram2dcontour\":[{\"type\":\"histogram2dcontour\",\"colorbar\":{\"outlinewidth\":0,\"ticks\":\"\"},\"colorscale\":[[0.0,\"#0d0887\"],[0.1111111111111111,\"#46039f\"],[0.2222222222222222,\"#7201a8\"],[0.3333333333333333,\"#9c179e\"],[0.4444444444444444,\"#bd3786\"],[0.5555555555555556,\"#d8576b\"],[0.6666666666666666,\"#ed7953\"],[0.7777777777777778,\"#fb9f3a\"],[0.8888888888888888,\"#fdca26\"],[1.0,\"#f0f921\"]]}],\"choropleth\":[{\"type\":\"choropleth\",\"colorbar\":{\"outlinewidth\":0,\"ticks\":\"\"}}],\"histogram2d\":[{\"type\":\"histogram2d\",\"colorbar\":{\"outlinewidth\":0,\"ticks\":\"\"},\"colorscale\":[[0.0,\"#0d0887\"],[0.1111111111111111,\"#46039f\"],[0.2222222222222222,\"#7201a8\"],[0.3333333333333333,\"#9c179e\"],[0.4444444444444444,\"#bd3786\"],[0.5555555555555556,\"#d8576b\"],[0.6666666666666666,\"#ed7953\"],[0.7777777777777778,\"#fb9f3a\"],[0.8888888888888888,\"#fdca26\"],[1.0,\"#f0f921\"]]}],\"heatmap\":[{\"type\":\"heatmap\",\"colorbar\":{\"outlinewidth\":0,\"ticks\":\"\"},\"colorscale\":[[0.0,\"#0d0887\"],[0.1111111111111111,\"#46039f\"],[0.2222222222222222,\"#7201a8\"],[0.3333333333333333,\"#9c179e\"],[0.4444444444444444,\"#bd3786\"],[0.5555555555555556,\"#d8576b\"],[0.6666666666666666,\"#ed7953\"],[0.7777777777777778,\"#fb9f3a\"],[0.8888888888888888,\"#fdca26\"],[1.0,\"#f0f921\"]]}],\"heatmapgl\":[{\"type\":\"heatmapgl\",\"colorbar\":{\"outlinewidth\":0,\"ticks\":\"\"},\"colorscale\":[[0.0,\"#0d0887\"],[0.1111111111111111,\"#46039f\"],[0.2222222222222222,\"#7201a8\"],[0.3333333333333333,\"#9c179e\"],[0.4444444444444444,\"#bd3786\"],[0.5555555555555556,\"#d8576b\"],[0.6666666666666666,\"#ed7953\"],[0.7777777777777778,\"#fb9f3a\"],[0.8888888888888888,\"#fdca26\"],[1.0,\"#f0f921\"]]}],\"contourcarpet\":[{\"type\":\"contourcarpet\",\"colorbar\":{\"outlinewidth\":0,\"ticks\":\"\"}}],\"contour\":[{\"type\":\"contour\",\"colorbar\":{\"outlinewidth\":0,\"ticks\":\"\"},\"colorscale\":[[0.0,\"#0d0887\"],[0.1111111111111111,\"#46039f\"],[0.2222222222222222,\"#7201a8\"],[0.3333333333333333,\"#9c179e\"],[0.4444444444444444,\"#bd3786\"],[0.5555555555555556,\"#d8576b\"],[0.6666666666666666,\"#ed7953\"],[0.7777777777777778,\"#fb9f3a\"],[0.8888888888888888,\"#fdca26\"],[1.0,\"#f0f921\"]]}],\"surface\":[{\"type\":\"surface\",\"colorbar\":{\"outlinewidth\":0,\"ticks\":\"\"},\"colorscale\":[[0.0,\"#0d0887\"],[0.1111111111111111,\"#46039f\"],[0.2222222222222222,\"#7201a8\"],[0.3333333333333333,\"#9c179e\"],[0.4444444444444444,\"#bd3786\"],[0.5555555555555556,\"#d8576b\"],[0.6666666666666666,\"#ed7953\"],[0.7777777777777778,\"#fb9f3a\"],[0.8888888888888888,\"#fdca26\"],[1.0,\"#f0f921\"]]}],\"mesh3d\":[{\"type\":\"mesh3d\",\"colorbar\":{\"outlinewidth\":0,\"ticks\":\"\"}}],\"scatter\":[{\"fillpattern\":{\"fillmode\":\"overlay\",\"size\":10,\"solidity\":0.2},\"type\":\"scatter\"}],\"parcoords\":[{\"type\":\"parcoords\",\"line\":{\"colorbar\":{\"outlinewidth\":0,\"ticks\":\"\"}}}],\"scatterpolargl\":[{\"type\":\"scatterpolargl\",\"marker\":{\"colorbar\":{\"outlinewidth\":0,\"ticks\":\"\"}}}],\"bar\":[{\"error_x\":{\"color\":\"#2a3f5f\"},\"error_y\":{\"color\":\"#2a3f5f\"},\"marker\":{\"line\":{\"color\":\"#E5ECF6\",\"width\":0.5},\"pattern\":{\"fillmode\":\"overlay\",\"size\":10,\"solidity\":0.2}},\"type\":\"bar\"}],\"scattergeo\":[{\"type\":\"scattergeo\",\"marker\":{\"colorbar\":{\"outlinewidth\":0,\"ticks\":\"\"}}}],\"scatterpolar\":[{\"type\":\"scatterpolar\",\"marker\":{\"colorbar\":{\"outlinewidth\":0,\"ticks\":\"\"}}}],\"histogram\":[{\"marker\":{\"pattern\":{\"fillmode\":\"overlay\",\"size\":10,\"solidity\":0.2}},\"type\":\"histogram\"}],\"scattergl\":[{\"type\":\"scattergl\",\"marker\":{\"colorbar\":{\"outlinewidth\":0,\"ticks\":\"\"}}}],\"scatter3d\":[{\"type\":\"scatter3d\",\"line\":{\"colorbar\":{\"outlinewidth\":0,\"ticks\":\"\"}},\"marker\":{\"colorbar\":{\"outlinewidth\":0,\"ticks\":\"\"}}}],\"scattermapbox\":[{\"type\":\"scattermapbox\",\"marker\":{\"colorbar\":{\"outlinewidth\":0,\"ticks\":\"\"}}}],\"scatterternary\":[{\"type\":\"scatterternary\",\"marker\":{\"colorbar\":{\"outlinewidth\":0,\"ticks\":\"\"}}}],\"scattercarpet\":[{\"type\":\"scattercarpet\",\"marker\":{\"colorbar\":{\"outlinewidth\":0,\"ticks\":\"\"}}}],\"carpet\":[{\"aaxis\":{\"endlinecolor\":\"#2a3f5f\",\"gridcolor\":\"white\",\"linecolor\":\"white\",\"minorgridcolor\":\"white\",\"startlinecolor\":\"#2a3f5f\"},\"baxis\":{\"endlinecolor\":\"#2a3f5f\",\"gridcolor\":\"white\",\"linecolor\":\"white\",\"minorgridcolor\":\"white\",\"startlinecolor\":\"#2a3f5f\"},\"type\":\"carpet\"}],\"table\":[{\"cells\":{\"fill\":{\"color\":\"#EBF0F8\"},\"line\":{\"color\":\"white\"}},\"header\":{\"fill\":{\"color\":\"#C8D4E3\"},\"line\":{\"color\":\"white\"}},\"type\":\"table\"}],\"barpolar\":[{\"marker\":{\"line\":{\"color\":\"#E5ECF6\",\"width\":0.5},\"pattern\":{\"fillmode\":\"overlay\",\"size\":10,\"solidity\":0.2}},\"type\":\"barpolar\"}],\"pie\":[{\"automargin\":true,\"type\":\"pie\"}]},\"layout\":{\"autotypenumbers\":\"strict\",\"colorway\":[\"#636efa\",\"#EF553B\",\"#00cc96\",\"#ab63fa\",\"#FFA15A\",\"#19d3f3\",\"#FF6692\",\"#B6E880\",\"#FF97FF\",\"#FECB52\"],\"font\":{\"color\":\"#2a3f5f\"},\"hovermode\":\"closest\",\"hoverlabel\":{\"align\":\"left\"},\"paper_bgcolor\":\"white\",\"plot_bgcolor\":\"#E5ECF6\",\"polar\":{\"bgcolor\":\"#E5ECF6\",\"angularaxis\":{\"gridcolor\":\"white\",\"linecolor\":\"white\",\"ticks\":\"\"},\"radialaxis\":{\"gridcolor\":\"white\",\"linecolor\":\"white\",\"ticks\":\"\"}},\"ternary\":{\"bgcolor\":\"#E5ECF6\",\"aaxis\":{\"gridcolor\":\"white\",\"linecolor\":\"white\",\"ticks\":\"\"},\"baxis\":{\"gridcolor\":\"white\",\"linecolor\":\"white\",\"ticks\":\"\"},\"caxis\":{\"gridcolor\":\"white\",\"linecolor\":\"white\",\"ticks\":\"\"}},\"coloraxis\":{\"colorbar\":{\"outlinewidth\":0,\"ticks\":\"\"}},\"colorscale\":{\"sequential\":[[0.0,\"#0d0887\"],[0.1111111111111111,\"#46039f\"],[0.2222222222222222,\"#7201a8\"],[0.3333333333333333,\"#9c179e\"],[0.4444444444444444,\"#bd3786\"],[0.5555555555555556,\"#d8576b\"],[0.6666666666666666,\"#ed7953\"],[0.7777777777777778,\"#fb9f3a\"],[0.8888888888888888,\"#fdca26\"],[1.0,\"#f0f921\"]],\"sequentialminus\":[[0.0,\"#0d0887\"],[0.1111111111111111,\"#46039f\"],[0.2222222222222222,\"#7201a8\"],[0.3333333333333333,\"#9c179e\"],[0.4444444444444444,\"#bd3786\"],[0.5555555555555556,\"#d8576b\"],[0.6666666666666666,\"#ed7953\"],[0.7777777777777778,\"#fb9f3a\"],[0.8888888888888888,\"#fdca26\"],[1.0,\"#f0f921\"]],\"diverging\":[[0,\"#8e0152\"],[0.1,\"#c51b7d\"],[0.2,\"#de77ae\"],[0.3,\"#f1b6da\"],[0.4,\"#fde0ef\"],[0.5,\"#f7f7f7\"],[0.6,\"#e6f5d0\"],[0.7,\"#b8e186\"],[0.8,\"#7fbc41\"],[0.9,\"#4d9221\"],[1,\"#276419\"]]},\"xaxis\":{\"gridcolor\":\"white\",\"linecolor\":\"white\",\"ticks\":\"\",\"title\":{\"standoff\":15},\"zerolinecolor\":\"white\",\"automargin\":true,\"zerolinewidth\":2},\"yaxis\":{\"gridcolor\":\"white\",\"linecolor\":\"white\",\"ticks\":\"\",\"title\":{\"standoff\":15},\"zerolinecolor\":\"white\",\"automargin\":true,\"zerolinewidth\":2},\"scene\":{\"xaxis\":{\"backgroundcolor\":\"#E5ECF6\",\"gridcolor\":\"white\",\"linecolor\":\"white\",\"showbackground\":true,\"ticks\":\"\",\"zerolinecolor\":\"white\",\"gridwidth\":2},\"yaxis\":{\"backgroundcolor\":\"#E5ECF6\",\"gridcolor\":\"white\",\"linecolor\":\"white\",\"showbackground\":true,\"ticks\":\"\",\"zerolinecolor\":\"white\",\"gridwidth\":2},\"zaxis\":{\"backgroundcolor\":\"#E5ECF6\",\"gridcolor\":\"white\",\"linecolor\":\"white\",\"showbackground\":true,\"ticks\":\"\",\"zerolinecolor\":\"white\",\"gridwidth\":2}},\"shapedefaults\":{\"line\":{\"color\":\"#2a3f5f\"}},\"annotationdefaults\":{\"arrowcolor\":\"#2a3f5f\",\"arrowhead\":0,\"arrowwidth\":1},\"geo\":{\"bgcolor\":\"white\",\"landcolor\":\"#E5ECF6\",\"subunitcolor\":\"white\",\"showland\":true,\"showlakes\":true,\"lakecolor\":\"white\"},\"title\":{\"x\":0.05},\"mapbox\":{\"style\":\"light\"}}},\"geo\":{\"domain\":{\"x\":[0.0,1.0],\"y\":[0.0,1.0]},\"center\":{},\"scope\":\"usa\"},\"coloraxis\":{\"colorbar\":{\"title\":{\"text\":\"All sites\"}},\"colorscale\":[[0.0,\"#440154\"],[0.1111111111111111,\"#482878\"],[0.2222222222222222,\"#3e4989\"],[0.3333333333333333,\"#31688e\"],[0.4444444444444444,\"#26828e\"],[0.5555555555555556,\"#1f9e89\"],[0.6666666666666666,\"#35b779\"],[0.7777777777777778,\"#6ece58\"],[0.8888888888888888,\"#b5de2b\"],[1.0,\"#fde725\"]]},\"legend\":{\"tracegroupgap\":0},\"margin\":{\"t\":60}},                        {\"responsive\": true}                    ).then(function(){\n",
       "                            \n",
       "var gd = document.getElementById('97fad6e2-6d30-498c-9810-26d3f51f04d4');\n",
       "var x = new MutationObserver(function (mutations, observer) {{\n",
       "        var display = window.getComputedStyle(gd).display;\n",
       "        if (!display || display === 'none') {{\n",
       "            console.log([gd, 'removed!']);\n",
       "            Plotly.purge(gd);\n",
       "            observer.disconnect();\n",
       "        }}\n",
       "}});\n",
       "\n",
       "// Listen for the removal of the full notebook cells\n",
       "var notebookContainer = gd.closest('#notebook-container');\n",
       "if (notebookContainer) {{\n",
       "    x.observe(notebookContainer, {childList: true});\n",
       "}}\n",
       "\n",
       "// Listen for the clearing of the current output cell\n",
       "var outputEl = gd.closest('.output');\n",
       "if (outputEl) {{\n",
       "    x.observe(outputEl, {childList: true});\n",
       "}}\n",
       "\n",
       "                        })                };                });            </script>        </div>"
      ]
     },
     "metadata": {},
     "output_type": "display_data"
    }
   ],
   "source": [
    "#heatmap for number of cancer per state\n",
    "fig = px.choropleth(states, locations=code,\n",
    "                    locationmode=\"USA-states\", color='All sites',color_continuous_scale=\"Sunsetdark\", scope=\"usa\")\n",
    "#on click of state goes to heatmap for that state and its county\n",
    "fig.show()"
   ]
  },
  {
   "cell_type": "code",
   "execution_count": 13,
   "metadata": {},
   "outputs": [],
   "source": [
    "#https://cancerstatisticscenter.cancer.org/#!/state/New%20York"
   ]
  },
  {
   "cell_type": "markdown",
   "metadata": {},
   "source": [
    "# Annual Cancer per County in NY "
   ]
  },
  {
   "cell_type": "code",
   "execution_count": 6,
   "metadata": {},
   "outputs": [],
   "source": [
    "#read in pdf of annual cancer cases per county in nys\n",
    "df=tabula.read_pdf(\"newyork/volume1.pdf\", pages=\"all\")  \n",
    "#pages of pdfs\n",
    "c=[3,4,5,6,7,8,35,54]\n"
   ]
  },
  {
   "cell_type": "code",
   "execution_count": 7,
   "metadata": {},
   "outputs": [],
   "source": [
    "#assigns name to var\n",
    "def na(i):\n",
    "    if(i==3):\n",
    "        name='Bronx'\n",
    "    elif(i==4):\n",
    "        name='Brooklyn'\n",
    "    elif(i==5):\n",
    "        name='Manhattan'\n",
    "    elif(i==6):\n",
    "        name='Queens'\n",
    "    elif(i==7):\n",
    "        name='Staten Island'\n",
    "    elif(i==8):\n",
    "        name='Albany'\n",
    "    elif(i==35):\n",
    "        name='Nassau'\n",
    "    elif(i==54):\n",
    "            name='Suffolk'\n",
    "    return name\n"
   ]
  },
  {
   "cell_type": "code",
   "execution_count": 8,
   "metadata": {},
   "outputs": [],
   "source": [
    "#extracts data for given borough, i\n",
    "def extract(i):\n",
    "    name=na(i)\n",
    "    nys=df[i].iloc[:, [0, 1]]\n",
    "    nys=nys[3:]\n",
    "    nys.columns = nys.iloc[0]\n",
    "    nys = nys[1:]\n",
    "    nys.rename(columns={nys.columns[1]: name},inplace=True)\n",
    "    site=nys.iloc[:, [0]]\n",
    "    nys=nys[name].str.split(' ', expand=True)\n",
    "    nys['Site of Cancer']=site\n",
    "    del nys[1]\n",
    "    del nys[2]\n",
    "    nys=nys.rename(columns={0:name})\n",
    "    first_column = nys.pop('Site of Cancer')\n",
    "    nys.insert(0, 'Site of Cancer', first_column)\n",
    "    return nys\n",
    "        \n",
    "        \n",
    "            "
   ]
  },
  {
   "cell_type": "code",
   "execution_count": 9,
   "metadata": {},
   "outputs": [],
   "source": [
    "#extracts data for females for given borough, i\n",
    "def female(i):\n",
    "    name=na(i)\n",
    "    nys=df[i].iloc[:, [0, 5]]\n",
    "    nys=nys[3:]\n",
    "    nys.columns = nys.iloc[0]\n",
    "    nys = nys[1:]\n",
    "    nys.rename(columns={nys.columns[1]: name},inplace=True)\n",
    "    site=nys.iloc[:, [0]]\n",
    "    nys=nys[name].str.split(' ', expand=True)\n",
    "    nys['Site of Cancer']=site\n",
    "    #del nys[1]\n",
    "\n",
    "    nys=nys.rename(columns={0:name})\n",
    "    first_column = nys.pop('Site of Cancer')\n",
    "    nys.insert(0, 'Site of Cancer', first_column)\n",
    "    return nys"
   ]
  },
  {
   "cell_type": "code",
   "execution_count": 10,
   "metadata": {},
   "outputs": [],
   "source": [
    "#extracts data for males for given borough, i\n",
    "def male(i):\n",
    "    name=na(i)\n",
    "    nys=df[i].iloc[:, [0, 2]]\n",
    "    nys=nys[3:]\n",
    "    nys.columns = nys.iloc[0]\n",
    "    nys = nys[1:]\n",
    "    nys.rename(columns={nys.columns[1]: name},inplace=True)\n",
    "    site=nys.iloc[:, [0]]\n",
    "    nys=nys[name].str.split(' ', expand=True)\n",
    "    nys['Site of Cancer']=site\n",
    "    #del nys[1]\n",
    "\n",
    "    nys=nys.rename(columns={0:name})\n",
    "    first_column = nys.pop('Site of Cancer')\n",
    "    nys.insert(0, 'Site of Cancer', first_column)\n",
    "    return nys"
   ]
  },
  {
   "cell_type": "markdown",
   "metadata": {},
   "source": [
    "## M&F County extraction"
   ]
  },
  {
   "cell_type": "code",
   "execution_count": 11,
   "metadata": {},
   "outputs": [],
   "source": [
    "#male and female\n",
    "\n",
    "b=extract(3)\n",
    "br=extract(4)\n",
    "m=extract(5)\n",
    "q=extract(6)\n",
    "s=extract(7)\n",
    "a=extract(8)\n",
    "n=extract(35)\n",
    "su=extract(54)\n",
    "\n",
    "county=pd.merge(b, br, on=['Site of Cancer'])\n",
    "county=pd.merge(county, m, on=['Site of Cancer'])\n",
    "county=pd.merge(county, q, on=['Site of Cancer'])\n",
    "county=pd.merge(county, s, on=['Site of Cancer'])\n",
    "county=pd.merge(county, a, on=['Site of Cancer'])\n",
    "county=pd.merge(county, n, on=['Site of Cancer'])\n",
    "county=pd.merge(county, su, on=['Site of Cancer'])\n",
    "\n",
    "#avg annual cancer cases\n",
    "county=county.drop(index=[12,13,14,15,16,17])"
   ]
  },
  {
   "cell_type": "markdown",
   "metadata": {},
   "source": [
    "## Female County extraction"
   ]
  },
  {
   "cell_type": "code",
   "execution_count": 12,
   "metadata": {},
   "outputs": [],
   "source": [
    "#just female\n",
    "\n",
    "b=female(3)\n",
    "br=female(4)\n",
    "m=female(5)\n",
    "q=female(6)\n",
    "s=female(7)\n",
    "a=female(8)\n",
    "n=female(35)\n",
    "su=female(54)\n",
    "\n",
    "f_county=pd.merge(b, br, on=['Site of Cancer'])\n",
    "f_county=pd.merge(f_county, m, on=['Site of Cancer'])\n",
    "f_county=pd.merge(f_county, q, on=['Site of Cancer'])\n",
    "f_county=pd.merge(f_county, s, on=['Site of Cancer'])\n",
    "f_county=pd.merge(f_county, a, on=['Site of Cancer'])\n",
    "f_county=pd.merge(f_county, n, on=['Site of Cancer'])\n",
    "f_county=pd.merge(f_county, su, on=['Site of Cancer'])\n",
    "\n",
    "#avg annual cancer cases\n",
    "f_county=f_county.drop(index=[16,17])"
   ]
  },
  {
   "cell_type": "markdown",
   "metadata": {},
   "source": [
    "## Male County extraction"
   ]
  },
  {
   "cell_type": "code",
   "execution_count": 13,
   "metadata": {},
   "outputs": [],
   "source": [
    "#just male\n",
    "\n",
    "b=male(3)\n",
    "br=male(4)\n",
    "m=male(5)\n",
    "q=male(6)\n",
    "s=male(7)\n",
    "a=male(8)\n",
    "n=male(35)\n",
    "su=male(54)\n",
    "\n",
    "m_county=pd.merge(b, br, on=['Site of Cancer'])\n",
    "m_county=pd.merge(m_county, m, on=['Site of Cancer'])\n",
    "m_county=pd.merge(m_county, q, on=['Site of Cancer'])\n",
    "m_county=pd.merge(m_county, s, on=['Site of Cancer'])\n",
    "m_county=pd.merge(m_county, a, on=['Site of Cancer'])\n",
    "m_county=pd.merge(m_county, n, on=['Site of Cancer'])\n",
    "m_county=pd.merge(m_county, su, on=['Site of Cancer'])\n",
    "\n",
    "#avg annual cancer cases\n",
    "m_county=m_county.drop(index=[12,13,14,15])"
   ]
  },
  {
   "cell_type": "code",
   "execution_count": 24,
   "metadata": {},
   "outputs": [],
   "source": [
    "# locate male and female dfs"
   ]
  },
  {
   "cell_type": "code",
   "execution_count": 14,
   "metadata": {},
   "outputs": [
    {
     "data": {
      "text/html": [
       "<div>\n",
       "<style scoped>\n",
       "    .dataframe tbody tr th:only-of-type {\n",
       "        vertical-align: middle;\n",
       "    }\n",
       "\n",
       "    .dataframe tbody tr th {\n",
       "        vertical-align: top;\n",
       "    }\n",
       "\n",
       "    .dataframe thead th {\n",
       "        text-align: right;\n",
       "    }\n",
       "</style>\n",
       "<table border=\"1\" class=\"dataframe\">\n",
       "  <thead>\n",
       "    <tr style=\"text-align: right;\">\n",
       "      <th></th>\n",
       "      <th>Site of Cancer</th>\n",
       "      <th>Bronx</th>\n",
       "      <th>Brooklyn</th>\n",
       "      <th>Manhattan</th>\n",
       "      <th>Queens</th>\n",
       "      <th>Staten Island</th>\n",
       "      <th>Albany</th>\n",
       "      <th>Nassau</th>\n",
       "      <th>Suffolk</th>\n",
       "    </tr>\n",
       "  </thead>\n",
       "  <tbody>\n",
       "    <tr>\n",
       "      <th>0</th>\n",
       "      <td>All Invasive Malignant Tumors</td>\n",
       "      <td>6,325.0</td>\n",
       "      <td>12,018.8</td>\n",
       "      <td>8,601.8</td>\n",
       "      <td>11,454.4</td>\n",
       "      <td>3,041.6</td>\n",
       "      <td>1,986.4</td>\n",
       "      <td>8,934.0</td>\n",
       "      <td>9,997.2</td>\n",
       "    </tr>\n",
       "    <tr>\n",
       "      <th>1</th>\n",
       "      <td>Oral cavity and pharynx</td>\n",
       "      <td>150.4</td>\n",
       "      <td>254.8</td>\n",
       "      <td>217.0</td>\n",
       "      <td>249.0</td>\n",
       "      <td>60.4</td>\n",
       "      <td>57.6</td>\n",
       "      <td>195.4</td>\n",
       "      <td>237.4</td>\n",
       "    </tr>\n",
       "    <tr>\n",
       "      <th>2</th>\n",
       "      <td>Esophagus</td>\n",
       "      <td>48.0</td>\n",
       "      <td>83.8</td>\n",
       "      <td>63.8</td>\n",
       "      <td>92.0</td>\n",
       "      <td>28.4</td>\n",
       "      <td>22.6</td>\n",
       "      <td>71.0</td>\n",
       "      <td>89.2</td>\n",
       "    </tr>\n",
       "    <tr>\n",
       "      <th>3</th>\n",
       "      <td>Stomach</td>\n",
       "      <td>144.8</td>\n",
       "      <td>301.8</td>\n",
       "      <td>142.8</td>\n",
       "      <td>324.4</td>\n",
       "      <td>47.0</td>\n",
       "      <td>28.0</td>\n",
       "      <td>150.4</td>\n",
       "      <td>146.6</td>\n",
       "    </tr>\n",
       "    <tr>\n",
       "      <th>4</th>\n",
       "      <td>Colorectal</td>\n",
       "      <td>521.2</td>\n",
       "      <td>1,047.2</td>\n",
       "      <td>614.6</td>\n",
       "      <td>1,000.2</td>\n",
       "      <td>240.6</td>\n",
       "      <td>140.0</td>\n",
       "      <td>660.4</td>\n",
       "      <td>755.2</td>\n",
       "    </tr>\n",
       "    <tr>\n",
       "      <th>5</th>\n",
       "      <td>Colon excluding rectum</td>\n",
       "      <td>365.4</td>\n",
       "      <td>740.8</td>\n",
       "      <td>421.4</td>\n",
       "      <td>705.2</td>\n",
       "      <td>177.4</td>\n",
       "      <td>102.2</td>\n",
       "      <td>480.8</td>\n",
       "      <td>535.4</td>\n",
       "    </tr>\n",
       "    <tr>\n",
       "      <th>6</th>\n",
       "      <td>Rectum &amp; rectosigmoid</td>\n",
       "      <td>155.8</td>\n",
       "      <td>306.4</td>\n",
       "      <td>193.2</td>\n",
       "      <td>295.0</td>\n",
       "      <td>63.2</td>\n",
       "      <td>37.8</td>\n",
       "      <td>179.6</td>\n",
       "      <td>219.8</td>\n",
       "    </tr>\n",
       "    <tr>\n",
       "      <th>7</th>\n",
       "      <td>Liver / intrahepatic bile duct</td>\n",
       "      <td>218.2</td>\n",
       "      <td>276.4</td>\n",
       "      <td>197.0</td>\n",
       "      <td>275.4</td>\n",
       "      <td>65.2</td>\n",
       "      <td>37.8</td>\n",
       "      <td>121.4</td>\n",
       "      <td>155.6</td>\n",
       "    </tr>\n",
       "    <tr>\n",
       "      <th>8</th>\n",
       "      <td>Pancreas</td>\n",
       "      <td>200.8</td>\n",
       "      <td>384.6</td>\n",
       "      <td>263.2</td>\n",
       "      <td>369.2</td>\n",
       "      <td>94.2</td>\n",
       "      <td>64.0</td>\n",
       "      <td>299.4</td>\n",
       "      <td>315.2</td>\n",
       "    </tr>\n",
       "    <tr>\n",
       "      <th>9</th>\n",
       "      <td>Larynx</td>\n",
       "      <td>55.4</td>\n",
       "      <td>65.8</td>\n",
       "      <td>44.0</td>\n",
       "      <td>60.6</td>\n",
       "      <td>17.6</td>\n",
       "      <td>12.8</td>\n",
       "      <td>45.4</td>\n",
       "      <td>58.0</td>\n",
       "    </tr>\n",
       "    <tr>\n",
       "      <th>10</th>\n",
       "      <td>Lung and bronchus</td>\n",
       "      <td>644.4</td>\n",
       "      <td>1,209.0</td>\n",
       "      <td>882.4</td>\n",
       "      <td>1,190.4</td>\n",
       "      <td>384.8</td>\n",
       "      <td>277.6</td>\n",
       "      <td>951.0</td>\n",
       "      <td>1,249.6</td>\n",
       "    </tr>\n",
       "    <tr>\n",
       "      <th>11</th>\n",
       "      <td>Melanoma of the skin</td>\n",
       "      <td>58.4</td>\n",
       "      <td>230.2</td>\n",
       "      <td>340.2</td>\n",
       "      <td>198.4</td>\n",
       "      <td>84.2</td>\n",
       "      <td>87.0</td>\n",
       "      <td>389.6</td>\n",
       "      <td>474.4</td>\n",
       "    </tr>\n",
       "    <tr>\n",
       "      <th>18</th>\n",
       "      <td>Urinary bladder (incl. in situ)</td>\n",
       "      <td>193.4</td>\n",
       "      <td>427.8</td>\n",
       "      <td>345.0</td>\n",
       "      <td>431.6</td>\n",
       "      <td>144.4</td>\n",
       "      <td>99.8</td>\n",
       "      <td>441.8</td>\n",
       "      <td>522.0</td>\n",
       "    </tr>\n",
       "    <tr>\n",
       "      <th>19</th>\n",
       "      <td>Kidney and renal pelvis</td>\n",
       "      <td>226.8</td>\n",
       "      <td>404.0</td>\n",
       "      <td>238.0</td>\n",
       "      <td>393.8</td>\n",
       "      <td>126.0</td>\n",
       "      <td>76.0</td>\n",
       "      <td>312.4</td>\n",
       "      <td>366.0</td>\n",
       "    </tr>\n",
       "    <tr>\n",
       "      <th>20</th>\n",
       "      <td>Brain and other central nervous system</td>\n",
       "      <td>75.4</td>\n",
       "      <td>164.4</td>\n",
       "      <td>117.2</td>\n",
       "      <td>132.2</td>\n",
       "      <td>36.4</td>\n",
       "      <td>21.8</td>\n",
       "      <td>113.6</td>\n",
       "      <td>124.6</td>\n",
       "    </tr>\n",
       "    <tr>\n",
       "      <th>21</th>\n",
       "      <td>Thyroid</td>\n",
       "      <td>203.8</td>\n",
       "      <td>543.0</td>\n",
       "      <td>326.4</td>\n",
       "      <td>492.4</td>\n",
       "      <td>164.4</td>\n",
       "      <td>53.0</td>\n",
       "      <td>333.6</td>\n",
       "      <td>342.8</td>\n",
       "    </tr>\n",
       "    <tr>\n",
       "      <th>22</th>\n",
       "      <td>Hodgkin lymphoma</td>\n",
       "      <td>41.2</td>\n",
       "      <td>82.0</td>\n",
       "      <td>51.0</td>\n",
       "      <td>60.8</td>\n",
       "      <td>16.0</td>\n",
       "      <td>8.6</td>\n",
       "      <td>50.0</td>\n",
       "      <td>53.8</td>\n",
       "    </tr>\n",
       "    <tr>\n",
       "      <th>23</th>\n",
       "      <td>Non-Hodgkin lymphomas</td>\n",
       "      <td>277.2</td>\n",
       "      <td>511.4</td>\n",
       "      <td>424.8</td>\n",
       "      <td>492.6</td>\n",
       "      <td>138.4</td>\n",
       "      <td>85.2</td>\n",
       "      <td>401.2</td>\n",
       "      <td>427.8</td>\n",
       "    </tr>\n",
       "    <tr>\n",
       "      <th>24</th>\n",
       "      <td>Myeloma</td>\n",
       "      <td>171.4</td>\n",
       "      <td>248.6</td>\n",
       "      <td>155.2</td>\n",
       "      <td>216.0</td>\n",
       "      <td>55.0</td>\n",
       "      <td>33.0</td>\n",
       "      <td>152.4</td>\n",
       "      <td>160.0</td>\n",
       "    </tr>\n",
       "    <tr>\n",
       "      <th>25</th>\n",
       "      <td>Leukemias</td>\n",
       "      <td>178.0</td>\n",
       "      <td>351.2</td>\n",
       "      <td>274.4</td>\n",
       "      <td>341.4</td>\n",
       "      <td>98.2</td>\n",
       "      <td>64.6</td>\n",
       "      <td>293.4</td>\n",
       "      <td>356.8</td>\n",
       "    </tr>\n",
       "  </tbody>\n",
       "</table>\n",
       "</div>"
      ],
      "text/plain": [
       "                            Site of Cancer    Bronx  Brooklyn Manhattan  \\\n",
       "0            All Invasive Malignant Tumors  6,325.0  12,018.8   8,601.8   \n",
       "1                  Oral cavity and pharynx    150.4     254.8     217.0   \n",
       "2                                Esophagus     48.0      83.8      63.8   \n",
       "3                                  Stomach    144.8     301.8     142.8   \n",
       "4                               Colorectal    521.2   1,047.2     614.6   \n",
       "5                   Colon excluding rectum    365.4     740.8     421.4   \n",
       "6                    Rectum & rectosigmoid    155.8     306.4     193.2   \n",
       "7           Liver / intrahepatic bile duct    218.2     276.4     197.0   \n",
       "8                                 Pancreas    200.8     384.6     263.2   \n",
       "9                                   Larynx     55.4      65.8      44.0   \n",
       "10                       Lung and bronchus    644.4   1,209.0     882.4   \n",
       "11                    Melanoma of the skin     58.4     230.2     340.2   \n",
       "18         Urinary bladder (incl. in situ)    193.4     427.8     345.0   \n",
       "19                 Kidney and renal pelvis    226.8     404.0     238.0   \n",
       "20  Brain and other central nervous system     75.4     164.4     117.2   \n",
       "21                                 Thyroid    203.8     543.0     326.4   \n",
       "22                        Hodgkin lymphoma     41.2      82.0      51.0   \n",
       "23                   Non-Hodgkin lymphomas    277.2     511.4     424.8   \n",
       "24                                 Myeloma    171.4     248.6     155.2   \n",
       "25                               Leukemias    178.0     351.2     274.4   \n",
       "\n",
       "      Queens Staten Island   Albany   Nassau  Suffolk  \n",
       "0   11,454.4       3,041.6  1,986.4  8,934.0  9,997.2  \n",
       "1      249.0          60.4     57.6    195.4    237.4  \n",
       "2       92.0          28.4     22.6     71.0     89.2  \n",
       "3      324.4          47.0     28.0    150.4    146.6  \n",
       "4    1,000.2         240.6    140.0    660.4    755.2  \n",
       "5      705.2         177.4    102.2    480.8    535.4  \n",
       "6      295.0          63.2     37.8    179.6    219.8  \n",
       "7      275.4          65.2     37.8    121.4    155.6  \n",
       "8      369.2          94.2     64.0    299.4    315.2  \n",
       "9       60.6          17.6     12.8     45.4     58.0  \n",
       "10   1,190.4         384.8    277.6    951.0  1,249.6  \n",
       "11     198.4          84.2     87.0    389.6    474.4  \n",
       "18     431.6         144.4     99.8    441.8    522.0  \n",
       "19     393.8         126.0     76.0    312.4    366.0  \n",
       "20     132.2          36.4     21.8    113.6    124.6  \n",
       "21     492.4         164.4     53.0    333.6    342.8  \n",
       "22      60.8          16.0      8.6     50.0     53.8  \n",
       "23     492.6         138.4     85.2    401.2    427.8  \n",
       "24     216.0          55.0     33.0    152.4    160.0  \n",
       "25     341.4          98.2     64.6    293.4    356.8  "
      ]
     },
     "execution_count": 14,
     "metadata": {},
     "output_type": "execute_result"
    }
   ],
   "source": [
    "county"
   ]
  },
  {
   "cell_type": "markdown",
   "metadata": {},
   "source": [
    "## Male and Female Populations per County"
   ]
  },
  {
   "cell_type": "code",
   "execution_count": 15,
   "metadata": {},
   "outputs": [],
   "source": [
    "#uses beautiful soup package to go through website and extract out table\n",
    "#appends data to list\n",
    "url='https://www.health.ny.gov/statistics/cancer/registry/appendix/countypop.htm'\n",
    "data=[]\n",
    "async with async_playwright() as p:\n",
    "    browser = await p.chromium.launch(headless=False)\n",
    "    page = await browser.new_page()\n",
    "    await page.goto(url)\n",
    "    time.sleep(6)\n",
    "    html = await page.content()\n",
    "    soup = bs(html, 'html.parser')\n",
    "    #print(soup)\n",
    "    for d in soup.find_all('div',{'id':\"content\"}):\n",
    "        table = d.find('table', attrs={'class':'light_table right'})\n",
    "        table_body = table.find('tbody')\n",
    "        rows = table_body.find_all('tr')\n",
    "        for row in rows:\n",
    "            cols = row.find_all('td')\n",
    "            cols = [ele.text.strip() for ele in cols]\n",
    "            data.append([ele for ele in cols if ele]) # Get rid of empty values\n"
   ]
  },
  {
   "cell_type": "code",
   "execution_count": 18,
   "metadata": {},
   "outputs": [],
   "source": [
    "#slice list\n",
    "d1=data[3:9]\n",
    "d1.append(data[35])\n",
    "d1.append(data[54])"
   ]
  },
  {
   "cell_type": "code",
   "execution_count": 19,
   "metadata": {},
   "outputs": [],
   "source": [
    "#list of boroughs\n",
    "names=['Bronx','Brooklyn','Manhattan','Queens','Staten Island', 'Albany','Nassau','Suffolk']"
   ]
  },
  {
   "cell_type": "code",
   "execution_count": 20,
   "metadata": {},
   "outputs": [],
   "source": [
    "#converts list to dataframe\n",
    "pop= pd.DataFrame (d1, columns = ['Males','Female','Total Population'])"
   ]
  },
  {
   "cell_type": "code",
   "execution_count": 21,
   "metadata": {},
   "outputs": [],
   "source": [
    "#assign list to column in dataframe\n",
    "pop['Counties']=names"
   ]
  },
  {
   "cell_type": "code",
   "execution_count": 22,
   "metadata": {},
   "outputs": [],
   "source": [
    "#replace columns chars w another char and convert to type int\n",
    "pop['Males'] = pop['Males'].str.replace(',', '').astype(int)\n",
    "pop['Female'] = pop['Female'].str.replace(',', '').astype(int)\n",
    "pop['Total Population'] = pop['Total Population'].str.replace(',', '').astype(int)\n",
    "#pop['Males']=pop['Males'].astype(float)"
   ]
  },
  {
   "cell_type": "code",
   "execution_count": 23,
   "metadata": {},
   "outputs": [],
   "source": [
    "#sort values in column by descending\n",
    "pop=pop.sort_values('Total Population', ascending=False)"
   ]
  },
  {
   "cell_type": "markdown",
   "metadata": {},
   "source": [
    "### Bar Graph of Population"
   ]
  },
  {
   "cell_type": "code",
   "execution_count": 25,
   "metadata": {},
   "outputs": [
    {
     "data": {
      "application/vnd.plotly.v1+json": {
       "config": {
        "plotlyServerURL": "https://plot.ly"
       },
       "data": [
        {
         "name": "Male",
         "type": "bar",
         "x": [
          "Brooklyn",
          "Queens",
          "Manhattan",
          "Suffolk",
          "Bronx",
          "Nassau",
          "Staten Island",
          "Albany"
         ],
         "y": [
          1221062,
          1106394,
          766895,
          736655,
          667558,
          655431,
          228142,
          148288
         ]
        },
        {
         "name": "Female",
         "type": "bar",
         "x": [
          "Brooklyn",
          "Queens",
          "Manhattan",
          "Suffolk",
          "Bronx",
          "Nassau",
          "Staten Island",
          "Albany"
         ],
         "y": [
          1360446,
          1177097,
          859251,
          759518,
          752341,
          696200,
          243377,
          158078
         ]
        },
        {
         "name": "Total Population",
         "type": "bar",
         "x": [
          "Brooklyn",
          "Queens",
          "Manhattan",
          "Suffolk",
          "Bronx",
          "Nassau",
          "Staten Island",
          "Albany"
         ],
         "y": [
          2581508,
          2283491,
          1626146,
          1496173,
          1419899,
          1351631,
          471519,
          306366
         ]
        }
       ],
       "layout": {
        "template": {
         "data": {
          "bar": [
           {
            "error_x": {
             "color": "#2a3f5f"
            },
            "error_y": {
             "color": "#2a3f5f"
            },
            "marker": {
             "line": {
              "color": "#E5ECF6",
              "width": 0.5
             },
             "pattern": {
              "fillmode": "overlay",
              "size": 10,
              "solidity": 0.2
             }
            },
            "type": "bar"
           }
          ],
          "barpolar": [
           {
            "marker": {
             "line": {
              "color": "#E5ECF6",
              "width": 0.5
             },
             "pattern": {
              "fillmode": "overlay",
              "size": 10,
              "solidity": 0.2
             }
            },
            "type": "barpolar"
           }
          ],
          "carpet": [
           {
            "aaxis": {
             "endlinecolor": "#2a3f5f",
             "gridcolor": "white",
             "linecolor": "white",
             "minorgridcolor": "white",
             "startlinecolor": "#2a3f5f"
            },
            "baxis": {
             "endlinecolor": "#2a3f5f",
             "gridcolor": "white",
             "linecolor": "white",
             "minorgridcolor": "white",
             "startlinecolor": "#2a3f5f"
            },
            "type": "carpet"
           }
          ],
          "choropleth": [
           {
            "colorbar": {
             "outlinewidth": 0,
             "ticks": ""
            },
            "type": "choropleth"
           }
          ],
          "contour": [
           {
            "colorbar": {
             "outlinewidth": 0,
             "ticks": ""
            },
            "colorscale": [
             [
              0,
              "#0d0887"
             ],
             [
              0.1111111111111111,
              "#46039f"
             ],
             [
              0.2222222222222222,
              "#7201a8"
             ],
             [
              0.3333333333333333,
              "#9c179e"
             ],
             [
              0.4444444444444444,
              "#bd3786"
             ],
             [
              0.5555555555555556,
              "#d8576b"
             ],
             [
              0.6666666666666666,
              "#ed7953"
             ],
             [
              0.7777777777777778,
              "#fb9f3a"
             ],
             [
              0.8888888888888888,
              "#fdca26"
             ],
             [
              1,
              "#f0f921"
             ]
            ],
            "type": "contour"
           }
          ],
          "contourcarpet": [
           {
            "colorbar": {
             "outlinewidth": 0,
             "ticks": ""
            },
            "type": "contourcarpet"
           }
          ],
          "heatmap": [
           {
            "colorbar": {
             "outlinewidth": 0,
             "ticks": ""
            },
            "colorscale": [
             [
              0,
              "#0d0887"
             ],
             [
              0.1111111111111111,
              "#46039f"
             ],
             [
              0.2222222222222222,
              "#7201a8"
             ],
             [
              0.3333333333333333,
              "#9c179e"
             ],
             [
              0.4444444444444444,
              "#bd3786"
             ],
             [
              0.5555555555555556,
              "#d8576b"
             ],
             [
              0.6666666666666666,
              "#ed7953"
             ],
             [
              0.7777777777777778,
              "#fb9f3a"
             ],
             [
              0.8888888888888888,
              "#fdca26"
             ],
             [
              1,
              "#f0f921"
             ]
            ],
            "type": "heatmap"
           }
          ],
          "heatmapgl": [
           {
            "colorbar": {
             "outlinewidth": 0,
             "ticks": ""
            },
            "colorscale": [
             [
              0,
              "#0d0887"
             ],
             [
              0.1111111111111111,
              "#46039f"
             ],
             [
              0.2222222222222222,
              "#7201a8"
             ],
             [
              0.3333333333333333,
              "#9c179e"
             ],
             [
              0.4444444444444444,
              "#bd3786"
             ],
             [
              0.5555555555555556,
              "#d8576b"
             ],
             [
              0.6666666666666666,
              "#ed7953"
             ],
             [
              0.7777777777777778,
              "#fb9f3a"
             ],
             [
              0.8888888888888888,
              "#fdca26"
             ],
             [
              1,
              "#f0f921"
             ]
            ],
            "type": "heatmapgl"
           }
          ],
          "histogram": [
           {
            "marker": {
             "pattern": {
              "fillmode": "overlay",
              "size": 10,
              "solidity": 0.2
             }
            },
            "type": "histogram"
           }
          ],
          "histogram2d": [
           {
            "colorbar": {
             "outlinewidth": 0,
             "ticks": ""
            },
            "colorscale": [
             [
              0,
              "#0d0887"
             ],
             [
              0.1111111111111111,
              "#46039f"
             ],
             [
              0.2222222222222222,
              "#7201a8"
             ],
             [
              0.3333333333333333,
              "#9c179e"
             ],
             [
              0.4444444444444444,
              "#bd3786"
             ],
             [
              0.5555555555555556,
              "#d8576b"
             ],
             [
              0.6666666666666666,
              "#ed7953"
             ],
             [
              0.7777777777777778,
              "#fb9f3a"
             ],
             [
              0.8888888888888888,
              "#fdca26"
             ],
             [
              1,
              "#f0f921"
             ]
            ],
            "type": "histogram2d"
           }
          ],
          "histogram2dcontour": [
           {
            "colorbar": {
             "outlinewidth": 0,
             "ticks": ""
            },
            "colorscale": [
             [
              0,
              "#0d0887"
             ],
             [
              0.1111111111111111,
              "#46039f"
             ],
             [
              0.2222222222222222,
              "#7201a8"
             ],
             [
              0.3333333333333333,
              "#9c179e"
             ],
             [
              0.4444444444444444,
              "#bd3786"
             ],
             [
              0.5555555555555556,
              "#d8576b"
             ],
             [
              0.6666666666666666,
              "#ed7953"
             ],
             [
              0.7777777777777778,
              "#fb9f3a"
             ],
             [
              0.8888888888888888,
              "#fdca26"
             ],
             [
              1,
              "#f0f921"
             ]
            ],
            "type": "histogram2dcontour"
           }
          ],
          "mesh3d": [
           {
            "colorbar": {
             "outlinewidth": 0,
             "ticks": ""
            },
            "type": "mesh3d"
           }
          ],
          "parcoords": [
           {
            "line": {
             "colorbar": {
              "outlinewidth": 0,
              "ticks": ""
             }
            },
            "type": "parcoords"
           }
          ],
          "pie": [
           {
            "automargin": true,
            "type": "pie"
           }
          ],
          "scatter": [
           {
            "fillpattern": {
             "fillmode": "overlay",
             "size": 10,
             "solidity": 0.2
            },
            "type": "scatter"
           }
          ],
          "scatter3d": [
           {
            "line": {
             "colorbar": {
              "outlinewidth": 0,
              "ticks": ""
             }
            },
            "marker": {
             "colorbar": {
              "outlinewidth": 0,
              "ticks": ""
             }
            },
            "type": "scatter3d"
           }
          ],
          "scattercarpet": [
           {
            "marker": {
             "colorbar": {
              "outlinewidth": 0,
              "ticks": ""
             }
            },
            "type": "scattercarpet"
           }
          ],
          "scattergeo": [
           {
            "marker": {
             "colorbar": {
              "outlinewidth": 0,
              "ticks": ""
             }
            },
            "type": "scattergeo"
           }
          ],
          "scattergl": [
           {
            "marker": {
             "colorbar": {
              "outlinewidth": 0,
              "ticks": ""
             }
            },
            "type": "scattergl"
           }
          ],
          "scattermapbox": [
           {
            "marker": {
             "colorbar": {
              "outlinewidth": 0,
              "ticks": ""
             }
            },
            "type": "scattermapbox"
           }
          ],
          "scatterpolar": [
           {
            "marker": {
             "colorbar": {
              "outlinewidth": 0,
              "ticks": ""
             }
            },
            "type": "scatterpolar"
           }
          ],
          "scatterpolargl": [
           {
            "marker": {
             "colorbar": {
              "outlinewidth": 0,
              "ticks": ""
             }
            },
            "type": "scatterpolargl"
           }
          ],
          "scatterternary": [
           {
            "marker": {
             "colorbar": {
              "outlinewidth": 0,
              "ticks": ""
             }
            },
            "type": "scatterternary"
           }
          ],
          "surface": [
           {
            "colorbar": {
             "outlinewidth": 0,
             "ticks": ""
            },
            "colorscale": [
             [
              0,
              "#0d0887"
             ],
             [
              0.1111111111111111,
              "#46039f"
             ],
             [
              0.2222222222222222,
              "#7201a8"
             ],
             [
              0.3333333333333333,
              "#9c179e"
             ],
             [
              0.4444444444444444,
              "#bd3786"
             ],
             [
              0.5555555555555556,
              "#d8576b"
             ],
             [
              0.6666666666666666,
              "#ed7953"
             ],
             [
              0.7777777777777778,
              "#fb9f3a"
             ],
             [
              0.8888888888888888,
              "#fdca26"
             ],
             [
              1,
              "#f0f921"
             ]
            ],
            "type": "surface"
           }
          ],
          "table": [
           {
            "cells": {
             "fill": {
              "color": "#EBF0F8"
             },
             "line": {
              "color": "white"
             }
            },
            "header": {
             "fill": {
              "color": "#C8D4E3"
             },
             "line": {
              "color": "white"
             }
            },
            "type": "table"
           }
          ]
         },
         "layout": {
          "annotationdefaults": {
           "arrowcolor": "#2a3f5f",
           "arrowhead": 0,
           "arrowwidth": 1
          },
          "autotypenumbers": "strict",
          "coloraxis": {
           "colorbar": {
            "outlinewidth": 0,
            "ticks": ""
           }
          },
          "colorscale": {
           "diverging": [
            [
             0,
             "#8e0152"
            ],
            [
             0.1,
             "#c51b7d"
            ],
            [
             0.2,
             "#de77ae"
            ],
            [
             0.3,
             "#f1b6da"
            ],
            [
             0.4,
             "#fde0ef"
            ],
            [
             0.5,
             "#f7f7f7"
            ],
            [
             0.6,
             "#e6f5d0"
            ],
            [
             0.7,
             "#b8e186"
            ],
            [
             0.8,
             "#7fbc41"
            ],
            [
             0.9,
             "#4d9221"
            ],
            [
             1,
             "#276419"
            ]
           ],
           "sequential": [
            [
             0,
             "#0d0887"
            ],
            [
             0.1111111111111111,
             "#46039f"
            ],
            [
             0.2222222222222222,
             "#7201a8"
            ],
            [
             0.3333333333333333,
             "#9c179e"
            ],
            [
             0.4444444444444444,
             "#bd3786"
            ],
            [
             0.5555555555555556,
             "#d8576b"
            ],
            [
             0.6666666666666666,
             "#ed7953"
            ],
            [
             0.7777777777777778,
             "#fb9f3a"
            ],
            [
             0.8888888888888888,
             "#fdca26"
            ],
            [
             1,
             "#f0f921"
            ]
           ],
           "sequentialminus": [
            [
             0,
             "#0d0887"
            ],
            [
             0.1111111111111111,
             "#46039f"
            ],
            [
             0.2222222222222222,
             "#7201a8"
            ],
            [
             0.3333333333333333,
             "#9c179e"
            ],
            [
             0.4444444444444444,
             "#bd3786"
            ],
            [
             0.5555555555555556,
             "#d8576b"
            ],
            [
             0.6666666666666666,
             "#ed7953"
            ],
            [
             0.7777777777777778,
             "#fb9f3a"
            ],
            [
             0.8888888888888888,
             "#fdca26"
            ],
            [
             1,
             "#f0f921"
            ]
           ]
          },
          "colorway": [
           "#636efa",
           "#EF553B",
           "#00cc96",
           "#ab63fa",
           "#FFA15A",
           "#19d3f3",
           "#FF6692",
           "#B6E880",
           "#FF97FF",
           "#FECB52"
          ],
          "font": {
           "color": "#2a3f5f"
          },
          "geo": {
           "bgcolor": "white",
           "lakecolor": "white",
           "landcolor": "#E5ECF6",
           "showlakes": true,
           "showland": true,
           "subunitcolor": "white"
          },
          "hoverlabel": {
           "align": "left"
          },
          "hovermode": "closest",
          "mapbox": {
           "style": "light"
          },
          "paper_bgcolor": "white",
          "plot_bgcolor": "#E5ECF6",
          "polar": {
           "angularaxis": {
            "gridcolor": "white",
            "linecolor": "white",
            "ticks": ""
           },
           "bgcolor": "#E5ECF6",
           "radialaxis": {
            "gridcolor": "white",
            "linecolor": "white",
            "ticks": ""
           }
          },
          "scene": {
           "xaxis": {
            "backgroundcolor": "#E5ECF6",
            "gridcolor": "white",
            "gridwidth": 2,
            "linecolor": "white",
            "showbackground": true,
            "ticks": "",
            "zerolinecolor": "white"
           },
           "yaxis": {
            "backgroundcolor": "#E5ECF6",
            "gridcolor": "white",
            "gridwidth": 2,
            "linecolor": "white",
            "showbackground": true,
            "ticks": "",
            "zerolinecolor": "white"
           },
           "zaxis": {
            "backgroundcolor": "#E5ECF6",
            "gridcolor": "white",
            "gridwidth": 2,
            "linecolor": "white",
            "showbackground": true,
            "ticks": "",
            "zerolinecolor": "white"
           }
          },
          "shapedefaults": {
           "line": {
            "color": "#2a3f5f"
           }
          },
          "ternary": {
           "aaxis": {
            "gridcolor": "white",
            "linecolor": "white",
            "ticks": ""
           },
           "baxis": {
            "gridcolor": "white",
            "linecolor": "white",
            "ticks": ""
           },
           "bgcolor": "#E5ECF6",
           "caxis": {
            "gridcolor": "white",
            "linecolor": "white",
            "ticks": ""
           }
          },
          "title": {
           "x": 0.05
          },
          "xaxis": {
           "automargin": true,
           "gridcolor": "white",
           "linecolor": "white",
           "ticks": "",
           "title": {
            "standoff": 15
           },
           "zerolinecolor": "white",
           "zerolinewidth": 2
          },
          "yaxis": {
           "automargin": true,
           "gridcolor": "white",
           "linecolor": "white",
           "ticks": "",
           "title": {
            "standoff": 15
           },
           "zerolinecolor": "white",
           "zerolinewidth": 2
          }
         }
        },
        "title": {
         "text": "NY Counties Population 2016-2020"
        }
       }
      },
      "text/html": [
       "<div>                            <div id=\"17c59edd-d7dd-406d-ae37-ac48bd4b35e6\" class=\"plotly-graph-div\" style=\"height:525px; width:100%;\"></div>            <script type=\"text/javascript\">                require([\"plotly\"], function(Plotly) {                    window.PLOTLYENV=window.PLOTLYENV || {};                                    if (document.getElementById(\"17c59edd-d7dd-406d-ae37-ac48bd4b35e6\")) {                    Plotly.newPlot(                        \"17c59edd-d7dd-406d-ae37-ac48bd4b35e6\",                        [{\"name\":\"Male\",\"x\":[\"Brooklyn\",\"Queens\",\"Manhattan\",\"Suffolk\",\"Bronx\",\"Nassau\",\"Staten Island\",\"Albany\"],\"y\":[1221062,1106394,766895,736655,667558,655431,228142,148288],\"type\":\"bar\"},{\"name\":\"Female\",\"x\":[\"Brooklyn\",\"Queens\",\"Manhattan\",\"Suffolk\",\"Bronx\",\"Nassau\",\"Staten Island\",\"Albany\"],\"y\":[1360446,1177097,859251,759518,752341,696200,243377,158078],\"type\":\"bar\"},{\"name\":\"Total Population\",\"x\":[\"Brooklyn\",\"Queens\",\"Manhattan\",\"Suffolk\",\"Bronx\",\"Nassau\",\"Staten Island\",\"Albany\"],\"y\":[2581508,2283491,1626146,1496173,1419899,1351631,471519,306366],\"type\":\"bar\"}],                        {\"template\":{\"data\":{\"histogram2dcontour\":[{\"type\":\"histogram2dcontour\",\"colorbar\":{\"outlinewidth\":0,\"ticks\":\"\"},\"colorscale\":[[0.0,\"#0d0887\"],[0.1111111111111111,\"#46039f\"],[0.2222222222222222,\"#7201a8\"],[0.3333333333333333,\"#9c179e\"],[0.4444444444444444,\"#bd3786\"],[0.5555555555555556,\"#d8576b\"],[0.6666666666666666,\"#ed7953\"],[0.7777777777777778,\"#fb9f3a\"],[0.8888888888888888,\"#fdca26\"],[1.0,\"#f0f921\"]]}],\"choropleth\":[{\"type\":\"choropleth\",\"colorbar\":{\"outlinewidth\":0,\"ticks\":\"\"}}],\"histogram2d\":[{\"type\":\"histogram2d\",\"colorbar\":{\"outlinewidth\":0,\"ticks\":\"\"},\"colorscale\":[[0.0,\"#0d0887\"],[0.1111111111111111,\"#46039f\"],[0.2222222222222222,\"#7201a8\"],[0.3333333333333333,\"#9c179e\"],[0.4444444444444444,\"#bd3786\"],[0.5555555555555556,\"#d8576b\"],[0.6666666666666666,\"#ed7953\"],[0.7777777777777778,\"#fb9f3a\"],[0.8888888888888888,\"#fdca26\"],[1.0,\"#f0f921\"]]}],\"heatmap\":[{\"type\":\"heatmap\",\"colorbar\":{\"outlinewidth\":0,\"ticks\":\"\"},\"colorscale\":[[0.0,\"#0d0887\"],[0.1111111111111111,\"#46039f\"],[0.2222222222222222,\"#7201a8\"],[0.3333333333333333,\"#9c179e\"],[0.4444444444444444,\"#bd3786\"],[0.5555555555555556,\"#d8576b\"],[0.6666666666666666,\"#ed7953\"],[0.7777777777777778,\"#fb9f3a\"],[0.8888888888888888,\"#fdca26\"],[1.0,\"#f0f921\"]]}],\"heatmapgl\":[{\"type\":\"heatmapgl\",\"colorbar\":{\"outlinewidth\":0,\"ticks\":\"\"},\"colorscale\":[[0.0,\"#0d0887\"],[0.1111111111111111,\"#46039f\"],[0.2222222222222222,\"#7201a8\"],[0.3333333333333333,\"#9c179e\"],[0.4444444444444444,\"#bd3786\"],[0.5555555555555556,\"#d8576b\"],[0.6666666666666666,\"#ed7953\"],[0.7777777777777778,\"#fb9f3a\"],[0.8888888888888888,\"#fdca26\"],[1.0,\"#f0f921\"]]}],\"contourcarpet\":[{\"type\":\"contourcarpet\",\"colorbar\":{\"outlinewidth\":0,\"ticks\":\"\"}}],\"contour\":[{\"type\":\"contour\",\"colorbar\":{\"outlinewidth\":0,\"ticks\":\"\"},\"colorscale\":[[0.0,\"#0d0887\"],[0.1111111111111111,\"#46039f\"],[0.2222222222222222,\"#7201a8\"],[0.3333333333333333,\"#9c179e\"],[0.4444444444444444,\"#bd3786\"],[0.5555555555555556,\"#d8576b\"],[0.6666666666666666,\"#ed7953\"],[0.7777777777777778,\"#fb9f3a\"],[0.8888888888888888,\"#fdca26\"],[1.0,\"#f0f921\"]]}],\"surface\":[{\"type\":\"surface\",\"colorbar\":{\"outlinewidth\":0,\"ticks\":\"\"},\"colorscale\":[[0.0,\"#0d0887\"],[0.1111111111111111,\"#46039f\"],[0.2222222222222222,\"#7201a8\"],[0.3333333333333333,\"#9c179e\"],[0.4444444444444444,\"#bd3786\"],[0.5555555555555556,\"#d8576b\"],[0.6666666666666666,\"#ed7953\"],[0.7777777777777778,\"#fb9f3a\"],[0.8888888888888888,\"#fdca26\"],[1.0,\"#f0f921\"]]}],\"mesh3d\":[{\"type\":\"mesh3d\",\"colorbar\":{\"outlinewidth\":0,\"ticks\":\"\"}}],\"scatter\":[{\"fillpattern\":{\"fillmode\":\"overlay\",\"size\":10,\"solidity\":0.2},\"type\":\"scatter\"}],\"parcoords\":[{\"type\":\"parcoords\",\"line\":{\"colorbar\":{\"outlinewidth\":0,\"ticks\":\"\"}}}],\"scatterpolargl\":[{\"type\":\"scatterpolargl\",\"marker\":{\"colorbar\":{\"outlinewidth\":0,\"ticks\":\"\"}}}],\"bar\":[{\"error_x\":{\"color\":\"#2a3f5f\"},\"error_y\":{\"color\":\"#2a3f5f\"},\"marker\":{\"line\":{\"color\":\"#E5ECF6\",\"width\":0.5},\"pattern\":{\"fillmode\":\"overlay\",\"size\":10,\"solidity\":0.2}},\"type\":\"bar\"}],\"scattergeo\":[{\"type\":\"scattergeo\",\"marker\":{\"colorbar\":{\"outlinewidth\":0,\"ticks\":\"\"}}}],\"scatterpolar\":[{\"type\":\"scatterpolar\",\"marker\":{\"colorbar\":{\"outlinewidth\":0,\"ticks\":\"\"}}}],\"histogram\":[{\"marker\":{\"pattern\":{\"fillmode\":\"overlay\",\"size\":10,\"solidity\":0.2}},\"type\":\"histogram\"}],\"scattergl\":[{\"type\":\"scattergl\",\"marker\":{\"colorbar\":{\"outlinewidth\":0,\"ticks\":\"\"}}}],\"scatter3d\":[{\"type\":\"scatter3d\",\"line\":{\"colorbar\":{\"outlinewidth\":0,\"ticks\":\"\"}},\"marker\":{\"colorbar\":{\"outlinewidth\":0,\"ticks\":\"\"}}}],\"scattermapbox\":[{\"type\":\"scattermapbox\",\"marker\":{\"colorbar\":{\"outlinewidth\":0,\"ticks\":\"\"}}}],\"scatterternary\":[{\"type\":\"scatterternary\",\"marker\":{\"colorbar\":{\"outlinewidth\":0,\"ticks\":\"\"}}}],\"scattercarpet\":[{\"type\":\"scattercarpet\",\"marker\":{\"colorbar\":{\"outlinewidth\":0,\"ticks\":\"\"}}}],\"carpet\":[{\"aaxis\":{\"endlinecolor\":\"#2a3f5f\",\"gridcolor\":\"white\",\"linecolor\":\"white\",\"minorgridcolor\":\"white\",\"startlinecolor\":\"#2a3f5f\"},\"baxis\":{\"endlinecolor\":\"#2a3f5f\",\"gridcolor\":\"white\",\"linecolor\":\"white\",\"minorgridcolor\":\"white\",\"startlinecolor\":\"#2a3f5f\"},\"type\":\"carpet\"}],\"table\":[{\"cells\":{\"fill\":{\"color\":\"#EBF0F8\"},\"line\":{\"color\":\"white\"}},\"header\":{\"fill\":{\"color\":\"#C8D4E3\"},\"line\":{\"color\":\"white\"}},\"type\":\"table\"}],\"barpolar\":[{\"marker\":{\"line\":{\"color\":\"#E5ECF6\",\"width\":0.5},\"pattern\":{\"fillmode\":\"overlay\",\"size\":10,\"solidity\":0.2}},\"type\":\"barpolar\"}],\"pie\":[{\"automargin\":true,\"type\":\"pie\"}]},\"layout\":{\"autotypenumbers\":\"strict\",\"colorway\":[\"#636efa\",\"#EF553B\",\"#00cc96\",\"#ab63fa\",\"#FFA15A\",\"#19d3f3\",\"#FF6692\",\"#B6E880\",\"#FF97FF\",\"#FECB52\"],\"font\":{\"color\":\"#2a3f5f\"},\"hovermode\":\"closest\",\"hoverlabel\":{\"align\":\"left\"},\"paper_bgcolor\":\"white\",\"plot_bgcolor\":\"#E5ECF6\",\"polar\":{\"bgcolor\":\"#E5ECF6\",\"angularaxis\":{\"gridcolor\":\"white\",\"linecolor\":\"white\",\"ticks\":\"\"},\"radialaxis\":{\"gridcolor\":\"white\",\"linecolor\":\"white\",\"ticks\":\"\"}},\"ternary\":{\"bgcolor\":\"#E5ECF6\",\"aaxis\":{\"gridcolor\":\"white\",\"linecolor\":\"white\",\"ticks\":\"\"},\"baxis\":{\"gridcolor\":\"white\",\"linecolor\":\"white\",\"ticks\":\"\"},\"caxis\":{\"gridcolor\":\"white\",\"linecolor\":\"white\",\"ticks\":\"\"}},\"coloraxis\":{\"colorbar\":{\"outlinewidth\":0,\"ticks\":\"\"}},\"colorscale\":{\"sequential\":[[0.0,\"#0d0887\"],[0.1111111111111111,\"#46039f\"],[0.2222222222222222,\"#7201a8\"],[0.3333333333333333,\"#9c179e\"],[0.4444444444444444,\"#bd3786\"],[0.5555555555555556,\"#d8576b\"],[0.6666666666666666,\"#ed7953\"],[0.7777777777777778,\"#fb9f3a\"],[0.8888888888888888,\"#fdca26\"],[1.0,\"#f0f921\"]],\"sequentialminus\":[[0.0,\"#0d0887\"],[0.1111111111111111,\"#46039f\"],[0.2222222222222222,\"#7201a8\"],[0.3333333333333333,\"#9c179e\"],[0.4444444444444444,\"#bd3786\"],[0.5555555555555556,\"#d8576b\"],[0.6666666666666666,\"#ed7953\"],[0.7777777777777778,\"#fb9f3a\"],[0.8888888888888888,\"#fdca26\"],[1.0,\"#f0f921\"]],\"diverging\":[[0,\"#8e0152\"],[0.1,\"#c51b7d\"],[0.2,\"#de77ae\"],[0.3,\"#f1b6da\"],[0.4,\"#fde0ef\"],[0.5,\"#f7f7f7\"],[0.6,\"#e6f5d0\"],[0.7,\"#b8e186\"],[0.8,\"#7fbc41\"],[0.9,\"#4d9221\"],[1,\"#276419\"]]},\"xaxis\":{\"gridcolor\":\"white\",\"linecolor\":\"white\",\"ticks\":\"\",\"title\":{\"standoff\":15},\"zerolinecolor\":\"white\",\"automargin\":true,\"zerolinewidth\":2},\"yaxis\":{\"gridcolor\":\"white\",\"linecolor\":\"white\",\"ticks\":\"\",\"title\":{\"standoff\":15},\"zerolinecolor\":\"white\",\"automargin\":true,\"zerolinewidth\":2},\"scene\":{\"xaxis\":{\"backgroundcolor\":\"#E5ECF6\",\"gridcolor\":\"white\",\"linecolor\":\"white\",\"showbackground\":true,\"ticks\":\"\",\"zerolinecolor\":\"white\",\"gridwidth\":2},\"yaxis\":{\"backgroundcolor\":\"#E5ECF6\",\"gridcolor\":\"white\",\"linecolor\":\"white\",\"showbackground\":true,\"ticks\":\"\",\"zerolinecolor\":\"white\",\"gridwidth\":2},\"zaxis\":{\"backgroundcolor\":\"#E5ECF6\",\"gridcolor\":\"white\",\"linecolor\":\"white\",\"showbackground\":true,\"ticks\":\"\",\"zerolinecolor\":\"white\",\"gridwidth\":2}},\"shapedefaults\":{\"line\":{\"color\":\"#2a3f5f\"}},\"annotationdefaults\":{\"arrowcolor\":\"#2a3f5f\",\"arrowhead\":0,\"arrowwidth\":1},\"geo\":{\"bgcolor\":\"white\",\"landcolor\":\"#E5ECF6\",\"subunitcolor\":\"white\",\"showland\":true,\"showlakes\":true,\"lakecolor\":\"white\"},\"title\":{\"x\":0.05},\"mapbox\":{\"style\":\"light\"}}},\"title\":{\"text\":\"NY Counties Population 2016-2020\"}},                        {\"responsive\": true}                    ).then(function(){\n",
       "                            \n",
       "var gd = document.getElementById('17c59edd-d7dd-406d-ae37-ac48bd4b35e6');\n",
       "var x = new MutationObserver(function (mutations, observer) {{\n",
       "        var display = window.getComputedStyle(gd).display;\n",
       "        if (!display || display === 'none') {{\n",
       "            console.log([gd, 'removed!']);\n",
       "            Plotly.purge(gd);\n",
       "            observer.disconnect();\n",
       "        }}\n",
       "}});\n",
       "\n",
       "// Listen for the removal of the full notebook cells\n",
       "var notebookContainer = gd.closest('#notebook-container');\n",
       "if (notebookContainer) {{\n",
       "    x.observe(notebookContainer, {childList: true});\n",
       "}}\n",
       "\n",
       "// Listen for the clearing of the current output cell\n",
       "var outputEl = gd.closest('.output');\n",
       "if (outputEl) {{\n",
       "    x.observe(outputEl, {childList: true});\n",
       "}}\n",
       "\n",
       "                        })                };                });            </script>        </div>"
      ]
     },
     "metadata": {},
     "output_type": "display_data"
    }
   ],
   "source": [
    "\n",
    "import plotly.graph_objects as go\n",
    "fig = go.Figure()\n",
    "fig.add_trace(go.Bar(x=pop['Counties'],\n",
    "                     y=pop[\"Males\"],\n",
    "                     name=\"Male\"))\n",
    "fig.add_trace(go.Bar(x=pop['Counties'],\n",
    "                     y=pop[\"Female\"],\n",
    "                     name=\"Female\"))\n",
    "fig.add_trace(go.Bar(x=pop['Counties'],\n",
    "                     y=pop[\"Total Population\"],\n",
    "                     name=\"Total Population\"))\n",
    "fig.update_layout(\n",
    "title='NY Counties Population 2016-2020')"
   ]
  },
  {
   "cell_type": "code",
   "execution_count": null,
   "metadata": {},
   "outputs": [],
   "source": [
    "#https://statecancerprofiles.cancer.gov/incidencerates/index.php?stateFIPS=36&areatype=county&cancer=001&race=05&sex=0&age=001&stage=999&year=0&type=incd&sortVariableName=rate&sortOrder=default&output=0#results"
   ]
  },
  {
   "cell_type": "code",
   "execution_count": 26,
   "metadata": {},
   "outputs": [],
   "source": [
    "url='https://projects.newsday.com/databases/long-island/cancer-rates/#:~:text=An%20average%20of%20more%20than,during%20the%20same%20time%20period.'\n",
    "data=[]\n",
    "async with async_playwright() as p:\n",
    "    browser = await p.chromium.launch(headless=False)\n",
    "    page = await browser.new_page()\n",
    "    await page.goto(url)\n",
    "    time.sleep(6)\n",
    "    html = await page.content()\n",
    "    soup = bs(html, 'html.parser')\n",
    "    for d in soup.find_all('div',{'class':\"twrap\"}):\n",
    "        table = d.find('table', attrs={'id':'nmgDB'})\n",
    "        table_body = table.find('tbody')\n",
    "        rows = table_body.find_all('tr')\n",
    "        for row in rows:\n",
    "            cols = row.find_all('td')\n",
    "            cols = [ele.text.strip() for ele in cols]\n",
    "            data.append([ele for ele in cols if ele]) # Get rid of empty values"
   ]
  },
  {
   "cell_type": "code",
   "execution_count": 27,
   "metadata": {},
   "outputs": [],
   "source": [
    "#converts list to dataframe\n",
    "longisland= pd.DataFrame (data, columns = ['All Malignant Tumors','County','Males average annual cases', 'Case rate per 100,000 males','Female average annual cases','Case rate per 100,000 females','Male average annual deaths','Death rate per 100,000 males','Female average annual deaths','Death rate per 100,000 females'])"
   ]
  },
  {
   "cell_type": "code",
   "execution_count": 28,
   "metadata": {},
   "outputs": [],
   "source": [
    "#replace values in columns\n",
    "longisland['All Malignant Tumors']=longisland['All Malignant Tumors'].str.replace('Site of cancer\\t\\t\\t\\t\\t\\t\\t\\n\\n','')\n",
    "longisland['County']=longisland['County'].str.replace('County\\t\\t\\t\\t\\t\\t\\t\\n\\n','')\n",
    "longisland['Case rate per 100,000 males']=longisland['Case rate per 100,000 males'].str.replace('Case rate per 100,000 males\\t\\t\\t\\t\\t\\t\\t\\n\\n','')\n",
    "longisland['Female average annual cases']=longisland['Female average annual cases'].str.replace('Female average annual cases\\t\\t\\t\\t\\t\\t\\t\\n\\n','')\n",
    "longisland['Case rate per 100,000 females']=longisland['Case rate per 100,000 females'].str.replace('Case rate per 100,000 females\\t\\t\\t\\t\\t\\t\\t\\n\\n','')\n",
    "longisland['Male average annual deaths']=longisland['Male average annual deaths'].str.replace('Male average annual deaths\\t\\t\\t\\t\\t\\t\\t\\n\\n','')\n",
    "longisland['Death rate per 100,000 males']=longisland['Death rate per 100,000 males'].str.replace('Death rate per 100,000 males\\t\\t\\t\\t\\t\\t\\t\\n\\n','')\n",
    "longisland['Female average annual deaths']=longisland['Female average annual deaths'].str.replace('Female average annual deaths\\t\\t\\t\\t\\t\\t\\t\\n\\n','')\n",
    "longisland['Death rate per 100,000 females']=longisland['Death rate per 100,000 females'].str.replace('Death rate per 100,000 females\\t\\t\\t\\t\\t\\t\\t\\n\\n','')\n",
    "longisland['Males average annual cases']=longisland['Males average annual cases'].str.replace('Males average annual cases\\t\\t\\t\\t\\t\\t\\t\\n\\n','')"
   ]
  },
  {
   "cell_type": "code",
   "execution_count": 29,
   "metadata": {},
   "outputs": [],
   "source": [
    "#delete columns\n",
    "del longisland['Case rate per 100,000 males']\n",
    "del longisland['Case rate per 100,000 females']\n",
    "del longisland['Death rate per 100,000 males']\n",
    "del longisland['Death rate per 100,000 females']\n",
    "\n",
    "\n",
    "#change to string datatype\n",
    "longisland['County']=longisland['County'].astype(str)"
   ]
  },
  {
   "cell_type": "code",
   "execution_count": 30,
   "metadata": {},
   "outputs": [],
   "source": [
    "#locate rows that contain values\n",
    "suffolk=longisland.loc[longisland['County'].str.contains('Suffolk')]\n",
    "nassau=longisland.loc[longisland['County'].str.contains('Nassau')]"
   ]
  },
  {
   "cell_type": "code",
   "execution_count": 31,
   "metadata": {},
   "outputs": [
    {
     "data": {
      "text/html": [
       "<div>\n",
       "<style scoped>\n",
       "    .dataframe tbody tr th:only-of-type {\n",
       "        vertical-align: middle;\n",
       "    }\n",
       "\n",
       "    .dataframe tbody tr th {\n",
       "        vertical-align: top;\n",
       "    }\n",
       "\n",
       "    .dataframe thead th {\n",
       "        text-align: right;\n",
       "    }\n",
       "</style>\n",
       "<table border=\"1\" class=\"dataframe\">\n",
       "  <thead>\n",
       "    <tr style=\"text-align: right;\">\n",
       "      <th></th>\n",
       "      <th>All Malignant Tumors</th>\n",
       "      <th>County</th>\n",
       "      <th>Males average annual cases</th>\n",
       "      <th>Female average annual cases</th>\n",
       "      <th>Male average annual deaths</th>\n",
       "      <th>Female average annual deaths</th>\n",
       "    </tr>\n",
       "  </thead>\n",
       "  <tbody>\n",
       "    <tr>\n",
       "      <th>0</th>\n",
       "      <td>All Invasive Malignant Tumors</td>\n",
       "      <td>Nassau</td>\n",
       "      <td>4,332.4</td>\n",
       "      <td>4,470.6</td>\n",
       "      <td>1,181.4</td>\n",
       "      <td>1,261.2</td>\n",
       "    </tr>\n",
       "    <tr>\n",
       "      <th>1</th>\n",
       "      <td>All Invasive Malignant Tumors</td>\n",
       "      <td>Suffolk</td>\n",
       "      <td>4,824.4</td>\n",
       "      <td>4,753.0</td>\n",
       "      <td>1,388.2</td>\n",
       "      <td>1,360.8</td>\n",
       "    </tr>\n",
       "    <tr>\n",
       "      <th>2</th>\n",
       "      <td>Brain and other central nervou...</td>\n",
       "      <td>Nassau</td>\n",
       "      <td>57.0</td>\n",
       "      <td>44.8</td>\n",
       "      <td>38.0</td>\n",
       "      <td>31.4</td>\n",
       "    </tr>\n",
       "    <tr>\n",
       "      <th>3</th>\n",
       "      <td>Brain and other central nervou...</td>\n",
       "      <td>Suffolk</td>\n",
       "      <td>69.2</td>\n",
       "      <td>56.0</td>\n",
       "      <td>43.4</td>\n",
       "      <td>31.6</td>\n",
       "    </tr>\n",
       "    <tr>\n",
       "      <th>4</th>\n",
       "      <td>Cervix uteri</td>\n",
       "      <td>Nassau</td>\n",
       "      <td>N/A</td>\n",
       "      <td>47.6</td>\n",
       "      <td>N/A</td>\n",
       "      <td>12.6</td>\n",
       "    </tr>\n",
       "    <tr>\n",
       "      <th>5</th>\n",
       "      <td>Cervix uteri</td>\n",
       "      <td>Suffolk</td>\n",
       "      <td>N/A</td>\n",
       "      <td>56.8</td>\n",
       "      <td>N/A</td>\n",
       "      <td>20.0</td>\n",
       "    </tr>\n",
       "    <tr>\n",
       "      <th>6</th>\n",
       "      <td>Colon excluding rectum</td>\n",
       "      <td>Nassau</td>\n",
       "      <td>231.4</td>\n",
       "      <td>255.0</td>\n",
       "      <td>84.0</td>\n",
       "      <td>96.4</td>\n",
       "    </tr>\n",
       "    <tr>\n",
       "      <th>7</th>\n",
       "      <td>Colon excluding rectum</td>\n",
       "      <td>Suffolk</td>\n",
       "      <td>264.6</td>\n",
       "      <td>256.8</td>\n",
       "      <td>99.4</td>\n",
       "      <td>91.2</td>\n",
       "    </tr>\n",
       "    <tr>\n",
       "      <th>8</th>\n",
       "      <td>Colorectal</td>\n",
       "      <td>Nassau</td>\n",
       "      <td>341.6</td>\n",
       "      <td>342.6</td>\n",
       "      <td>105.8</td>\n",
       "      <td>108.0</td>\n",
       "    </tr>\n",
       "    <tr>\n",
       "      <th>9</th>\n",
       "      <td>Colorectal</td>\n",
       "      <td>Suffolk</td>\n",
       "      <td>380.6</td>\n",
       "      <td>337.8</td>\n",
       "      <td>120.4</td>\n",
       "      <td>104.4</td>\n",
       "    </tr>\n",
       "    <tr>\n",
       "      <th>10</th>\n",
       "      <td>Corpus uterus or not otherwise...</td>\n",
       "      <td>Nassau</td>\n",
       "      <td>N/A</td>\n",
       "      <td>318.6</td>\n",
       "      <td>N/A</td>\n",
       "      <td>57.0</td>\n",
       "    </tr>\n",
       "    <tr>\n",
       "      <th>11</th>\n",
       "      <td>Corpus uterus or not otherwise...</td>\n",
       "      <td>Suffolk</td>\n",
       "      <td>N/A</td>\n",
       "      <td>323.0</td>\n",
       "      <td>N/A</td>\n",
       "      <td>56.0</td>\n",
       "    </tr>\n",
       "    <tr>\n",
       "      <th>12</th>\n",
       "      <td>Esophagus</td>\n",
       "      <td>Nassau</td>\n",
       "      <td>55.8</td>\n",
       "      <td>19.0</td>\n",
       "      <td>39.0</td>\n",
       "      <td>13.0</td>\n",
       "    </tr>\n",
       "    <tr>\n",
       "      <th>13</th>\n",
       "      <td>Esophagus</td>\n",
       "      <td>Suffolk</td>\n",
       "      <td>72.8</td>\n",
       "      <td>20.8</td>\n",
       "      <td>56.2</td>\n",
       "      <td>15.6</td>\n",
       "    </tr>\n",
       "    <tr>\n",
       "      <th>14</th>\n",
       "      <td>Female breast</td>\n",
       "      <td>Nassau</td>\n",
       "      <td>N/A</td>\n",
       "      <td>1,298.6</td>\n",
       "      <td>N/A</td>\n",
       "      <td>187.4</td>\n",
       "    </tr>\n",
       "    <tr>\n",
       "      <th>15</th>\n",
       "      <td>Female breast</td>\n",
       "      <td>Suffolk</td>\n",
       "      <td>N/A</td>\n",
       "      <td>1,314.2</td>\n",
       "      <td>N/A</td>\n",
       "      <td>198.2</td>\n",
       "    </tr>\n",
       "    <tr>\n",
       "      <th>16</th>\n",
       "      <td>Hodgkin lymphoma</td>\n",
       "      <td>Nassau</td>\n",
       "      <td>24.8</td>\n",
       "      <td>21.6</td>\n",
       "      <td>2.6</td>\n",
       "      <td>2.2</td>\n",
       "    </tr>\n",
       "    <tr>\n",
       "      <th>17</th>\n",
       "      <td>Hodgkin lymphoma</td>\n",
       "      <td>Suffolk</td>\n",
       "      <td>30.2</td>\n",
       "      <td>22.0</td>\n",
       "      <td>1.8</td>\n",
       "      <td>2.8</td>\n",
       "    </tr>\n",
       "    <tr>\n",
       "      <th>18</th>\n",
       "      <td>Kidney and renal pelvis</td>\n",
       "      <td>Nassau</td>\n",
       "      <td>204.0</td>\n",
       "      <td>103.2</td>\n",
       "      <td>32.6</td>\n",
       "      <td>18.6</td>\n",
       "    </tr>\n",
       "    <tr>\n",
       "      <th>19</th>\n",
       "      <td>Kidney and renal pelvis</td>\n",
       "      <td>Suffolk</td>\n",
       "      <td>237.4</td>\n",
       "      <td>120.6</td>\n",
       "      <td>41.2</td>\n",
       "      <td>18.0</td>\n",
       "    </tr>\n",
       "    <tr>\n",
       "      <th>20</th>\n",
       "      <td>Larynx</td>\n",
       "      <td>Nassau</td>\n",
       "      <td>36.6</td>\n",
       "      <td>10.2</td>\n",
       "      <td>9.2</td>\n",
       "      <td>4.2</td>\n",
       "    </tr>\n",
       "    <tr>\n",
       "      <th>21</th>\n",
       "      <td>Larynx</td>\n",
       "      <td>Suffolk</td>\n",
       "      <td>49.4</td>\n",
       "      <td>11.8</td>\n",
       "      <td>13.8</td>\n",
       "      <td>2.6</td>\n",
       "    </tr>\n",
       "    <tr>\n",
       "      <th>22</th>\n",
       "      <td>Leukemias</td>\n",
       "      <td>Nassau</td>\n",
       "      <td>189.6</td>\n",
       "      <td>137.8</td>\n",
       "      <td>66.6</td>\n",
       "      <td>43.2</td>\n",
       "    </tr>\n",
       "    <tr>\n",
       "      <th>23</th>\n",
       "      <td>Leukemias</td>\n",
       "      <td>Suffolk</td>\n",
       "      <td>214.4</td>\n",
       "      <td>149.2</td>\n",
       "      <td>65.6</td>\n",
       "      <td>42.2</td>\n",
       "    </tr>\n",
       "    <tr>\n",
       "      <th>24</th>\n",
       "      <td>Liver / intrahepatic bile duct</td>\n",
       "      <td>Nassau</td>\n",
       "      <td>87.4</td>\n",
       "      <td>34.2</td>\n",
       "      <td>56.4</td>\n",
       "      <td>28.6</td>\n",
       "    </tr>\n",
       "    <tr>\n",
       "      <th>25</th>\n",
       "      <td>Liver / intrahepatic bile duct</td>\n",
       "      <td>Suffolk</td>\n",
       "      <td>112.0</td>\n",
       "      <td>43.0</td>\n",
       "      <td>71.6</td>\n",
       "      <td>33.0</td>\n",
       "    </tr>\n",
       "    <tr>\n",
       "      <th>26</th>\n",
       "      <td>Lung and bronchus</td>\n",
       "      <td>Nassau</td>\n",
       "      <td>430.0</td>\n",
       "      <td>526.4</td>\n",
       "      <td>266.6</td>\n",
       "      <td>287.6</td>\n",
       "    </tr>\n",
       "    <tr>\n",
       "      <th>27</th>\n",
       "      <td>Lung and bronchus</td>\n",
       "      <td>Suffolk</td>\n",
       "      <td>557.2</td>\n",
       "      <td>650.2</td>\n",
       "      <td>339.8</td>\n",
       "      <td>358.4</td>\n",
       "    </tr>\n",
       "    <tr>\n",
       "      <th>28</th>\n",
       "      <td>Melanoma of the skin</td>\n",
       "      <td>Nassau</td>\n",
       "      <td>222.4</td>\n",
       "      <td>160.8</td>\n",
       "      <td>27.8</td>\n",
       "      <td>13.6</td>\n",
       "    </tr>\n",
       "    <tr>\n",
       "      <th>29</th>\n",
       "      <td>Melanoma of the skin</td>\n",
       "      <td>Suffolk</td>\n",
       "      <td>290.8</td>\n",
       "      <td>183.8</td>\n",
       "      <td>30.2</td>\n",
       "      <td>15.8</td>\n",
       "    </tr>\n",
       "    <tr>\n",
       "      <th>30</th>\n",
       "      <td>Myeloma</td>\n",
       "      <td>Nassau</td>\n",
       "      <td>87.2</td>\n",
       "      <td>68.2</td>\n",
       "      <td>29.6</td>\n",
       "      <td>25.6</td>\n",
       "    </tr>\n",
       "    <tr>\n",
       "      <th>31</th>\n",
       "      <td>Myeloma</td>\n",
       "      <td>Suffolk</td>\n",
       "      <td>92.2</td>\n",
       "      <td>70.0</td>\n",
       "      <td>28.0</td>\n",
       "      <td>24.4</td>\n",
       "    </tr>\n",
       "    <tr>\n",
       "      <th>32</th>\n",
       "      <td>Non-Hodgkin lymphomas</td>\n",
       "      <td>Nassau</td>\n",
       "      <td>220.4</td>\n",
       "      <td>194.8</td>\n",
       "      <td>50.0</td>\n",
       "      <td>41.6</td>\n",
       "    </tr>\n",
       "    <tr>\n",
       "      <th>33</th>\n",
       "      <td>Non-Hodgkin lymphomas</td>\n",
       "      <td>Suffolk</td>\n",
       "      <td>246.0</td>\n",
       "      <td>201.8</td>\n",
       "      <td>56.2</td>\n",
       "      <td>36.8</td>\n",
       "    </tr>\n",
       "    <tr>\n",
       "      <th>34</th>\n",
       "      <td>Oral cavity and pharynx</td>\n",
       "      <td>Nassau</td>\n",
       "      <td>113.4</td>\n",
       "      <td>65.0</td>\n",
       "      <td>14.8</td>\n",
       "      <td>11.6</td>\n",
       "    </tr>\n",
       "    <tr>\n",
       "      <th>35</th>\n",
       "      <td>Oral cavity and pharynx</td>\n",
       "      <td>Suffolk</td>\n",
       "      <td>153.6</td>\n",
       "      <td>64.0</td>\n",
       "      <td>22.0</td>\n",
       "      <td>9.8</td>\n",
       "    </tr>\n",
       "    <tr>\n",
       "      <th>36</th>\n",
       "      <td>Ovary</td>\n",
       "      <td>Nassau</td>\n",
       "      <td>N/A</td>\n",
       "      <td>109.4</td>\n",
       "      <td>N/A</td>\n",
       "      <td>72.8</td>\n",
       "    </tr>\n",
       "    <tr>\n",
       "      <th>37</th>\n",
       "      <td>Ovary</td>\n",
       "      <td>Suffolk</td>\n",
       "      <td>N/A</td>\n",
       "      <td>125.8</td>\n",
       "      <td>N/A</td>\n",
       "      <td>78.6</td>\n",
       "    </tr>\n",
       "    <tr>\n",
       "      <th>38</th>\n",
       "      <td>Pancreas</td>\n",
       "      <td>Nassau</td>\n",
       "      <td>138.0</td>\n",
       "      <td>141.8</td>\n",
       "      <td>103.4</td>\n",
       "      <td>106.0</td>\n",
       "    </tr>\n",
       "    <tr>\n",
       "      <th>39</th>\n",
       "      <td>Pancreas</td>\n",
       "      <td>Suffolk</td>\n",
       "      <td>151.8</td>\n",
       "      <td>130.4</td>\n",
       "      <td>114.8</td>\n",
       "      <td>100.0</td>\n",
       "    </tr>\n",
       "    <tr>\n",
       "      <th>40</th>\n",
       "      <td>Prostate</td>\n",
       "      <td>Nassau</td>\n",
       "      <td>1,118.8</td>\n",
       "      <td>N/A</td>\n",
       "      <td>107.8</td>\n",
       "      <td>N/A</td>\n",
       "    </tr>\n",
       "    <tr>\n",
       "      <th>41</th>\n",
       "      <td>Prostate</td>\n",
       "      <td>Suffolk</td>\n",
       "      <td>1,093.0</td>\n",
       "      <td>N/A</td>\n",
       "      <td>113.0</td>\n",
       "      <td>N/A</td>\n",
       "    </tr>\n",
       "    <tr>\n",
       "      <th>42</th>\n",
       "      <td>Rectum &amp; rectosigmoid</td>\n",
       "      <td>Nassau</td>\n",
       "      <td>110.2</td>\n",
       "      <td>87.6</td>\n",
       "      <td>21.8</td>\n",
       "      <td>11.6</td>\n",
       "    </tr>\n",
       "    <tr>\n",
       "      <th>43</th>\n",
       "      <td>Rectum &amp; rectosigmoid</td>\n",
       "      <td>Suffolk</td>\n",
       "      <td>116.0</td>\n",
       "      <td>81.0</td>\n",
       "      <td>21.0</td>\n",
       "      <td>13.2</td>\n",
       "    </tr>\n",
       "    <tr>\n",
       "      <th>44</th>\n",
       "      <td>Stomach</td>\n",
       "      <td>Nassau</td>\n",
       "      <td>83.8</td>\n",
       "      <td>55.2</td>\n",
       "      <td>32.4</td>\n",
       "      <td>23.2</td>\n",
       "    </tr>\n",
       "    <tr>\n",
       "      <th>45</th>\n",
       "      <td>Stomach</td>\n",
       "      <td>Suffolk</td>\n",
       "      <td>82.8</td>\n",
       "      <td>53.6</td>\n",
       "      <td>33.6</td>\n",
       "      <td>20.0</td>\n",
       "    </tr>\n",
       "    <tr>\n",
       "      <th>46</th>\n",
       "      <td>Testis</td>\n",
       "      <td>Nassau</td>\n",
       "      <td>36.4</td>\n",
       "      <td>N/A</td>\n",
       "      <td>1.0</td>\n",
       "      <td>N/A</td>\n",
       "    </tr>\n",
       "    <tr>\n",
       "      <th>47</th>\n",
       "      <td>Testis</td>\n",
       "      <td>Suffolk</td>\n",
       "      <td>50.0</td>\n",
       "      <td>N/A</td>\n",
       "      <td>1.2</td>\n",
       "      <td>N/A</td>\n",
       "    </tr>\n",
       "    <tr>\n",
       "      <th>48</th>\n",
       "      <td>Thyroid</td>\n",
       "      <td>Nassau</td>\n",
       "      <td>98.0</td>\n",
       "      <td>247.6</td>\n",
       "      <td>3.8</td>\n",
       "      <td>6.4</td>\n",
       "    </tr>\n",
       "    <tr>\n",
       "      <th>49</th>\n",
       "      <td>Thyroid</td>\n",
       "      <td>Suffolk</td>\n",
       "      <td>102.6</td>\n",
       "      <td>279.4</td>\n",
       "      <td>4.6</td>\n",
       "      <td>5.8</td>\n",
       "    </tr>\n",
       "    <tr>\n",
       "      <th>50</th>\n",
       "      <td>Urinary bladder (incl. in situ)</td>\n",
       "      <td>Nassau</td>\n",
       "      <td>344.6</td>\n",
       "      <td>116.8</td>\n",
       "      <td>57.0</td>\n",
       "      <td>26.0</td>\n",
       "    </tr>\n",
       "    <tr>\n",
       "      <th>51</th>\n",
       "      <td>Urinary bladder (incl. in situ)</td>\n",
       "      <td>Suffolk</td>\n",
       "      <td>391.2</td>\n",
       "      <td>133.8</td>\n",
       "      <td>63.6</td>\n",
       "      <td>27.0</td>\n",
       "    </tr>\n",
       "  </tbody>\n",
       "</table>\n",
       "</div>"
      ],
      "text/plain": [
       "                                 All Malignant Tumors  \\\n",
       "0                       All Invasive Malignant Tumors   \n",
       "1                       All Invasive Malignant Tumors   \n",
       "2                   Brain and other central nervou...   \n",
       "3                   Brain and other central nervou...   \n",
       "4                                        Cervix uteri   \n",
       "5                                        Cervix uteri   \n",
       "6                              Colon excluding rectum   \n",
       "7                              Colon excluding rectum   \n",
       "8                                          Colorectal   \n",
       "9                                          Colorectal   \n",
       "10                  Corpus uterus or not otherwise...   \n",
       "11                  Corpus uterus or not otherwise...   \n",
       "12                                          Esophagus   \n",
       "13                                          Esophagus   \n",
       "14                                      Female breast   \n",
       "15                                      Female breast   \n",
       "16                                   Hodgkin lymphoma   \n",
       "17                                   Hodgkin lymphoma   \n",
       "18                            Kidney and renal pelvis   \n",
       "19                            Kidney and renal pelvis   \n",
       "20                                             Larynx   \n",
       "21                                             Larynx   \n",
       "22                                          Leukemias   \n",
       "23                                          Leukemias   \n",
       "24                     Liver / intrahepatic bile duct   \n",
       "25                     Liver / intrahepatic bile duct   \n",
       "26                                  Lung and bronchus   \n",
       "27                                  Lung and bronchus   \n",
       "28                               Melanoma of the skin   \n",
       "29                               Melanoma of the skin   \n",
       "30                                            Myeloma   \n",
       "31                                            Myeloma   \n",
       "32                              Non-Hodgkin lymphomas   \n",
       "33                              Non-Hodgkin lymphomas   \n",
       "34                            Oral cavity and pharynx   \n",
       "35                            Oral cavity and pharynx   \n",
       "36                                              Ovary   \n",
       "37                                              Ovary   \n",
       "38                                           Pancreas   \n",
       "39                                           Pancreas   \n",
       "40                                           Prostate   \n",
       "41                                           Prostate   \n",
       "42                              Rectum & rectosigmoid   \n",
       "43                              Rectum & rectosigmoid   \n",
       "44                                            Stomach   \n",
       "45                                            Stomach   \n",
       "46                                             Testis   \n",
       "47                                             Testis   \n",
       "48                                            Thyroid   \n",
       "49                                            Thyroid   \n",
       "50                    Urinary bladder (incl. in situ)   \n",
       "51                    Urinary bladder (incl. in situ)   \n",
       "\n",
       "                     County Males average annual cases  \\\n",
       "0                    Nassau                    4,332.4   \n",
       "1                   Suffolk                    4,824.4   \n",
       "2                    Nassau                       57.0   \n",
       "3                   Suffolk                       69.2   \n",
       "4                    Nassau                        N/A   \n",
       "5                   Suffolk                        N/A   \n",
       "6                    Nassau                      231.4   \n",
       "7                   Suffolk                      264.6   \n",
       "8                    Nassau                      341.6   \n",
       "9                   Suffolk                      380.6   \n",
       "10                   Nassau                        N/A   \n",
       "11                  Suffolk                        N/A   \n",
       "12                   Nassau                       55.8   \n",
       "13                  Suffolk                       72.8   \n",
       "14                   Nassau                        N/A   \n",
       "15                  Suffolk                        N/A   \n",
       "16                   Nassau                       24.8   \n",
       "17                  Suffolk                       30.2   \n",
       "18                   Nassau                      204.0   \n",
       "19                  Suffolk                      237.4   \n",
       "20                   Nassau                       36.6   \n",
       "21                  Suffolk                       49.4   \n",
       "22                   Nassau                      189.6   \n",
       "23                  Suffolk                      214.4   \n",
       "24                   Nassau                       87.4   \n",
       "25                  Suffolk                      112.0   \n",
       "26                   Nassau                      430.0   \n",
       "27                  Suffolk                      557.2   \n",
       "28                   Nassau                      222.4   \n",
       "29                  Suffolk                      290.8   \n",
       "30                   Nassau                       87.2   \n",
       "31                  Suffolk                       92.2   \n",
       "32                   Nassau                      220.4   \n",
       "33                  Suffolk                      246.0   \n",
       "34                   Nassau                      113.4   \n",
       "35                  Suffolk                      153.6   \n",
       "36                   Nassau                        N/A   \n",
       "37                  Suffolk                        N/A   \n",
       "38                   Nassau                      138.0   \n",
       "39                  Suffolk                      151.8   \n",
       "40                   Nassau                    1,118.8   \n",
       "41                  Suffolk                    1,093.0   \n",
       "42                   Nassau                      110.2   \n",
       "43                  Suffolk                      116.0   \n",
       "44                   Nassau                       83.8   \n",
       "45                  Suffolk                       82.8   \n",
       "46                   Nassau                       36.4   \n",
       "47                  Suffolk                       50.0   \n",
       "48                   Nassau                       98.0   \n",
       "49                  Suffolk                      102.6   \n",
       "50                   Nassau                      344.6   \n",
       "51                  Suffolk                      391.2   \n",
       "\n",
       "   Female average annual cases Male average annual deaths  \\\n",
       "0                      4,470.6                    1,181.4   \n",
       "1                      4,753.0                    1,388.2   \n",
       "2                         44.8                       38.0   \n",
       "3                         56.0                       43.4   \n",
       "4                         47.6                        N/A   \n",
       "5                         56.8                        N/A   \n",
       "6                        255.0                       84.0   \n",
       "7                        256.8                       99.4   \n",
       "8                        342.6                      105.8   \n",
       "9                        337.8                      120.4   \n",
       "10                       318.6                        N/A   \n",
       "11                       323.0                        N/A   \n",
       "12                        19.0                       39.0   \n",
       "13                        20.8                       56.2   \n",
       "14                     1,298.6                        N/A   \n",
       "15                     1,314.2                        N/A   \n",
       "16                        21.6                        2.6   \n",
       "17                        22.0                        1.8   \n",
       "18                       103.2                       32.6   \n",
       "19                       120.6                       41.2   \n",
       "20                        10.2                        9.2   \n",
       "21                        11.8                       13.8   \n",
       "22                       137.8                       66.6   \n",
       "23                       149.2                       65.6   \n",
       "24                        34.2                       56.4   \n",
       "25                        43.0                       71.6   \n",
       "26                       526.4                      266.6   \n",
       "27                       650.2                      339.8   \n",
       "28                       160.8                       27.8   \n",
       "29                       183.8                       30.2   \n",
       "30                        68.2                       29.6   \n",
       "31                        70.0                       28.0   \n",
       "32                       194.8                       50.0   \n",
       "33                       201.8                       56.2   \n",
       "34                        65.0                       14.8   \n",
       "35                        64.0                       22.0   \n",
       "36                       109.4                        N/A   \n",
       "37                       125.8                        N/A   \n",
       "38                       141.8                      103.4   \n",
       "39                       130.4                      114.8   \n",
       "40                         N/A                      107.8   \n",
       "41                         N/A                      113.0   \n",
       "42                        87.6                       21.8   \n",
       "43                        81.0                       21.0   \n",
       "44                        55.2                       32.4   \n",
       "45                        53.6                       33.6   \n",
       "46                         N/A                        1.0   \n",
       "47                         N/A                        1.2   \n",
       "48                       247.6                        3.8   \n",
       "49                       279.4                        4.6   \n",
       "50                       116.8                       57.0   \n",
       "51                       133.8                       63.6   \n",
       "\n",
       "   Female average annual deaths  \n",
       "0                       1,261.2  \n",
       "1                       1,360.8  \n",
       "2                          31.4  \n",
       "3                          31.6  \n",
       "4                          12.6  \n",
       "5                          20.0  \n",
       "6                          96.4  \n",
       "7                          91.2  \n",
       "8                         108.0  \n",
       "9                         104.4  \n",
       "10                         57.0  \n",
       "11                         56.0  \n",
       "12                         13.0  \n",
       "13                         15.6  \n",
       "14                        187.4  \n",
       "15                        198.2  \n",
       "16                          2.2  \n",
       "17                          2.8  \n",
       "18                         18.6  \n",
       "19                         18.0  \n",
       "20                          4.2  \n",
       "21                          2.6  \n",
       "22                         43.2  \n",
       "23                         42.2  \n",
       "24                         28.6  \n",
       "25                         33.0  \n",
       "26                        287.6  \n",
       "27                        358.4  \n",
       "28                         13.6  \n",
       "29                         15.8  \n",
       "30                         25.6  \n",
       "31                         24.4  \n",
       "32                         41.6  \n",
       "33                         36.8  \n",
       "34                         11.6  \n",
       "35                          9.8  \n",
       "36                         72.8  \n",
       "37                         78.6  \n",
       "38                        106.0  \n",
       "39                        100.0  \n",
       "40                          N/A  \n",
       "41                          N/A  \n",
       "42                         11.6  \n",
       "43                         13.2  \n",
       "44                         23.2  \n",
       "45                         20.0  \n",
       "46                          N/A  \n",
       "47                          N/A  \n",
       "48                          6.4  \n",
       "49                          5.8  \n",
       "50                         26.0  \n",
       "51                         27.0  "
      ]
     },
     "execution_count": 31,
     "metadata": {},
     "output_type": "execute_result"
    }
   ],
   "source": [
    "#population in Suffolk is approx 146,000 people greater than Nassau so cancer rates should be greater \n",
    "#Prostate Cancer is the only one greater in Nassau than in Suffolk so we have to find out why \n",
    "longisland"
   ]
  },
  {
   "cell_type": "markdown",
   "metadata": {},
   "source": [
    "# Florida Extraction"
   ]
  },
  {
   "cell_type": "code",
   "execution_count": 5,
   "metadata": {},
   "outputs": [],
   "source": [
    "fl1=tabula.read_pdf(\"florida/Florida 2016 cases.pdf\", pages=\"all\")  \n",
    "fl2=tabula.read_pdf(\"florida/Florida 2017 cases.pdf\", pages=\"all\")  \n",
    "fl3=tabula.read_pdf(\"florida/Florida 2018 cases.pdf\", pages=\"all\")  \n",
    "fl4=tabula.read_pdf(\"florida/Florida 2019 cases.pdf\", pages=\"all\")  \n",
    "fl5=tabula.read_pdf(\"florida/Florida 2020 cases.pdf\", pages=\"all\")  "
   ]
  },
  {
   "cell_type": "code",
   "execution_count": 6,
   "metadata": {},
   "outputs": [],
   "source": [
    "def florida_extract(fl):\n",
    "    florida=fl[0]\n",
    "    florida.columns = florida.iloc[0]\n",
    "    florida = florida[1:]\n",
    "    florida.rename(columns={florida.columns[0]: 'County'},inplace=True)\n",
    "    florida=florida[1:]\n",
    "    florida=florida.replace('^','0')\n",
    "    #florida['Cancers'] = florida['Cancers'].str.replace(',', '').astype(int)\n",
    "    return florida"
   ]
  },
  {
   "cell_type": "code",
   "execution_count": 7,
   "metadata": {},
   "outputs": [],
   "source": [
    "fl1=florida_extract(fl1)\n",
    "fl2=florida_extract(fl2)\n",
    "fl3=florida_extract(fl3)\n",
    "fl4=florida_extract(fl4)\n",
    "fl5=florida_extract(fl5)"
   ]
  },
  {
   "cell_type": "code",
   "execution_count": 8,
   "metadata": {},
   "outputs": [],
   "source": [
    "fl1=fl1.rename(columns={'All Cancers':'Cancers'})"
   ]
  },
  {
   "cell_type": "code",
   "execution_count": 9,
   "metadata": {},
   "outputs": [],
   "source": [
    "florida=pd.DataFrame()"
   ]
  },
  {
   "cell_type": "code",
   "execution_count": 10,
   "metadata": {},
   "outputs": [],
   "source": [
    "k=0\n",
    "for i in fl1.columns:\n",
    "    if(k!=0):\n",
    "        fl1[i] = fl1[i].str.replace(',', '').astype(int)\n",
    "        fl2[i] = fl2[i].str.replace(',', '').astype(int)\n",
    "        fl3[i] = fl3[i].str.replace(',', '').astype(int)\n",
    "        fl4[i] = fl4[i].str.replace(',', '').astype(int)\n",
    "        fl5[i] = fl5[i].str.replace(',', '').astype(int)\n",
    "        florida[i]=fl1[i]+fl2[i]+fl3[i]+fl4[i]+fl5[i]\n",
    "    else:\n",
    "        florida[i]=fl1[i]\n",
    "    k+=1\n",
    "    "
   ]
  },
  {
   "cell_type": "code",
   "execution_count": 11,
   "metadata": {},
   "outputs": [],
   "source": [
    "florida.to_csv('Florida Cancer 2016-2020.csv')"
   ]
  },
  {
   "cell_type": "code",
   "execution_count": 12,
   "metadata": {},
   "outputs": [],
   "source": [
    "import plotly.figure_factory as ff"
   ]
  },
  {
   "cell_type": "code",
   "execution_count": 13,
   "metadata": {},
   "outputs": [],
   "source": [
    "county_fl=florida['County'].tolist()"
   ]
  },
  {
   "cell_type": "code",
   "execution_count": 14,
   "metadata": {},
   "outputs": [],
   "source": [
    "fips=['12001', '12003', '12005', '12007', '12009', '12011', '12013', '12015', '12017', '12019', '12021', '12023','12027', '12029', '12031','12033','12035','12037','12039','12041','12043','12045','12047','12049','12051','12053','12055',\n",
    "      '12057','12059','12061','12063','12065','12067','12069','12071','12073','12075','12077','12079','12081','12083',\n",
    "      '12085','12086','12087','12089','12091','12093','12095','12097','12099','12101','12103','12105','12107','12109','12111',\n",
    "      '12113','12115','12117','12119','12121','12123','12125','12127','12129','12131','12133']"
   ]
  },
  {
   "cell_type": "code",
   "execution_count": 15,
   "metadata": {},
   "outputs": [],
   "source": [
    "import warnings\n",
    "warnings.filterwarnings(\"ignore\")"
   ]
  },
  {
   "cell_type": "code",
   "execution_count": 16,
   "metadata": {},
   "outputs": [],
   "source": [
    "import numpy as np"
   ]
  },
  {
   "cell_type": "code",
   "execution_count": 17,
   "metadata": {},
   "outputs": [],
   "source": [
    "values=florida['Cancers'].tolist()"
   ]
  },
  {
   "cell_type": "code",
   "execution_count": 18,
   "metadata": {},
   "outputs": [],
   "source": [
    "endpts = list(np.mgrid[min(values):max(values):6j])"
   ]
  },
  {
   "cell_type": "code",
   "execution_count": 19,
   "metadata": {},
   "outputs": [],
   "source": [
    "import plotly as py\n",
    "import plotly.graph_objects as go"
   ]
  },
  {
   "cell_type": "code",
   "execution_count": 20,
   "metadata": {},
   "outputs": [
    {
     "data": {
      "text/html": [
       "<div>\n",
       "<style scoped>\n",
       "    .dataframe tbody tr th:only-of-type {\n",
       "        vertical-align: middle;\n",
       "    }\n",
       "\n",
       "    .dataframe tbody tr th {\n",
       "        vertical-align: top;\n",
       "    }\n",
       "\n",
       "    .dataframe thead th {\n",
       "        text-align: right;\n",
       "    }\n",
       "</style>\n",
       "<table border=\"1\" class=\"dataframe\">\n",
       "  <thead>\n",
       "    <tr style=\"text-align: right;\">\n",
       "      <th></th>\n",
       "      <th>County</th>\n",
       "      <th>Cancers</th>\n",
       "      <th>Bronchus</th>\n",
       "      <th>Prostate</th>\n",
       "      <th>Breast</th>\n",
       "      <th>Colorectal</th>\n",
       "      <th>Bladder</th>\n",
       "      <th>Neck</th>\n",
       "      <th>Hodgkin</th>\n",
       "      <th>Melanoma</th>\n",
       "      <th>Ovary</th>\n",
       "      <th>Cervix</th>\n",
       "    </tr>\n",
       "  </thead>\n",
       "  <tbody>\n",
       "    <tr>\n",
       "      <th>44</th>\n",
       "      <td>Miami-Dade</td>\n",
       "      <td>66624</td>\n",
       "      <td>7059</td>\n",
       "      <td>7704</td>\n",
       "      <td>9609</td>\n",
       "      <td>6214</td>\n",
       "      <td>2489</td>\n",
       "      <td>2569</td>\n",
       "      <td>3321</td>\n",
       "      <td>1266</td>\n",
       "      <td>913</td>\n",
       "      <td>759</td>\n",
       "    </tr>\n",
       "    <tr>\n",
       "      <th>7</th>\n",
       "      <td>Broward</td>\n",
       "      <td>47640</td>\n",
       "      <td>5170</td>\n",
       "      <td>4778</td>\n",
       "      <td>7042</td>\n",
       "      <td>3983</td>\n",
       "      <td>1878</td>\n",
       "      <td>1881</td>\n",
       "      <td>2217</td>\n",
       "      <td>2084</td>\n",
       "      <td>601</td>\n",
       "      <td>463</td>\n",
       "    </tr>\n",
       "    <tr>\n",
       "      <th>51</th>\n",
       "      <td>Palm Beach</td>\n",
       "      <td>45875</td>\n",
       "      <td>5636</td>\n",
       "      <td>4912</td>\n",
       "      <td>6627</td>\n",
       "      <td>3368</td>\n",
       "      <td>2461</td>\n",
       "      <td>1675</td>\n",
       "      <td>2298</td>\n",
       "      <td>2632</td>\n",
       "      <td>608</td>\n",
       "      <td>313</td>\n",
       "    </tr>\n",
       "    <tr>\n",
       "      <th>29</th>\n",
       "      <td>Hillsborough</td>\n",
       "      <td>38160</td>\n",
       "      <td>4649</td>\n",
       "      <td>3947</td>\n",
       "      <td>5343</td>\n",
       "      <td>3179</td>\n",
       "      <td>1508</td>\n",
       "      <td>1552</td>\n",
       "      <td>1733</td>\n",
       "      <td>1941</td>\n",
       "      <td>498</td>\n",
       "      <td>364</td>\n",
       "    </tr>\n",
       "    <tr>\n",
       "      <th>53</th>\n",
       "      <td>Pinellas</td>\n",
       "      <td>36670</td>\n",
       "      <td>5163</td>\n",
       "      <td>3567</td>\n",
       "      <td>5220</td>\n",
       "      <td>2746</td>\n",
       "      <td>1811</td>\n",
       "      <td>1678</td>\n",
       "      <td>1644</td>\n",
       "      <td>2231</td>\n",
       "      <td>450</td>\n",
       "      <td>246</td>\n",
       "    </tr>\n",
       "    <tr>\n",
       "      <th>...</th>\n",
       "      <td>...</td>\n",
       "      <td>...</td>\n",
       "      <td>...</td>\n",
       "      <td>...</td>\n",
       "      <td>...</td>\n",
       "      <td>...</td>\n",
       "      <td>...</td>\n",
       "      <td>...</td>\n",
       "      <td>...</td>\n",
       "      <td>...</td>\n",
       "      <td>...</td>\n",
       "      <td>...</td>\n",
       "    </tr>\n",
       "    <tr>\n",
       "      <th>30</th>\n",
       "      <td>Holmes</td>\n",
       "      <td>402</td>\n",
       "      <td>90</td>\n",
       "      <td>0</td>\n",
       "      <td>24</td>\n",
       "      <td>11</td>\n",
       "      <td>0</td>\n",
       "      <td>0</td>\n",
       "      <td>0</td>\n",
       "      <td>0</td>\n",
       "      <td>0</td>\n",
       "      <td>0</td>\n",
       "    </tr>\n",
       "    <tr>\n",
       "      <th>8</th>\n",
       "      <td>Calhoun</td>\n",
       "      <td>392</td>\n",
       "      <td>81</td>\n",
       "      <td>0</td>\n",
       "      <td>23</td>\n",
       "      <td>25</td>\n",
       "      <td>0</td>\n",
       "      <td>0</td>\n",
       "      <td>0</td>\n",
       "      <td>0</td>\n",
       "      <td>0</td>\n",
       "      <td>0</td>\n",
       "    </tr>\n",
       "    <tr>\n",
       "      <th>22</th>\n",
       "      <td>Glades</td>\n",
       "      <td>320</td>\n",
       "      <td>13</td>\n",
       "      <td>0</td>\n",
       "      <td>0</td>\n",
       "      <td>0</td>\n",
       "      <td>0</td>\n",
       "      <td>0</td>\n",
       "      <td>0</td>\n",
       "      <td>69</td>\n",
       "      <td>0</td>\n",
       "      <td>0</td>\n",
       "    </tr>\n",
       "    <tr>\n",
       "      <th>39</th>\n",
       "      <td>Liberty</td>\n",
       "      <td>199</td>\n",
       "      <td>24</td>\n",
       "      <td>0</td>\n",
       "      <td>0</td>\n",
       "      <td>0</td>\n",
       "      <td>0</td>\n",
       "      <td>0</td>\n",
       "      <td>0</td>\n",
       "      <td>0</td>\n",
       "      <td>0</td>\n",
       "      <td>0</td>\n",
       "    </tr>\n",
       "    <tr>\n",
       "      <th>34</th>\n",
       "      <td>Lafayette</td>\n",
       "      <td>180</td>\n",
       "      <td>12</td>\n",
       "      <td>0</td>\n",
       "      <td>11</td>\n",
       "      <td>0</td>\n",
       "      <td>0</td>\n",
       "      <td>0</td>\n",
       "      <td>0</td>\n",
       "      <td>0</td>\n",
       "      <td>0</td>\n",
       "      <td>0</td>\n",
       "    </tr>\n",
       "  </tbody>\n",
       "</table>\n",
       "<p>67 rows × 12 columns</p>\n",
       "</div>"
      ],
      "text/plain": [
       "          County  Cancers  Bronchus  Prostate  Breast  Colorectal  Bladder  \\\n",
       "44    Miami-Dade    66624      7059      7704    9609        6214     2489   \n",
       "7        Broward    47640      5170      4778    7042        3983     1878   \n",
       "51    Palm Beach    45875      5636      4912    6627        3368     2461   \n",
       "29  Hillsborough    38160      4649      3947    5343        3179     1508   \n",
       "53      Pinellas    36670      5163      3567    5220        2746     1811   \n",
       "..           ...      ...       ...       ...     ...         ...      ...   \n",
       "30        Holmes      402        90         0      24          11        0   \n",
       "8        Calhoun      392        81         0      23          25        0   \n",
       "22        Glades      320        13         0       0           0        0   \n",
       "39       Liberty      199        24         0       0           0        0   \n",
       "34     Lafayette      180        12         0      11           0        0   \n",
       "\n",
       "    Neck  Hodgkin  Melanoma  Ovary  Cervix  \n",
       "44  2569     3321      1266    913     759  \n",
       "7   1881     2217      2084    601     463  \n",
       "51  1675     2298      2632    608     313  \n",
       "29  1552     1733      1941    498     364  \n",
       "53  1678     1644      2231    450     246  \n",
       "..   ...      ...       ...    ...     ...  \n",
       "30     0        0         0      0       0  \n",
       "8      0        0         0      0       0  \n",
       "22     0        0        69      0       0  \n",
       "39     0        0         0      0       0  \n",
       "34     0        0         0      0       0  \n",
       "\n",
       "[67 rows x 12 columns]"
      ]
     },
     "execution_count": 20,
     "metadata": {},
     "output_type": "execute_result"
    }
   ],
   "source": [
    "florida.sort_values('Cancers', ascending=False)"
   ]
  },
  {
   "cell_type": "code",
   "execution_count": 21,
   "metadata": {
    "scrolled": false
   },
   "outputs": [
    {
     "data": {
      "text/plain": [
       "'choropleth_california_and_surr_states_outlines.html'"
      ]
     },
     "execution_count": 21,
     "metadata": {},
     "output_type": "execute_result"
    }
   ],
   "source": [
    "#heatmap for 2016-2020 population per county in FL\n",
    "fig =ff.create_choropleth(fips=fips,values=values,scope=[\"Florida\"],binning_endpoints=endpts, show_state_data=True,county_outline={'color': 'rgb(255,255,255)', 'width': 0.5},round_legend_values=True,title='Count of Cancer per County in Florida from 2016-2020')\n",
    "#on click of state goes to heatmap for that state and its county\n",
    "py.offline.plot(fig,\n",
    "                filename='choropleth_california_and_surr_states_outlines',\n",
    "                include_plotlyjs='https://cdn.plot.ly/plotly-1.42.3.min.js')"
   ]
  },
  {
   "cell_type": "code",
   "execution_count": 24,
   "metadata": {},
   "outputs": [],
   "source": [
    "fig.write_html(\"Desktop/Florida.html\")"
   ]
  },
  {
   "cell_type": "code",
   "execution_count": 22,
   "metadata": {},
   "outputs": [],
   "source": [
    "max_florida=pd.DataFrame(columns=['County'])"
   ]
  },
  {
   "cell_type": "code",
   "execution_count": 23,
   "metadata": {},
   "outputs": [],
   "source": [
    "max_florida['County']=florida['County']"
   ]
  },
  {
   "cell_type": "code",
   "execution_count": 24,
   "metadata": {},
   "outputs": [],
   "source": [
    "florida_cluster=florida.copy()\n",
    "del florida_cluster['Cancers']\n",
    "del florida_cluster['County']"
   ]
  },
  {
   "cell_type": "code",
   "execution_count": 25,
   "metadata": {},
   "outputs": [],
   "source": [
    "max_florida['Max Column']=florida_cluster.idxmax(axis=1)"
   ]
  },
  {
   "cell_type": "code",
   "execution_count": 26,
   "metadata": {},
   "outputs": [
    {
     "data": {
      "text/html": [
       "<div>\n",
       "<style scoped>\n",
       "    .dataframe tbody tr th:only-of-type {\n",
       "        vertical-align: middle;\n",
       "    }\n",
       "\n",
       "    .dataframe tbody tr th {\n",
       "        vertical-align: top;\n",
       "    }\n",
       "\n",
       "    .dataframe thead th {\n",
       "        text-align: right;\n",
       "    }\n",
       "</style>\n",
       "<table border=\"1\" class=\"dataframe\">\n",
       "  <thead>\n",
       "    <tr style=\"text-align: right;\">\n",
       "      <th></th>\n",
       "      <th>County</th>\n",
       "    </tr>\n",
       "    <tr>\n",
       "      <th>Max Column</th>\n",
       "      <th></th>\n",
       "    </tr>\n",
       "  </thead>\n",
       "  <tbody>\n",
       "    <tr>\n",
       "      <th>Breast</th>\n",
       "      <td>15</td>\n",
       "    </tr>\n",
       "    <tr>\n",
       "      <th>Bronchus</th>\n",
       "      <td>50</td>\n",
       "    </tr>\n",
       "    <tr>\n",
       "      <th>Melanoma</th>\n",
       "      <td>1</td>\n",
       "    </tr>\n",
       "    <tr>\n",
       "      <th>Prostate</th>\n",
       "      <td>1</td>\n",
       "    </tr>\n",
       "  </tbody>\n",
       "</table>\n",
       "</div>"
      ],
      "text/plain": [
       "            County\n",
       "Max Column        \n",
       "Breast          15\n",
       "Bronchus        50\n",
       "Melanoma         1\n",
       "Prostate         1"
      ]
     },
     "execution_count": 26,
     "metadata": {},
     "output_type": "execute_result"
    }
   ],
   "source": [
    "max_florida.groupby(max_florida['Max Column']).count()"
   ]
  },
  {
   "cell_type": "code",
   "execution_count": 27,
   "metadata": {},
   "outputs": [
    {
     "data": {
      "text/html": [
       "<div>\n",
       "<style scoped>\n",
       "    .dataframe tbody tr th:only-of-type {\n",
       "        vertical-align: middle;\n",
       "    }\n",
       "\n",
       "    .dataframe tbody tr th {\n",
       "        vertical-align: top;\n",
       "    }\n",
       "\n",
       "    .dataframe thead th {\n",
       "        text-align: right;\n",
       "    }\n",
       "</style>\n",
       "<table border=\"1\" class=\"dataframe\">\n",
       "  <thead>\n",
       "    <tr style=\"text-align: right;\">\n",
       "      <th></th>\n",
       "      <th>County</th>\n",
       "      <th>Max Column</th>\n",
       "    </tr>\n",
       "  </thead>\n",
       "  <tbody>\n",
       "    <tr>\n",
       "      <th>2</th>\n",
       "      <td>Alachua</td>\n",
       "      <td>Breast</td>\n",
       "    </tr>\n",
       "    <tr>\n",
       "      <th>3</th>\n",
       "      <td>Baker</td>\n",
       "      <td>Bronchus</td>\n",
       "    </tr>\n",
       "    <tr>\n",
       "      <th>4</th>\n",
       "      <td>Bay</td>\n",
       "      <td>Bronchus</td>\n",
       "    </tr>\n",
       "    <tr>\n",
       "      <th>5</th>\n",
       "      <td>Bradford</td>\n",
       "      <td>Bronchus</td>\n",
       "    </tr>\n",
       "    <tr>\n",
       "      <th>6</th>\n",
       "      <td>Brevard</td>\n",
       "      <td>Bronchus</td>\n",
       "    </tr>\n",
       "    <tr>\n",
       "      <th>...</th>\n",
       "      <td>...</td>\n",
       "      <td>...</td>\n",
       "    </tr>\n",
       "    <tr>\n",
       "      <th>64</th>\n",
       "      <td>Union</td>\n",
       "      <td>Prostate</td>\n",
       "    </tr>\n",
       "    <tr>\n",
       "      <th>65</th>\n",
       "      <td>Volusia</td>\n",
       "      <td>Bronchus</td>\n",
       "    </tr>\n",
       "    <tr>\n",
       "      <th>66</th>\n",
       "      <td>Wakulla</td>\n",
       "      <td>Bronchus</td>\n",
       "    </tr>\n",
       "    <tr>\n",
       "      <th>67</th>\n",
       "      <td>Walton</td>\n",
       "      <td>Bronchus</td>\n",
       "    </tr>\n",
       "    <tr>\n",
       "      <th>68</th>\n",
       "      <td>Washington</td>\n",
       "      <td>Bronchus</td>\n",
       "    </tr>\n",
       "  </tbody>\n",
       "</table>\n",
       "<p>67 rows × 2 columns</p>\n",
       "</div>"
      ],
      "text/plain": [
       "        County Max Column\n",
       "2      Alachua     Breast\n",
       "3        Baker   Bronchus\n",
       "4          Bay   Bronchus\n",
       "5     Bradford   Bronchus\n",
       "6      Brevard   Bronchus\n",
       "..         ...        ...\n",
       "64       Union   Prostate\n",
       "65     Volusia   Bronchus\n",
       "66     Wakulla   Bronchus\n",
       "67      Walton   Bronchus\n",
       "68  Washington   Bronchus\n",
       "\n",
       "[67 rows x 2 columns]"
      ]
     },
     "execution_count": 27,
     "metadata": {},
     "output_type": "execute_result"
    }
   ],
   "source": [
    "max_florida"
   ]
  },
  {
   "cell_type": "code",
   "execution_count": null,
   "metadata": {},
   "outputs": [],
   "source": [
    "max_florida.loc[df['pop'] < 2.e6, 'country'] = 'Other countries' # Represent only large countries\n",
    "fig = px.pie(df, values='pop', names='country', title='Population of European continent')\n",
    "fig.show()"
   ]
  },
  {
   "cell_type": "code",
   "execution_count": 28,
   "metadata": {},
   "outputs": [
    {
     "data": {
      "text/html": [
       "<div>\n",
       "<style scoped>\n",
       "    .dataframe tbody tr th:only-of-type {\n",
       "        vertical-align: middle;\n",
       "    }\n",
       "\n",
       "    .dataframe tbody tr th {\n",
       "        vertical-align: top;\n",
       "    }\n",
       "\n",
       "    .dataframe thead th {\n",
       "        text-align: right;\n",
       "    }\n",
       "</style>\n",
       "<table border=\"1\" class=\"dataframe\">\n",
       "  <thead>\n",
       "    <tr style=\"text-align: right;\">\n",
       "      <th></th>\n",
       "      <th>County</th>\n",
       "      <th>Max Column</th>\n",
       "    </tr>\n",
       "  </thead>\n",
       "  <tbody>\n",
       "    <tr>\n",
       "      <th>22</th>\n",
       "      <td>Glades</td>\n",
       "      <td>Melanoma</td>\n",
       "    </tr>\n",
       "  </tbody>\n",
       "</table>\n",
       "</div>"
      ],
      "text/plain": [
       "    County Max Column\n",
       "22  Glades   Melanoma"
      ]
     },
     "execution_count": 28,
     "metadata": {},
     "output_type": "execute_result"
    }
   ],
   "source": [
    "max_florida.loc[max_florida['Max Column']=='Melanoma']"
   ]
  },
  {
   "cell_type": "code",
   "execution_count": 31,
   "metadata": {},
   "outputs": [
    {
     "data": {
      "text/html": [
       "<div>\n",
       "<style scoped>\n",
       "    .dataframe tbody tr th:only-of-type {\n",
       "        vertical-align: middle;\n",
       "    }\n",
       "\n",
       "    .dataframe tbody tr th {\n",
       "        vertical-align: top;\n",
       "    }\n",
       "\n",
       "    .dataframe thead th {\n",
       "        text-align: right;\n",
       "    }\n",
       "</style>\n",
       "<table border=\"1\" class=\"dataframe\">\n",
       "  <thead>\n",
       "    <tr style=\"text-align: right;\">\n",
       "      <th></th>\n",
       "      <th>County</th>\n",
       "      <th>Cancers</th>\n",
       "      <th>Bronchus</th>\n",
       "      <th>Prostate</th>\n",
       "      <th>Breast</th>\n",
       "      <th>Colorectal</th>\n",
       "      <th>Bladder</th>\n",
       "      <th>Neck</th>\n",
       "      <th>Hodgkin</th>\n",
       "      <th>Melanoma</th>\n",
       "      <th>Ovary</th>\n",
       "      <th>Cervix</th>\n",
       "    </tr>\n",
       "  </thead>\n",
       "  <tbody>\n",
       "    <tr>\n",
       "      <th>64</th>\n",
       "      <td>Union</td>\n",
       "      <td>1124</td>\n",
       "      <td>183</td>\n",
       "      <td>189</td>\n",
       "      <td>57</td>\n",
       "      <td>122</td>\n",
       "      <td>12</td>\n",
       "      <td>104</td>\n",
       "      <td>11</td>\n",
       "      <td>0</td>\n",
       "      <td>0</td>\n",
       "      <td>0</td>\n",
       "    </tr>\n",
       "  </tbody>\n",
       "</table>\n",
       "</div>"
      ],
      "text/plain": [
       "   County  Cancers  Bronchus  Prostate  Breast  Colorectal  Bladder  Neck  \\\n",
       "64  Union     1124       183       189      57         122       12   104   \n",
       "\n",
       "    Hodgkin  Melanoma  Ovary  Cervix  \n",
       "64       11         0      0       0  "
      ]
     },
     "execution_count": 31,
     "metadata": {},
     "output_type": "execute_result"
    }
   ],
   "source": [
    "florida.loc[max_florida['Max Column']=='Prostate']"
   ]
  },
  {
   "cell_type": "code",
   "execution_count": 33,
   "metadata": {},
   "outputs": [
    {
     "data": {
      "text/html": [
       "<div>\n",
       "<style scoped>\n",
       "    .dataframe tbody tr th:only-of-type {\n",
       "        vertical-align: middle;\n",
       "    }\n",
       "\n",
       "    .dataframe tbody tr th {\n",
       "        vertical-align: top;\n",
       "    }\n",
       "\n",
       "    .dataframe thead th {\n",
       "        text-align: right;\n",
       "    }\n",
       "</style>\n",
       "<table border=\"1\" class=\"dataframe\">\n",
       "  <thead>\n",
       "    <tr style=\"text-align: right;\">\n",
       "      <th></th>\n",
       "      <th>County</th>\n",
       "      <th>Cancers</th>\n",
       "      <th>Bronchus</th>\n",
       "      <th>Prostate</th>\n",
       "      <th>Breast</th>\n",
       "      <th>Colorectal</th>\n",
       "      <th>Bladder</th>\n",
       "      <th>Neck</th>\n",
       "      <th>Hodgkin</th>\n",
       "      <th>Melanoma</th>\n",
       "      <th>Ovary</th>\n",
       "      <th>Cervix</th>\n",
       "    </tr>\n",
       "  </thead>\n",
       "  <tbody>\n",
       "    <tr>\n",
       "      <th>61</th>\n",
       "      <td>Sumter</td>\n",
       "      <td>7112</td>\n",
       "      <td>1081</td>\n",
       "      <td>879</td>\n",
       "      <td>1107</td>\n",
       "      <td>457</td>\n",
       "      <td>418</td>\n",
       "      <td>250</td>\n",
       "      <td>264</td>\n",
       "      <td>256</td>\n",
       "      <td>84</td>\n",
       "      <td>0</td>\n",
       "    </tr>\n",
       "  </tbody>\n",
       "</table>\n",
       "</div>"
      ],
      "text/plain": [
       "    County  Cancers  Bronchus  Prostate  Breast  Colorectal  Bladder  Neck  \\\n",
       "61  Sumter     7112      1081       879    1107         457      418   250   \n",
       "\n",
       "    Hodgkin  Melanoma  Ovary  Cervix  \n",
       "61      264       256     84       0  "
      ]
     },
     "execution_count": 33,
     "metadata": {},
     "output_type": "execute_result"
    }
   ],
   "source": [
    "florida.loc[florida['County']=='Sumter']"
   ]
  },
  {
   "cell_type": "code",
   "execution_count": 32,
   "metadata": {},
   "outputs": [
    {
     "data": {
      "text/html": [
       "<div>\n",
       "<style scoped>\n",
       "    .dataframe tbody tr th:only-of-type {\n",
       "        vertical-align: middle;\n",
       "    }\n",
       "\n",
       "    .dataframe tbody tr th {\n",
       "        vertical-align: top;\n",
       "    }\n",
       "\n",
       "    .dataframe thead th {\n",
       "        text-align: right;\n",
       "    }\n",
       "</style>\n",
       "<table border=\"1\" class=\"dataframe\">\n",
       "  <thead>\n",
       "    <tr style=\"text-align: right;\">\n",
       "      <th></th>\n",
       "      <th>County</th>\n",
       "      <th>Max Column</th>\n",
       "    </tr>\n",
       "  </thead>\n",
       "  <tbody>\n",
       "    <tr>\n",
       "      <th>2</th>\n",
       "      <td>Alachua</td>\n",
       "      <td>Breast</td>\n",
       "    </tr>\n",
       "    <tr>\n",
       "      <th>7</th>\n",
       "      <td>Broward</td>\n",
       "      <td>Breast</td>\n",
       "    </tr>\n",
       "    <tr>\n",
       "      <th>12</th>\n",
       "      <td>Collier</td>\n",
       "      <td>Breast</td>\n",
       "    </tr>\n",
       "    <tr>\n",
       "      <th>16</th>\n",
       "      <td>Duval</td>\n",
       "      <td>Breast</td>\n",
       "    </tr>\n",
       "    <tr>\n",
       "      <th>29</th>\n",
       "      <td>Hillsborough</td>\n",
       "      <td>Breast</td>\n",
       "    </tr>\n",
       "    <tr>\n",
       "      <th>37</th>\n",
       "      <td>Leon</td>\n",
       "      <td>Breast</td>\n",
       "    </tr>\n",
       "    <tr>\n",
       "      <th>41</th>\n",
       "      <td>Manatee</td>\n",
       "      <td>Breast</td>\n",
       "    </tr>\n",
       "    <tr>\n",
       "      <th>44</th>\n",
       "      <td>Miami-Dade</td>\n",
       "      <td>Breast</td>\n",
       "    </tr>\n",
       "    <tr>\n",
       "      <th>49</th>\n",
       "      <td>Orange</td>\n",
       "      <td>Breast</td>\n",
       "    </tr>\n",
       "    <tr>\n",
       "      <th>50</th>\n",
       "      <td>Osceola</td>\n",
       "      <td>Breast</td>\n",
       "    </tr>\n",
       "    <tr>\n",
       "      <th>51</th>\n",
       "      <td>Palm Beach</td>\n",
       "      <td>Breast</td>\n",
       "    </tr>\n",
       "    <tr>\n",
       "      <th>53</th>\n",
       "      <td>Pinellas</td>\n",
       "      <td>Breast</td>\n",
       "    </tr>\n",
       "    <tr>\n",
       "      <th>58</th>\n",
       "      <td>Seminole</td>\n",
       "      <td>Breast</td>\n",
       "    </tr>\n",
       "    <tr>\n",
       "      <th>59</th>\n",
       "      <td>St. Johns</td>\n",
       "      <td>Breast</td>\n",
       "    </tr>\n",
       "    <tr>\n",
       "      <th>61</th>\n",
       "      <td>Sumter</td>\n",
       "      <td>Breast</td>\n",
       "    </tr>\n",
       "  </tbody>\n",
       "</table>\n",
       "</div>"
      ],
      "text/plain": [
       "          County Max Column\n",
       "2        Alachua     Breast\n",
       "7        Broward     Breast\n",
       "12       Collier     Breast\n",
       "16         Duval     Breast\n",
       "29  Hillsborough     Breast\n",
       "37          Leon     Breast\n",
       "41       Manatee     Breast\n",
       "44    Miami-Dade     Breast\n",
       "49        Orange     Breast\n",
       "50       Osceola     Breast\n",
       "51    Palm Beach     Breast\n",
       "53      Pinellas     Breast\n",
       "58      Seminole     Breast\n",
       "59     St. Johns     Breast\n",
       "61        Sumter     Breast"
      ]
     },
     "execution_count": 32,
     "metadata": {},
     "output_type": "execute_result"
    }
   ],
   "source": [
    "max_florida.loc[max_florida['Max Column']=='Breast']"
   ]
  },
  {
   "cell_type": "code",
   "execution_count": 33,
   "metadata": {},
   "outputs": [],
   "source": [
    "url='https://www.flhealthcharts.gov/ChartsDashboards/rdPage.aspx?rdReport=NonVitalIndRateOnly.TenYrsRpt&cid=300'\n",
    "data=[]\n",
    "async with async_playwright() as p:\n",
    "    browser = await p.chromium.launch(headless=False)\n",
    "    page = await browser.new_page()\n",
    "    await page.goto(url)\n",
    "    time.sleep(6)\n",
    "    html = await page.content()\n",
    "    soup = bs(html, 'html.parser')\n",
    "    for d in soup.find_all('div',{'id':\"rdDataTableDiv-dtTenYrsDataGrid\"}):\n",
    "        table = d.find('table', attrs={'class':'rdThemeDataTable table-sm table-hover table-bordered border-0'})\n",
    "        table_body = table.find('tbody')\n",
    "        rows = table_body.find_all('tr')\n",
    "        for row in rows:\n",
    "            cols = row.find_all('td')\n",
    "            cols = [ele.text.strip() for ele in cols]\n",
    "            data.append([ele for ele in cols if ele]) # Get rid of empty values"
   ]
  },
  {
   "cell_type": "code",
   "execution_count": 34,
   "metadata": {},
   "outputs": [],
   "source": [
    "#converts list to dataframe\n",
    "median_florida= pd.DataFrame (data, columns = ['County','2021','2020','2019','2018','2017','2016','2015','2014','2013','2012'])\n"
   ]
  },
  {
   "cell_type": "code",
   "execution_count": 35,
   "metadata": {},
   "outputs": [],
   "source": [
    "del median_florida['2021']\n",
    "del median_florida['2015']\n",
    "del median_florida['2014']\n",
    "del median_florida['2013']\n",
    "del median_florida['2012']"
   ]
  },
  {
   "cell_type": "code",
   "execution_count": 36,
   "metadata": {},
   "outputs": [],
   "source": [
    "c=median_florida['County']"
   ]
  },
  {
   "cell_type": "code",
   "execution_count": 37,
   "metadata": {},
   "outputs": [],
   "source": [
    "del median_florida['County']"
   ]
  },
  {
   "cell_type": "code",
   "execution_count": 38,
   "metadata": {},
   "outputs": [],
   "source": [
    "median_florida = median_florida.apply(pd.to_numeric, errors='coerce')"
   ]
  },
  {
   "cell_type": "code",
   "execution_count": 39,
   "metadata": {},
   "outputs": [],
   "source": [
    "avg=median_florida.mean(axis=1)"
   ]
  },
  {
   "cell_type": "code",
   "execution_count": 40,
   "metadata": {},
   "outputs": [],
   "source": [
    "median_florida['Avg Age']=avg\n",
    "median_florida['County']=c\n",
    "median_florida=median_florida.set_index('County')"
   ]
  },
  {
   "cell_type": "code",
   "execution_count": 41,
   "metadata": {},
   "outputs": [],
   "source": [
    "median_florida=median_florida[1:]"
   ]
  },
  {
   "cell_type": "code",
   "execution_count": 42,
   "metadata": {},
   "outputs": [
    {
     "data": {
      "text/html": [
       "<div>\n",
       "<style scoped>\n",
       "    .dataframe tbody tr th:only-of-type {\n",
       "        vertical-align: middle;\n",
       "    }\n",
       "\n",
       "    .dataframe tbody tr th {\n",
       "        vertical-align: top;\n",
       "    }\n",
       "\n",
       "    .dataframe thead th {\n",
       "        text-align: right;\n",
       "    }\n",
       "</style>\n",
       "<table border=\"1\" class=\"dataframe\">\n",
       "  <thead>\n",
       "    <tr style=\"text-align: right;\">\n",
       "      <th></th>\n",
       "      <th>2020</th>\n",
       "      <th>2019</th>\n",
       "      <th>2018</th>\n",
       "      <th>2017</th>\n",
       "      <th>2016</th>\n",
       "      <th>Avg Age</th>\n",
       "    </tr>\n",
       "    <tr>\n",
       "      <th>County</th>\n",
       "      <th></th>\n",
       "      <th></th>\n",
       "      <th></th>\n",
       "      <th></th>\n",
       "      <th></th>\n",
       "      <th></th>\n",
       "    </tr>\n",
       "  </thead>\n",
       "  <tbody>\n",
       "    <tr>\n",
       "      <th>Sumter</th>\n",
       "      <td>68.0</td>\n",
       "      <td>67.4</td>\n",
       "      <td>67.0</td>\n",
       "      <td>66.4</td>\n",
       "      <td>66.0</td>\n",
       "      <td>66.96</td>\n",
       "    </tr>\n",
       "    <tr>\n",
       "      <th>Charlotte</th>\n",
       "      <td>59.5</td>\n",
       "      <td>59.1</td>\n",
       "      <td>58.6</td>\n",
       "      <td>58.1</td>\n",
       "      <td>57.7</td>\n",
       "      <td>58.60</td>\n",
       "    </tr>\n",
       "    <tr>\n",
       "      <th>Citrus</th>\n",
       "      <td>56.7</td>\n",
       "      <td>56.5</td>\n",
       "      <td>56.2</td>\n",
       "      <td>55.9</td>\n",
       "      <td>55.7</td>\n",
       "      <td>56.20</td>\n",
       "    </tr>\n",
       "    <tr>\n",
       "      <th>Sarasota</th>\n",
       "      <td>56.6</td>\n",
       "      <td>56.1</td>\n",
       "      <td>55.5</td>\n",
       "      <td>55.1</td>\n",
       "      <td>54.5</td>\n",
       "      <td>55.56</td>\n",
       "    </tr>\n",
       "    <tr>\n",
       "      <th>Highlands</th>\n",
       "      <td>54.1</td>\n",
       "      <td>53.5</td>\n",
       "      <td>53.4</td>\n",
       "      <td>53.1</td>\n",
       "      <td>52.6</td>\n",
       "      <td>53.34</td>\n",
       "    </tr>\n",
       "    <tr>\n",
       "      <th>...</th>\n",
       "      <td>...</td>\n",
       "      <td>...</td>\n",
       "      <td>...</td>\n",
       "      <td>...</td>\n",
       "      <td>...</td>\n",
       "      <td>...</td>\n",
       "    </tr>\n",
       "    <tr>\n",
       "      <th>Hardee</th>\n",
       "      <td>35.4</td>\n",
       "      <td>35.4</td>\n",
       "      <td>35.1</td>\n",
       "      <td>34.9</td>\n",
       "      <td>34.3</td>\n",
       "      <td>35.02</td>\n",
       "    </tr>\n",
       "    <tr>\n",
       "      <th>Orange</th>\n",
       "      <td>35.3</td>\n",
       "      <td>35.1</td>\n",
       "      <td>34.9</td>\n",
       "      <td>34.7</td>\n",
       "      <td>34.5</td>\n",
       "      <td>34.90</td>\n",
       "    </tr>\n",
       "    <tr>\n",
       "      <th>Hendry</th>\n",
       "      <td>35.0</td>\n",
       "      <td>34.0</td>\n",
       "      <td>33.9</td>\n",
       "      <td>33.7</td>\n",
       "      <td>33.8</td>\n",
       "      <td>34.08</td>\n",
       "    </tr>\n",
       "    <tr>\n",
       "      <th>Alachua</th>\n",
       "      <td>31.7</td>\n",
       "      <td>31.6</td>\n",
       "      <td>31.3</td>\n",
       "      <td>31.2</td>\n",
       "      <td>31.0</td>\n",
       "      <td>31.36</td>\n",
       "    </tr>\n",
       "    <tr>\n",
       "      <th>Leon</th>\n",
       "      <td>31.3</td>\n",
       "      <td>31.0</td>\n",
       "      <td>30.7</td>\n",
       "      <td>30.5</td>\n",
       "      <td>30.3</td>\n",
       "      <td>30.76</td>\n",
       "    </tr>\n",
       "  </tbody>\n",
       "</table>\n",
       "<p>67 rows × 6 columns</p>\n",
       "</div>"
      ],
      "text/plain": [
       "           2020  2019  2018  2017  2016  Avg Age\n",
       "County                                          \n",
       "Sumter     68.0  67.4  67.0  66.4  66.0    66.96\n",
       "Charlotte  59.5  59.1  58.6  58.1  57.7    58.60\n",
       "Citrus     56.7  56.5  56.2  55.9  55.7    56.20\n",
       "Sarasota   56.6  56.1  55.5  55.1  54.5    55.56\n",
       "Highlands  54.1  53.5  53.4  53.1  52.6    53.34\n",
       "...         ...   ...   ...   ...   ...      ...\n",
       "Hardee     35.4  35.4  35.1  34.9  34.3    35.02\n",
       "Orange     35.3  35.1  34.9  34.7  34.5    34.90\n",
       "Hendry     35.0  34.0  33.9  33.7  33.8    34.08\n",
       "Alachua    31.7  31.6  31.3  31.2  31.0    31.36\n",
       "Leon       31.3  31.0  30.7  30.5  30.3    30.76\n",
       "\n",
       "[67 rows x 6 columns]"
      ]
     },
     "execution_count": 42,
     "metadata": {},
     "output_type": "execute_result"
    }
   ],
   "source": [
    "median_florida.sort_values('Avg Age', ascending=False)"
   ]
  },
  {
   "cell_type": "code",
   "execution_count": 43,
   "metadata": {},
   "outputs": [
    {
     "data": {
      "text/html": [
       "<div>\n",
       "<style scoped>\n",
       "    .dataframe tbody tr th:only-of-type {\n",
       "        vertical-align: middle;\n",
       "    }\n",
       "\n",
       "    .dataframe tbody tr th {\n",
       "        vertical-align: top;\n",
       "    }\n",
       "\n",
       "    .dataframe thead th {\n",
       "        text-align: right;\n",
       "    }\n",
       "</style>\n",
       "<table border=\"1\" class=\"dataframe\">\n",
       "  <thead>\n",
       "    <tr style=\"text-align: right;\">\n",
       "      <th></th>\n",
       "      <th>County</th>\n",
       "      <th>Max Column</th>\n",
       "    </tr>\n",
       "  </thead>\n",
       "  <tbody>\n",
       "    <tr>\n",
       "      <th>2</th>\n",
       "      <td>Alachua</td>\n",
       "      <td>Breast</td>\n",
       "    </tr>\n",
       "    <tr>\n",
       "      <th>7</th>\n",
       "      <td>Broward</td>\n",
       "      <td>Breast</td>\n",
       "    </tr>\n",
       "    <tr>\n",
       "      <th>12</th>\n",
       "      <td>Collier</td>\n",
       "      <td>Breast</td>\n",
       "    </tr>\n",
       "    <tr>\n",
       "      <th>16</th>\n",
       "      <td>Duval</td>\n",
       "      <td>Breast</td>\n",
       "    </tr>\n",
       "    <tr>\n",
       "      <th>29</th>\n",
       "      <td>Hillsborough</td>\n",
       "      <td>Breast</td>\n",
       "    </tr>\n",
       "    <tr>\n",
       "      <th>37</th>\n",
       "      <td>Leon</td>\n",
       "      <td>Breast</td>\n",
       "    </tr>\n",
       "    <tr>\n",
       "      <th>41</th>\n",
       "      <td>Manatee</td>\n",
       "      <td>Breast</td>\n",
       "    </tr>\n",
       "    <tr>\n",
       "      <th>44</th>\n",
       "      <td>Miami-Dade</td>\n",
       "      <td>Breast</td>\n",
       "    </tr>\n",
       "    <tr>\n",
       "      <th>49</th>\n",
       "      <td>Orange</td>\n",
       "      <td>Breast</td>\n",
       "    </tr>\n",
       "    <tr>\n",
       "      <th>50</th>\n",
       "      <td>Osceola</td>\n",
       "      <td>Breast</td>\n",
       "    </tr>\n",
       "    <tr>\n",
       "      <th>51</th>\n",
       "      <td>Palm Beach</td>\n",
       "      <td>Breast</td>\n",
       "    </tr>\n",
       "    <tr>\n",
       "      <th>53</th>\n",
       "      <td>Pinellas</td>\n",
       "      <td>Breast</td>\n",
       "    </tr>\n",
       "    <tr>\n",
       "      <th>58</th>\n",
       "      <td>Seminole</td>\n",
       "      <td>Breast</td>\n",
       "    </tr>\n",
       "    <tr>\n",
       "      <th>59</th>\n",
       "      <td>St. Johns</td>\n",
       "      <td>Breast</td>\n",
       "    </tr>\n",
       "    <tr>\n",
       "      <th>61</th>\n",
       "      <td>Sumter</td>\n",
       "      <td>Breast</td>\n",
       "    </tr>\n",
       "  </tbody>\n",
       "</table>\n",
       "</div>"
      ],
      "text/plain": [
       "          County Max Column\n",
       "2        Alachua     Breast\n",
       "7        Broward     Breast\n",
       "12       Collier     Breast\n",
       "16         Duval     Breast\n",
       "29  Hillsborough     Breast\n",
       "37          Leon     Breast\n",
       "41       Manatee     Breast\n",
       "44    Miami-Dade     Breast\n",
       "49        Orange     Breast\n",
       "50       Osceola     Breast\n",
       "51    Palm Beach     Breast\n",
       "53      Pinellas     Breast\n",
       "58      Seminole     Breast\n",
       "59     St. Johns     Breast\n",
       "61        Sumter     Breast"
      ]
     },
     "execution_count": 43,
     "metadata": {},
     "output_type": "execute_result"
    }
   ],
   "source": [
    "max_florida.loc[max_florida['Max Column']=='Breast']"
   ]
  },
  {
   "cell_type": "code",
   "execution_count": 44,
   "metadata": {},
   "outputs": [
    {
     "data": {
      "text/html": [
       "<div>\n",
       "<style scoped>\n",
       "    .dataframe tbody tr th:only-of-type {\n",
       "        vertical-align: middle;\n",
       "    }\n",
       "\n",
       "    .dataframe tbody tr th {\n",
       "        vertical-align: top;\n",
       "    }\n",
       "\n",
       "    .dataframe thead th {\n",
       "        text-align: right;\n",
       "    }\n",
       "</style>\n",
       "<table border=\"1\" class=\"dataframe\">\n",
       "  <thead>\n",
       "    <tr style=\"text-align: right;\">\n",
       "      <th></th>\n",
       "      <th>County</th>\n",
       "      <th>Cancers</th>\n",
       "      <th>Bronchus</th>\n",
       "      <th>Prostate</th>\n",
       "      <th>Breast</th>\n",
       "      <th>Colorectal</th>\n",
       "      <th>Bladder</th>\n",
       "      <th>Neck</th>\n",
       "      <th>Hodgkin</th>\n",
       "      <th>Melanoma</th>\n",
       "      <th>Ovary</th>\n",
       "      <th>Cervix</th>\n",
       "    </tr>\n",
       "  </thead>\n",
       "  <tbody>\n",
       "    <tr>\n",
       "      <th>61</th>\n",
       "      <td>Sumter</td>\n",
       "      <td>7112</td>\n",
       "      <td>1081</td>\n",
       "      <td>879</td>\n",
       "      <td>1107</td>\n",
       "      <td>457</td>\n",
       "      <td>418</td>\n",
       "      <td>250</td>\n",
       "      <td>264</td>\n",
       "      <td>256</td>\n",
       "      <td>84</td>\n",
       "      <td>0</td>\n",
       "    </tr>\n",
       "  </tbody>\n",
       "</table>\n",
       "</div>"
      ],
      "text/plain": [
       "    County  Cancers  Bronchus  Prostate  Breast  Colorectal  Bladder  Neck  \\\n",
       "61  Sumter     7112      1081       879    1107         457      418   250   \n",
       "\n",
       "    Hodgkin  Melanoma  Ovary  Cervix  \n",
       "61      264       256     84       0  "
      ]
     },
     "execution_count": 44,
     "metadata": {},
     "output_type": "execute_result"
    }
   ],
   "source": [
    "florida.loc[florida['County']=='Sumter']"
   ]
  },
  {
   "cell_type": "code",
   "execution_count": null,
   "metadata": {},
   "outputs": [],
   "source": []
  }
 ],
 "metadata": {
  "kernelspec": {
   "display_name": "Python 3",
   "language": "python",
   "name": "python3"
  },
  "language_info": {
   "codemirror_mode": {
    "name": "ipython",
    "version": 3
   },
   "file_extension": ".py",
   "mimetype": "text/x-python",
   "name": "python",
   "nbconvert_exporter": "python",
   "pygments_lexer": "ipython3",
   "version": "3.8.5"
  }
 },
 "nbformat": 4,
 "nbformat_minor": 4
}
