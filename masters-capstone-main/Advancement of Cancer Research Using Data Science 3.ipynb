{
 "cells": [
  {
   "cell_type": "markdown",
   "metadata": {},
   "source": [
    "# Import and install packages"
   ]
  },
  {
   "cell_type": "code",
   "execution_count": 1,
   "metadata": {},
   "outputs": [],
   "source": [
    "#import packages\n",
    "import tabula\n",
    "import pandas as pd\n",
    "import time\n",
    "import asyncio\n",
    "from playwright.async_api import async_playwright\n",
    "from bs4 import BeautifulSoup as bs\n",
    "import plotly.express as px\n",
    "import plotly.figure_factory as ff\n",
    "import plotly as py\n",
    "import plotly.graph_objects as go\n",
    "import numpy as np\n",
    "import warnings\n",
    "warnings.filterwarnings(\"ignore\")"
   ]
  },
  {
   "cell_type": "code",
   "execution_count": null,
   "metadata": {},
   "outputs": [],
   "source": [
    "!pip install --upgrade plotly\n",
    "!pip install --upgrade geopandas\n",
    "!pip install --upgrade pyshp\n",
    "!pip install --upgrade shapely"
   ]
  },
  {
   "cell_type": "markdown",
   "metadata": {},
   "source": [
    "# Counts of Cancer per US State 2016-2020"
   ]
  },
  {
   "cell_type": "code",
   "execution_count": 2,
   "metadata": {},
   "outputs": [],
   "source": [
    "#Cancer Occurence per US State\n",
    "\n",
    "url =\"https://acsjournals.onlinelibrary.wiley.com/doi/10.3322/caac.21763\"\n",
    "\n",
    "\n",
    "async with async_playwright() as p:\n",
    "    browser = await p.chromium.launch(headless=False)\n",
    "    page = await browser.new_page()\n",
    "    await page.goto(url)\n",
    "    time.sleep(6)\n",
    "    html = await page.content()\n",
    "    soup = bs(html, 'html.parser')\n",
    "    #print(soup)\n",
    "\n",
    "    #uses beautiful soup package to go through website and extract out table\n",
    "    #appends data to list\n",
    "    data = []\n",
    "    m= soup.find(id=\"caac21763-tbl-0002\", class_=\"article-table-content\") \n",
    "    for d in m.find_all('div',{'class':\"article-table-content-wrapper\"}):\n",
    "        table = m.find('table', attrs={'class':'table article-section__table'})\n",
    "        table_body = table.find('tbody')\n",
    "        rows = table_body.find_all('tr')\n",
    "        for row in rows:\n",
    "            cols = row.find_all('td')\n",
    "            cols = [ele.text.strip() for ele in cols]\n",
    "            data.append([ele for ele in cols if ele]) # Get rid of empty values\n",
    "    \n"
   ]
  },
  {
   "cell_type": "code",
   "execution_count": 11,
   "metadata": {},
   "outputs": [],
   "source": [
    "#converts list to dataframe\n",
    "df = pd.DataFrame (data, columns = ['State', 'All sites', 'Female breast', 'Colon & rectum', 'Leukemia', 'Lung & bronchus', 'Melanoma of the skin', 'Non-Hodgkin lymphoma'\n",
    "                                   ,'Prostate', 'Urinary bladder', 'Uterine cervix', 'Uterine corpus'])\n",
    "\n"
   ]
  },
  {
   "cell_type": "code",
   "execution_count": 12,
   "metadata": {},
   "outputs": [],
   "source": [
    "#replaces value\n",
    "df=df.replace('—b', '< 50')\n",
    "\n",
    "#top 3 cancers in USA:\n",
    "    #1. Breast\n",
    "    #2. Prostate\n",
    "    #3. Lung & Bronchus\n",
    "\n",
    "#gets rid of last row\n",
    "states = df.iloc[:-1 , :]\n",
    "#replace char\n",
    "states= states.replace(',','', regex=True)\n",
    "\n",
    "#makes columns type int\n",
    "c=0\n",
    "for i in states:\n",
    "    if(c!=0 and c!=10):\n",
    "        states[i]=states[i].astype('Int64')\n",
    "    c+=1\n",
    "        "
   ]
  },
  {
   "cell_type": "code",
   "execution_count": null,
   "metadata": {},
   "outputs": [],
   "source": [
    "df1=states.copy()\n",
    "del df1['State']\n",
    "del df1['All sites']"
   ]
  },
  {
   "cell_type": "code",
   "execution_count": null,
   "metadata": {},
   "outputs": [],
   "source": [
    "dfsum = df1.sum().to_frame().reset_index()"
   ]
  },
  {
   "cell_type": "code",
   "execution_count": null,
   "metadata": {},
   "outputs": [],
   "source": [
    "states"
   ]
  },
  {
   "cell_type": "code",
   "execution_count": null,
   "metadata": {},
   "outputs": [],
   "source": [
    "states['All sites'].sum()"
   ]
  },
  {
   "cell_type": "code",
   "execution_count": null,
   "metadata": {},
   "outputs": [],
   "source": [
    "dfsum"
   ]
  },
  {
   "cell_type": "code",
   "execution_count": 57,
   "metadata": {},
   "outputs": [],
   "source": [
    "df.to_excel('unitedstates/Cancer in USA 2016-2020.xlsx')"
   ]
  },
  {
   "cell_type": "markdown",
   "metadata": {},
   "source": [
    "## Population of US States 2020"
   ]
  },
  {
   "cell_type": "code",
   "execution_count": 3,
   "metadata": {},
   "outputs": [],
   "source": [
    "#POPULATION OF US STATES 2020\n",
    "\n",
    "url = \"https://ballotpedia.org/United_States_census,_2020\"\n",
    "\n",
    "\n",
    "\n",
    "async with async_playwright() as p:\n",
    "    browser = await p.chromium.launch(headless=True)\n",
    "    page = await browser.new_page()\n",
    "    await page.goto(url)\n",
    "    time.sleep(6)\n",
    "    html = await page.content()\n",
    "    soup = bs(html, 'html.parser')\n",
    "    #print(soup)\n",
    "\n",
    "    #uses beautiful soup package to go through website and extract out table\n",
    "    #appends data to list\n",
    "    data = []\n",
    "    \n",
    "    for d in soup.find_all('div',{'class':\"mw-parser-output\"}):\n",
    "        table = d.find('table', attrs={'class':'bptable collapsible sortable jquery-tablesorter'})\n",
    "        table_body = table.find('tbody')\n",
    "        rows = table_body.find_all('tr')\n",
    "        for row in rows:\n",
    "            cols = row.find_all('td')\n",
    "            cols = [ele.text.strip() for ele in cols]\n",
    "            data.append([ele for ele in cols if ele]) # Get rid of empty values"
   ]
  },
  {
   "cell_type": "code",
   "execution_count": 4,
   "metadata": {},
   "outputs": [],
   "source": [
    "#converts list to dataframe\n",
    "popstates2020 = pd.DataFrame (data, columns = ['State', 'Population','A','B','C'])\n",
    "#delete columns\n",
    "del popstates2020['A']\n",
    "del popstates2020['B']\n",
    "del popstates2020['C']\n",
    "#replace char and convert the column of type int\n",
    "popstates2020['Population'] = popstates2020['Population'].str.replace(',', '').astype(int)\n",
    "#resets index and deletes column\n",
    "popstates2020=popstates2020.reset_index()\n",
    "del popstates2020['index']"
   ]
  },
  {
   "cell_type": "markdown",
   "metadata": {},
   "source": [
    "## Choropleth Maps for all US States"
   ]
  },
  {
   "cell_type": "code",
   "execution_count": 5,
   "metadata": {},
   "outputs": [],
   "source": [
    "#US codes w/ D.C\n",
    "code=['AL', 'AK','AZ', 'AR', 'CA' ,'CO', 'CT','DC', 'DE', 'FL', 'GA', 'HI', 'ID', 'IL', 'IN', 'IA', 'KS', \n",
    "     'KY', 'LA', 'ME', 'MD', 'MA', 'MI', 'MN', 'MS', 'MO','MT', 'NE', 'NV', 'NH', 'NJ', 'NM', 'NY', 'NC', 'ND', 'OH', 'OK', 'OR', 'PA', 'RI', 'SC', 'SD', 'TN', 'TX', 'UT', 'VT', 'VA', 'WA', 'WV', 'WI', 'WY']"
   ]
  },
  {
   "cell_type": "code",
   "execution_count": 6,
   "metadata": {},
   "outputs": [],
   "source": [
    "#US codes w/o D.C\n",
    "code2=['AL', 'AK','AZ', 'AR', 'CA' ,'CO', 'CT','DE', 'FL', 'GA', 'HI', 'ID', 'IL', 'IN', 'IA', 'KS', \n",
    "     'KY', 'LA', 'ME', 'MD', 'MA', 'MI', 'MN', 'MS', 'MO','MT', 'NE', 'NV', 'NH', 'NJ', 'NM', 'NY', 'NC', 'ND', 'OH', 'OK', 'OR', 'PA', 'RI', 'SC', 'SD', 'TN', 'TX', 'UT', 'VT', 'VA', 'WA', 'WV', 'WI', 'WY']"
   ]
  },
  {
   "cell_type": "markdown",
   "metadata": {},
   "source": [
    "### 2020 Population choropleth maps"
   ]
  },
  {
   "cell_type": "code",
   "execution_count": 15,
   "metadata": {},
   "outputs": [
    {
     "data": {
      "application/vnd.plotly.v1+json": {
       "config": {
        "plotlyServerURL": "https://plot.ly"
       },
       "data": [
        {
         "coloraxis": "coloraxis",
         "geo": "geo",
         "hovertemplate": "locations=%{location}<br>Population=%{z}<extra></extra>",
         "locationmode": "USA-states",
         "locations": [
          "AL",
          "AK",
          "AZ",
          "AR",
          "CA",
          "CO",
          "CT",
          "DE",
          "FL",
          "GA",
          "HI",
          "ID",
          "IL",
          "IN",
          "IA",
          "KS",
          "KY",
          "LA",
          "ME",
          "MD",
          "MA",
          "MI",
          "MN",
          "MS",
          "MO",
          "MT",
          "NE",
          "NV",
          "NH",
          "NJ",
          "NM",
          "NY",
          "NC",
          "ND",
          "OH",
          "OK",
          "OR",
          "PA",
          "RI",
          "SC",
          "SD",
          "TN",
          "TX",
          "UT",
          "VT",
          "VA",
          "WA",
          "WV",
          "WI",
          "WY"
         ],
         "name": "",
         "type": "choropleth",
         "z": [
          5030053,
          736081,
          7158923,
          3013756,
          39576757,
          5782171,
          3608298,
          990837,
          21570527,
          10725274,
          1460137,
          1841377,
          12822739,
          6790280,
          3192406,
          2940865,
          4509342,
          4661468,
          1363582,
          6185278,
          7033469,
          10084442,
          5709752,
          2963914,
          6160281,
          1085407,
          1963333,
          3108462,
          1379089,
          9294493,
          2120220,
          20215751,
          10453948,
          779702,
          11808848,
          3963516,
          4241500,
          13011844,
          1098163,
          5124712,
          887770,
          6916897,
          29183290,
          3275252,
          643503,
          8654542,
          7715946,
          1795045,
          5897473,
          577719
         ]
        }
       ],
       "layout": {
        "coloraxis": {
         "colorbar": {
          "title": {
           "text": "Population"
          }
         },
         "colorscale": [
          [
           0,
           "#440154"
          ],
          [
           0.1111111111111111,
           "#482878"
          ],
          [
           0.2222222222222222,
           "#3e4989"
          ],
          [
           0.3333333333333333,
           "#31688e"
          ],
          [
           0.4444444444444444,
           "#26828e"
          ],
          [
           0.5555555555555556,
           "#1f9e89"
          ],
          [
           0.6666666666666666,
           "#35b779"
          ],
          [
           0.7777777777777778,
           "#6ece58"
          ],
          [
           0.8888888888888888,
           "#b5de2b"
          ],
          [
           1,
           "#fde725"
          ]
         ]
        },
        "geo": {
         "center": {},
         "domain": {
          "x": [
           0,
           1
          ],
          "y": [
           0,
           1
          ]
         },
         "scope": "usa"
        },
        "legend": {
         "tracegroupgap": 0
        },
        "template": {
         "data": {
          "bar": [
           {
            "error_x": {
             "color": "#2a3f5f"
            },
            "error_y": {
             "color": "#2a3f5f"
            },
            "marker": {
             "line": {
              "color": "#E5ECF6",
              "width": 0.5
             },
             "pattern": {
              "fillmode": "overlay",
              "size": 10,
              "solidity": 0.2
             }
            },
            "type": "bar"
           }
          ],
          "barpolar": [
           {
            "marker": {
             "line": {
              "color": "#E5ECF6",
              "width": 0.5
             },
             "pattern": {
              "fillmode": "overlay",
              "size": 10,
              "solidity": 0.2
             }
            },
            "type": "barpolar"
           }
          ],
          "carpet": [
           {
            "aaxis": {
             "endlinecolor": "#2a3f5f",
             "gridcolor": "white",
             "linecolor": "white",
             "minorgridcolor": "white",
             "startlinecolor": "#2a3f5f"
            },
            "baxis": {
             "endlinecolor": "#2a3f5f",
             "gridcolor": "white",
             "linecolor": "white",
             "minorgridcolor": "white",
             "startlinecolor": "#2a3f5f"
            },
            "type": "carpet"
           }
          ],
          "choropleth": [
           {
            "colorbar": {
             "outlinewidth": 0,
             "ticks": ""
            },
            "type": "choropleth"
           }
          ],
          "contour": [
           {
            "colorbar": {
             "outlinewidth": 0,
             "ticks": ""
            },
            "colorscale": [
             [
              0,
              "#0d0887"
             ],
             [
              0.1111111111111111,
              "#46039f"
             ],
             [
              0.2222222222222222,
              "#7201a8"
             ],
             [
              0.3333333333333333,
              "#9c179e"
             ],
             [
              0.4444444444444444,
              "#bd3786"
             ],
             [
              0.5555555555555556,
              "#d8576b"
             ],
             [
              0.6666666666666666,
              "#ed7953"
             ],
             [
              0.7777777777777778,
              "#fb9f3a"
             ],
             [
              0.8888888888888888,
              "#fdca26"
             ],
             [
              1,
              "#f0f921"
             ]
            ],
            "type": "contour"
           }
          ],
          "contourcarpet": [
           {
            "colorbar": {
             "outlinewidth": 0,
             "ticks": ""
            },
            "type": "contourcarpet"
           }
          ],
          "heatmap": [
           {
            "colorbar": {
             "outlinewidth": 0,
             "ticks": ""
            },
            "colorscale": [
             [
              0,
              "#0d0887"
             ],
             [
              0.1111111111111111,
              "#46039f"
             ],
             [
              0.2222222222222222,
              "#7201a8"
             ],
             [
              0.3333333333333333,
              "#9c179e"
             ],
             [
              0.4444444444444444,
              "#bd3786"
             ],
             [
              0.5555555555555556,
              "#d8576b"
             ],
             [
              0.6666666666666666,
              "#ed7953"
             ],
             [
              0.7777777777777778,
              "#fb9f3a"
             ],
             [
              0.8888888888888888,
              "#fdca26"
             ],
             [
              1,
              "#f0f921"
             ]
            ],
            "type": "heatmap"
           }
          ],
          "heatmapgl": [
           {
            "colorbar": {
             "outlinewidth": 0,
             "ticks": ""
            },
            "colorscale": [
             [
              0,
              "#0d0887"
             ],
             [
              0.1111111111111111,
              "#46039f"
             ],
             [
              0.2222222222222222,
              "#7201a8"
             ],
             [
              0.3333333333333333,
              "#9c179e"
             ],
             [
              0.4444444444444444,
              "#bd3786"
             ],
             [
              0.5555555555555556,
              "#d8576b"
             ],
             [
              0.6666666666666666,
              "#ed7953"
             ],
             [
              0.7777777777777778,
              "#fb9f3a"
             ],
             [
              0.8888888888888888,
              "#fdca26"
             ],
             [
              1,
              "#f0f921"
             ]
            ],
            "type": "heatmapgl"
           }
          ],
          "histogram": [
           {
            "marker": {
             "pattern": {
              "fillmode": "overlay",
              "size": 10,
              "solidity": 0.2
             }
            },
            "type": "histogram"
           }
          ],
          "histogram2d": [
           {
            "colorbar": {
             "outlinewidth": 0,
             "ticks": ""
            },
            "colorscale": [
             [
              0,
              "#0d0887"
             ],
             [
              0.1111111111111111,
              "#46039f"
             ],
             [
              0.2222222222222222,
              "#7201a8"
             ],
             [
              0.3333333333333333,
              "#9c179e"
             ],
             [
              0.4444444444444444,
              "#bd3786"
             ],
             [
              0.5555555555555556,
              "#d8576b"
             ],
             [
              0.6666666666666666,
              "#ed7953"
             ],
             [
              0.7777777777777778,
              "#fb9f3a"
             ],
             [
              0.8888888888888888,
              "#fdca26"
             ],
             [
              1,
              "#f0f921"
             ]
            ],
            "type": "histogram2d"
           }
          ],
          "histogram2dcontour": [
           {
            "colorbar": {
             "outlinewidth": 0,
             "ticks": ""
            },
            "colorscale": [
             [
              0,
              "#0d0887"
             ],
             [
              0.1111111111111111,
              "#46039f"
             ],
             [
              0.2222222222222222,
              "#7201a8"
             ],
             [
              0.3333333333333333,
              "#9c179e"
             ],
             [
              0.4444444444444444,
              "#bd3786"
             ],
             [
              0.5555555555555556,
              "#d8576b"
             ],
             [
              0.6666666666666666,
              "#ed7953"
             ],
             [
              0.7777777777777778,
              "#fb9f3a"
             ],
             [
              0.8888888888888888,
              "#fdca26"
             ],
             [
              1,
              "#f0f921"
             ]
            ],
            "type": "histogram2dcontour"
           }
          ],
          "mesh3d": [
           {
            "colorbar": {
             "outlinewidth": 0,
             "ticks": ""
            },
            "type": "mesh3d"
           }
          ],
          "parcoords": [
           {
            "line": {
             "colorbar": {
              "outlinewidth": 0,
              "ticks": ""
             }
            },
            "type": "parcoords"
           }
          ],
          "pie": [
           {
            "automargin": true,
            "type": "pie"
           }
          ],
          "scatter": [
           {
            "fillpattern": {
             "fillmode": "overlay",
             "size": 10,
             "solidity": 0.2
            },
            "type": "scatter"
           }
          ],
          "scatter3d": [
           {
            "line": {
             "colorbar": {
              "outlinewidth": 0,
              "ticks": ""
             }
            },
            "marker": {
             "colorbar": {
              "outlinewidth": 0,
              "ticks": ""
             }
            },
            "type": "scatter3d"
           }
          ],
          "scattercarpet": [
           {
            "marker": {
             "colorbar": {
              "outlinewidth": 0,
              "ticks": ""
             }
            },
            "type": "scattercarpet"
           }
          ],
          "scattergeo": [
           {
            "marker": {
             "colorbar": {
              "outlinewidth": 0,
              "ticks": ""
             }
            },
            "type": "scattergeo"
           }
          ],
          "scattergl": [
           {
            "marker": {
             "colorbar": {
              "outlinewidth": 0,
              "ticks": ""
             }
            },
            "type": "scattergl"
           }
          ],
          "scattermapbox": [
           {
            "marker": {
             "colorbar": {
              "outlinewidth": 0,
              "ticks": ""
             }
            },
            "type": "scattermapbox"
           }
          ],
          "scatterpolar": [
           {
            "marker": {
             "colorbar": {
              "outlinewidth": 0,
              "ticks": ""
             }
            },
            "type": "scatterpolar"
           }
          ],
          "scatterpolargl": [
           {
            "marker": {
             "colorbar": {
              "outlinewidth": 0,
              "ticks": ""
             }
            },
            "type": "scatterpolargl"
           }
          ],
          "scatterternary": [
           {
            "marker": {
             "colorbar": {
              "outlinewidth": 0,
              "ticks": ""
             }
            },
            "type": "scatterternary"
           }
          ],
          "surface": [
           {
            "colorbar": {
             "outlinewidth": 0,
             "ticks": ""
            },
            "colorscale": [
             [
              0,
              "#0d0887"
             ],
             [
              0.1111111111111111,
              "#46039f"
             ],
             [
              0.2222222222222222,
              "#7201a8"
             ],
             [
              0.3333333333333333,
              "#9c179e"
             ],
             [
              0.4444444444444444,
              "#bd3786"
             ],
             [
              0.5555555555555556,
              "#d8576b"
             ],
             [
              0.6666666666666666,
              "#ed7953"
             ],
             [
              0.7777777777777778,
              "#fb9f3a"
             ],
             [
              0.8888888888888888,
              "#fdca26"
             ],
             [
              1,
              "#f0f921"
             ]
            ],
            "type": "surface"
           }
          ],
          "table": [
           {
            "cells": {
             "fill": {
              "color": "#EBF0F8"
             },
             "line": {
              "color": "white"
             }
            },
            "header": {
             "fill": {
              "color": "#C8D4E3"
             },
             "line": {
              "color": "white"
             }
            },
            "type": "table"
           }
          ]
         },
         "layout": {
          "annotationdefaults": {
           "arrowcolor": "#2a3f5f",
           "arrowhead": 0,
           "arrowwidth": 1
          },
          "autotypenumbers": "strict",
          "coloraxis": {
           "colorbar": {
            "outlinewidth": 0,
            "ticks": ""
           }
          },
          "colorscale": {
           "diverging": [
            [
             0,
             "#8e0152"
            ],
            [
             0.1,
             "#c51b7d"
            ],
            [
             0.2,
             "#de77ae"
            ],
            [
             0.3,
             "#f1b6da"
            ],
            [
             0.4,
             "#fde0ef"
            ],
            [
             0.5,
             "#f7f7f7"
            ],
            [
             0.6,
             "#e6f5d0"
            ],
            [
             0.7,
             "#b8e186"
            ],
            [
             0.8,
             "#7fbc41"
            ],
            [
             0.9,
             "#4d9221"
            ],
            [
             1,
             "#276419"
            ]
           ],
           "sequential": [
            [
             0,
             "#0d0887"
            ],
            [
             0.1111111111111111,
             "#46039f"
            ],
            [
             0.2222222222222222,
             "#7201a8"
            ],
            [
             0.3333333333333333,
             "#9c179e"
            ],
            [
             0.4444444444444444,
             "#bd3786"
            ],
            [
             0.5555555555555556,
             "#d8576b"
            ],
            [
             0.6666666666666666,
             "#ed7953"
            ],
            [
             0.7777777777777778,
             "#fb9f3a"
            ],
            [
             0.8888888888888888,
             "#fdca26"
            ],
            [
             1,
             "#f0f921"
            ]
           ],
           "sequentialminus": [
            [
             0,
             "#0d0887"
            ],
            [
             0.1111111111111111,
             "#46039f"
            ],
            [
             0.2222222222222222,
             "#7201a8"
            ],
            [
             0.3333333333333333,
             "#9c179e"
            ],
            [
             0.4444444444444444,
             "#bd3786"
            ],
            [
             0.5555555555555556,
             "#d8576b"
            ],
            [
             0.6666666666666666,
             "#ed7953"
            ],
            [
             0.7777777777777778,
             "#fb9f3a"
            ],
            [
             0.8888888888888888,
             "#fdca26"
            ],
            [
             1,
             "#f0f921"
            ]
           ]
          },
          "colorway": [
           "#636efa",
           "#EF553B",
           "#00cc96",
           "#ab63fa",
           "#FFA15A",
           "#19d3f3",
           "#FF6692",
           "#B6E880",
           "#FF97FF",
           "#FECB52"
          ],
          "font": {
           "color": "#2a3f5f"
          },
          "geo": {
           "bgcolor": "white",
           "lakecolor": "white",
           "landcolor": "#E5ECF6",
           "showlakes": true,
           "showland": true,
           "subunitcolor": "white"
          },
          "hoverlabel": {
           "align": "left"
          },
          "hovermode": "closest",
          "mapbox": {
           "style": "light"
          },
          "paper_bgcolor": "white",
          "plot_bgcolor": "#E5ECF6",
          "polar": {
           "angularaxis": {
            "gridcolor": "white",
            "linecolor": "white",
            "ticks": ""
           },
           "bgcolor": "#E5ECF6",
           "radialaxis": {
            "gridcolor": "white",
            "linecolor": "white",
            "ticks": ""
           }
          },
          "scene": {
           "xaxis": {
            "backgroundcolor": "#E5ECF6",
            "gridcolor": "white",
            "gridwidth": 2,
            "linecolor": "white",
            "showbackground": true,
            "ticks": "",
            "zerolinecolor": "white"
           },
           "yaxis": {
            "backgroundcolor": "#E5ECF6",
            "gridcolor": "white",
            "gridwidth": 2,
            "linecolor": "white",
            "showbackground": true,
            "ticks": "",
            "zerolinecolor": "white"
           },
           "zaxis": {
            "backgroundcolor": "#E5ECF6",
            "gridcolor": "white",
            "gridwidth": 2,
            "linecolor": "white",
            "showbackground": true,
            "ticks": "",
            "zerolinecolor": "white"
           }
          },
          "shapedefaults": {
           "line": {
            "color": "#2a3f5f"
           }
          },
          "ternary": {
           "aaxis": {
            "gridcolor": "white",
            "linecolor": "white",
            "ticks": ""
           },
           "baxis": {
            "gridcolor": "white",
            "linecolor": "white",
            "ticks": ""
           },
           "bgcolor": "#E5ECF6",
           "caxis": {
            "gridcolor": "white",
            "linecolor": "white",
            "ticks": ""
           }
          },
          "title": {
           "x": 0.05
          },
          "xaxis": {
           "automargin": true,
           "gridcolor": "white",
           "linecolor": "white",
           "ticks": "",
           "title": {
            "standoff": 15
           },
           "zerolinecolor": "white",
           "zerolinewidth": 2
          },
          "yaxis": {
           "automargin": true,
           "gridcolor": "white",
           "linecolor": "white",
           "ticks": "",
           "title": {
            "standoff": 15
           },
           "zerolinecolor": "white",
           "zerolinewidth": 2
          }
         }
        },
        "title": {
         "text": "United States Population"
        }
       }
      },
      "text/html": [
       "<div>                            <div id=\"b18e0c14-0511-4a57-92ce-5a24b69a308a\" class=\"plotly-graph-div\" style=\"height:525px; width:100%;\"></div>            <script type=\"text/javascript\">                require([\"plotly\"], function(Plotly) {                    window.PLOTLYENV=window.PLOTLYENV || {};                                    if (document.getElementById(\"b18e0c14-0511-4a57-92ce-5a24b69a308a\")) {                    Plotly.newPlot(                        \"b18e0c14-0511-4a57-92ce-5a24b69a308a\",                        [{\"coloraxis\":\"coloraxis\",\"geo\":\"geo\",\"hovertemplate\":\"locations=%{location}\\u003cbr\\u003ePopulation=%{z}\\u003cextra\\u003e\\u003c\\u002fextra\\u003e\",\"locationmode\":\"USA-states\",\"locations\":[\"AL\",\"AK\",\"AZ\",\"AR\",\"CA\",\"CO\",\"CT\",\"DE\",\"FL\",\"GA\",\"HI\",\"ID\",\"IL\",\"IN\",\"IA\",\"KS\",\"KY\",\"LA\",\"ME\",\"MD\",\"MA\",\"MI\",\"MN\",\"MS\",\"MO\",\"MT\",\"NE\",\"NV\",\"NH\",\"NJ\",\"NM\",\"NY\",\"NC\",\"ND\",\"OH\",\"OK\",\"OR\",\"PA\",\"RI\",\"SC\",\"SD\",\"TN\",\"TX\",\"UT\",\"VT\",\"VA\",\"WA\",\"WV\",\"WI\",\"WY\"],\"name\":\"\",\"z\":[5030053,736081,7158923,3013756,39576757,5782171,3608298,990837,21570527,10725274,1460137,1841377,12822739,6790280,3192406,2940865,4509342,4661468,1363582,6185278,7033469,10084442,5709752,2963914,6160281,1085407,1963333,3108462,1379089,9294493,2120220,20215751,10453948,779702,11808848,3963516,4241500,13011844,1098163,5124712,887770,6916897,29183290,3275252,643503,8654542,7715946,1795045,5897473,577719],\"type\":\"choropleth\"}],                        {\"template\":{\"data\":{\"histogram2dcontour\":[{\"type\":\"histogram2dcontour\",\"colorbar\":{\"outlinewidth\":0,\"ticks\":\"\"},\"colorscale\":[[0.0,\"#0d0887\"],[0.1111111111111111,\"#46039f\"],[0.2222222222222222,\"#7201a8\"],[0.3333333333333333,\"#9c179e\"],[0.4444444444444444,\"#bd3786\"],[0.5555555555555556,\"#d8576b\"],[0.6666666666666666,\"#ed7953\"],[0.7777777777777778,\"#fb9f3a\"],[0.8888888888888888,\"#fdca26\"],[1.0,\"#f0f921\"]]}],\"choropleth\":[{\"type\":\"choropleth\",\"colorbar\":{\"outlinewidth\":0,\"ticks\":\"\"}}],\"histogram2d\":[{\"type\":\"histogram2d\",\"colorbar\":{\"outlinewidth\":0,\"ticks\":\"\"},\"colorscale\":[[0.0,\"#0d0887\"],[0.1111111111111111,\"#46039f\"],[0.2222222222222222,\"#7201a8\"],[0.3333333333333333,\"#9c179e\"],[0.4444444444444444,\"#bd3786\"],[0.5555555555555556,\"#d8576b\"],[0.6666666666666666,\"#ed7953\"],[0.7777777777777778,\"#fb9f3a\"],[0.8888888888888888,\"#fdca26\"],[1.0,\"#f0f921\"]]}],\"heatmap\":[{\"type\":\"heatmap\",\"colorbar\":{\"outlinewidth\":0,\"ticks\":\"\"},\"colorscale\":[[0.0,\"#0d0887\"],[0.1111111111111111,\"#46039f\"],[0.2222222222222222,\"#7201a8\"],[0.3333333333333333,\"#9c179e\"],[0.4444444444444444,\"#bd3786\"],[0.5555555555555556,\"#d8576b\"],[0.6666666666666666,\"#ed7953\"],[0.7777777777777778,\"#fb9f3a\"],[0.8888888888888888,\"#fdca26\"],[1.0,\"#f0f921\"]]}],\"heatmapgl\":[{\"type\":\"heatmapgl\",\"colorbar\":{\"outlinewidth\":0,\"ticks\":\"\"},\"colorscale\":[[0.0,\"#0d0887\"],[0.1111111111111111,\"#46039f\"],[0.2222222222222222,\"#7201a8\"],[0.3333333333333333,\"#9c179e\"],[0.4444444444444444,\"#bd3786\"],[0.5555555555555556,\"#d8576b\"],[0.6666666666666666,\"#ed7953\"],[0.7777777777777778,\"#fb9f3a\"],[0.8888888888888888,\"#fdca26\"],[1.0,\"#f0f921\"]]}],\"contourcarpet\":[{\"type\":\"contourcarpet\",\"colorbar\":{\"outlinewidth\":0,\"ticks\":\"\"}}],\"contour\":[{\"type\":\"contour\",\"colorbar\":{\"outlinewidth\":0,\"ticks\":\"\"},\"colorscale\":[[0.0,\"#0d0887\"],[0.1111111111111111,\"#46039f\"],[0.2222222222222222,\"#7201a8\"],[0.3333333333333333,\"#9c179e\"],[0.4444444444444444,\"#bd3786\"],[0.5555555555555556,\"#d8576b\"],[0.6666666666666666,\"#ed7953\"],[0.7777777777777778,\"#fb9f3a\"],[0.8888888888888888,\"#fdca26\"],[1.0,\"#f0f921\"]]}],\"surface\":[{\"type\":\"surface\",\"colorbar\":{\"outlinewidth\":0,\"ticks\":\"\"},\"colorscale\":[[0.0,\"#0d0887\"],[0.1111111111111111,\"#46039f\"],[0.2222222222222222,\"#7201a8\"],[0.3333333333333333,\"#9c179e\"],[0.4444444444444444,\"#bd3786\"],[0.5555555555555556,\"#d8576b\"],[0.6666666666666666,\"#ed7953\"],[0.7777777777777778,\"#fb9f3a\"],[0.8888888888888888,\"#fdca26\"],[1.0,\"#f0f921\"]]}],\"mesh3d\":[{\"type\":\"mesh3d\",\"colorbar\":{\"outlinewidth\":0,\"ticks\":\"\"}}],\"scatter\":[{\"fillpattern\":{\"fillmode\":\"overlay\",\"size\":10,\"solidity\":0.2},\"type\":\"scatter\"}],\"parcoords\":[{\"type\":\"parcoords\",\"line\":{\"colorbar\":{\"outlinewidth\":0,\"ticks\":\"\"}}}],\"scatterpolargl\":[{\"type\":\"scatterpolargl\",\"marker\":{\"colorbar\":{\"outlinewidth\":0,\"ticks\":\"\"}}}],\"bar\":[{\"error_x\":{\"color\":\"#2a3f5f\"},\"error_y\":{\"color\":\"#2a3f5f\"},\"marker\":{\"line\":{\"color\":\"#E5ECF6\",\"width\":0.5},\"pattern\":{\"fillmode\":\"overlay\",\"size\":10,\"solidity\":0.2}},\"type\":\"bar\"}],\"scattergeo\":[{\"type\":\"scattergeo\",\"marker\":{\"colorbar\":{\"outlinewidth\":0,\"ticks\":\"\"}}}],\"scatterpolar\":[{\"type\":\"scatterpolar\",\"marker\":{\"colorbar\":{\"outlinewidth\":0,\"ticks\":\"\"}}}],\"histogram\":[{\"marker\":{\"pattern\":{\"fillmode\":\"overlay\",\"size\":10,\"solidity\":0.2}},\"type\":\"histogram\"}],\"scattergl\":[{\"type\":\"scattergl\",\"marker\":{\"colorbar\":{\"outlinewidth\":0,\"ticks\":\"\"}}}],\"scatter3d\":[{\"type\":\"scatter3d\",\"line\":{\"colorbar\":{\"outlinewidth\":0,\"ticks\":\"\"}},\"marker\":{\"colorbar\":{\"outlinewidth\":0,\"ticks\":\"\"}}}],\"scattermapbox\":[{\"type\":\"scattermapbox\",\"marker\":{\"colorbar\":{\"outlinewidth\":0,\"ticks\":\"\"}}}],\"scatterternary\":[{\"type\":\"scatterternary\",\"marker\":{\"colorbar\":{\"outlinewidth\":0,\"ticks\":\"\"}}}],\"scattercarpet\":[{\"type\":\"scattercarpet\",\"marker\":{\"colorbar\":{\"outlinewidth\":0,\"ticks\":\"\"}}}],\"carpet\":[{\"aaxis\":{\"endlinecolor\":\"#2a3f5f\",\"gridcolor\":\"white\",\"linecolor\":\"white\",\"minorgridcolor\":\"white\",\"startlinecolor\":\"#2a3f5f\"},\"baxis\":{\"endlinecolor\":\"#2a3f5f\",\"gridcolor\":\"white\",\"linecolor\":\"white\",\"minorgridcolor\":\"white\",\"startlinecolor\":\"#2a3f5f\"},\"type\":\"carpet\"}],\"table\":[{\"cells\":{\"fill\":{\"color\":\"#EBF0F8\"},\"line\":{\"color\":\"white\"}},\"header\":{\"fill\":{\"color\":\"#C8D4E3\"},\"line\":{\"color\":\"white\"}},\"type\":\"table\"}],\"barpolar\":[{\"marker\":{\"line\":{\"color\":\"#E5ECF6\",\"width\":0.5},\"pattern\":{\"fillmode\":\"overlay\",\"size\":10,\"solidity\":0.2}},\"type\":\"barpolar\"}],\"pie\":[{\"automargin\":true,\"type\":\"pie\"}]},\"layout\":{\"autotypenumbers\":\"strict\",\"colorway\":[\"#636efa\",\"#EF553B\",\"#00cc96\",\"#ab63fa\",\"#FFA15A\",\"#19d3f3\",\"#FF6692\",\"#B6E880\",\"#FF97FF\",\"#FECB52\"],\"font\":{\"color\":\"#2a3f5f\"},\"hovermode\":\"closest\",\"hoverlabel\":{\"align\":\"left\"},\"paper_bgcolor\":\"white\",\"plot_bgcolor\":\"#E5ECF6\",\"polar\":{\"bgcolor\":\"#E5ECF6\",\"angularaxis\":{\"gridcolor\":\"white\",\"linecolor\":\"white\",\"ticks\":\"\"},\"radialaxis\":{\"gridcolor\":\"white\",\"linecolor\":\"white\",\"ticks\":\"\"}},\"ternary\":{\"bgcolor\":\"#E5ECF6\",\"aaxis\":{\"gridcolor\":\"white\",\"linecolor\":\"white\",\"ticks\":\"\"},\"baxis\":{\"gridcolor\":\"white\",\"linecolor\":\"white\",\"ticks\":\"\"},\"caxis\":{\"gridcolor\":\"white\",\"linecolor\":\"white\",\"ticks\":\"\"}},\"coloraxis\":{\"colorbar\":{\"outlinewidth\":0,\"ticks\":\"\"}},\"colorscale\":{\"sequential\":[[0.0,\"#0d0887\"],[0.1111111111111111,\"#46039f\"],[0.2222222222222222,\"#7201a8\"],[0.3333333333333333,\"#9c179e\"],[0.4444444444444444,\"#bd3786\"],[0.5555555555555556,\"#d8576b\"],[0.6666666666666666,\"#ed7953\"],[0.7777777777777778,\"#fb9f3a\"],[0.8888888888888888,\"#fdca26\"],[1.0,\"#f0f921\"]],\"sequentialminus\":[[0.0,\"#0d0887\"],[0.1111111111111111,\"#46039f\"],[0.2222222222222222,\"#7201a8\"],[0.3333333333333333,\"#9c179e\"],[0.4444444444444444,\"#bd3786\"],[0.5555555555555556,\"#d8576b\"],[0.6666666666666666,\"#ed7953\"],[0.7777777777777778,\"#fb9f3a\"],[0.8888888888888888,\"#fdca26\"],[1.0,\"#f0f921\"]],\"diverging\":[[0,\"#8e0152\"],[0.1,\"#c51b7d\"],[0.2,\"#de77ae\"],[0.3,\"#f1b6da\"],[0.4,\"#fde0ef\"],[0.5,\"#f7f7f7\"],[0.6,\"#e6f5d0\"],[0.7,\"#b8e186\"],[0.8,\"#7fbc41\"],[0.9,\"#4d9221\"],[1,\"#276419\"]]},\"xaxis\":{\"gridcolor\":\"white\",\"linecolor\":\"white\",\"ticks\":\"\",\"title\":{\"standoff\":15},\"zerolinecolor\":\"white\",\"automargin\":true,\"zerolinewidth\":2},\"yaxis\":{\"gridcolor\":\"white\",\"linecolor\":\"white\",\"ticks\":\"\",\"title\":{\"standoff\":15},\"zerolinecolor\":\"white\",\"automargin\":true,\"zerolinewidth\":2},\"scene\":{\"xaxis\":{\"backgroundcolor\":\"#E5ECF6\",\"gridcolor\":\"white\",\"linecolor\":\"white\",\"showbackground\":true,\"ticks\":\"\",\"zerolinecolor\":\"white\",\"gridwidth\":2},\"yaxis\":{\"backgroundcolor\":\"#E5ECF6\",\"gridcolor\":\"white\",\"linecolor\":\"white\",\"showbackground\":true,\"ticks\":\"\",\"zerolinecolor\":\"white\",\"gridwidth\":2},\"zaxis\":{\"backgroundcolor\":\"#E5ECF6\",\"gridcolor\":\"white\",\"linecolor\":\"white\",\"showbackground\":true,\"ticks\":\"\",\"zerolinecolor\":\"white\",\"gridwidth\":2}},\"shapedefaults\":{\"line\":{\"color\":\"#2a3f5f\"}},\"annotationdefaults\":{\"arrowcolor\":\"#2a3f5f\",\"arrowhead\":0,\"arrowwidth\":1},\"geo\":{\"bgcolor\":\"white\",\"landcolor\":\"#E5ECF6\",\"subunitcolor\":\"white\",\"showland\":true,\"showlakes\":true,\"lakecolor\":\"white\"},\"title\":{\"x\":0.05},\"mapbox\":{\"style\":\"light\"}}},\"geo\":{\"domain\":{\"x\":[0.0,1.0],\"y\":[0.0,1.0]},\"center\":{},\"scope\":\"usa\"},\"coloraxis\":{\"colorbar\":{\"title\":{\"text\":\"Population\"}},\"colorscale\":[[0.0,\"#440154\"],[0.1111111111111111,\"#482878\"],[0.2222222222222222,\"#3e4989\"],[0.3333333333333333,\"#31688e\"],[0.4444444444444444,\"#26828e\"],[0.5555555555555556,\"#1f9e89\"],[0.6666666666666666,\"#35b779\"],[0.7777777777777778,\"#6ece58\"],[0.8888888888888888,\"#b5de2b\"],[1.0,\"#fde725\"]]},\"legend\":{\"tracegroupgap\":0},\"title\":{\"text\":\"United States Population\"}},                        {\"responsive\": true}                    ).then(function(){\n",
       "                            \n",
       "var gd = document.getElementById('b18e0c14-0511-4a57-92ce-5a24b69a308a');\n",
       "var x = new MutationObserver(function (mutations, observer) {{\n",
       "        var display = window.getComputedStyle(gd).display;\n",
       "        if (!display || display === 'none') {{\n",
       "            console.log([gd, 'removed!']);\n",
       "            Plotly.purge(gd);\n",
       "            observer.disconnect();\n",
       "        }}\n",
       "}});\n",
       "\n",
       "// Listen for the removal of the full notebook cells\n",
       "var notebookContainer = gd.closest('#notebook-container');\n",
       "if (notebookContainer) {{\n",
       "    x.observe(notebookContainer, {childList: true});\n",
       "}}\n",
       "\n",
       "// Listen for the clearing of the current output cell\n",
       "var outputEl = gd.closest('.output');\n",
       "if (outputEl) {{\n",
       "    x.observe(outputEl, {childList: true});\n",
       "}}\n",
       "\n",
       "                        })                };                });            </script>        </div>"
      ]
     },
     "metadata": {},
     "output_type": "display_data"
    }
   ],
   "source": [
    "#heatmap for 2020 population per state\n",
    "fig = px.choropleth(popstates2020, locations=code2,\n",
    "                    locationmode=\"USA-states\", color='Population',color_continuous_scale=\"Viridis\", scope=\"usa\", title='United States Population')\n",
    "#on click of state goes to heatmap for that state and its county\n",
    "#fig.update_layout(width=1000, height=600)\n",
    "fig.write_html('unitedstates/United States Population.html')\n",
    "fig.show()"
   ]
  },
  {
   "cell_type": "code",
   "execution_count": 17,
   "metadata": {},
   "outputs": [],
   "source": [
    "fig.write_image(\"unitedstates/United States Population.png\")"
   ]
  },
  {
   "cell_type": "markdown",
   "metadata": {},
   "source": [
    "### Cancer per US State choropleth map "
   ]
  },
  {
   "cell_type": "code",
   "execution_count": 13,
   "metadata": {},
   "outputs": [
    {
     "data": {
      "application/vnd.plotly.v1+json": {
       "config": {
        "plotlyServerURL": "https://plot.ly"
       },
       "data": [
        {
         "coloraxis": "coloraxis",
         "geo": "geo",
         "hovertemplate": "locations=%{location}<br>All sites=%{z}<extra></extra>",
         "locationmode": "USA-states",
         "locations": [
          "AL",
          "AK",
          "AZ",
          "AR",
          "CA",
          "CO",
          "CT",
          "DC",
          "DE",
          "FL",
          "GA",
          "HI",
          "ID",
          "IL",
          "IN",
          "IA",
          "KS",
          "KY",
          "LA",
          "ME",
          "MD",
          "MA",
          "MI",
          "MN",
          "MS",
          "MO",
          "MT",
          "NE",
          "NV",
          "NH",
          "NJ",
          "NM",
          "NY",
          "NC",
          "ND",
          "OH",
          "OK",
          "OR",
          "PA",
          "RI",
          "SC",
          "SD",
          "TN",
          "TX",
          "UT",
          "VT",
          "VA",
          "WA",
          "WV",
          "WI",
          "WY"
         ],
         "name": "",
         "type": "choropleth",
         "z": [
          30730,
          3390,
          41120,
          18670,
          192770,
          28920,
          23480,
          7240,
          3520,
          162410,
          61170,
          8460,
          10810,
          74580,
          40270,
          20460,
          16840,
          30270,
          28580,
          10490,
          35200,
          42880,
          61910,
          34380,
          18210,
          37910,
          7100,
          11530,
          17370,
          9580,
          56150,
          11280,
          123810,
          67690,
          4370,
          74140,
          23420,
          26030,
          88450,
          7030,
          33890,
          5340,
          43790,
          139100,
          13840,
          4370,
          47100,
          44630,
          12840,
          37640,
          3170
         ]
        }
       ],
       "layout": {
        "coloraxis": {
         "colorbar": {
          "title": {
           "text": "All sites"
          }
         },
         "colorscale": [
          [
           0,
           "#440154"
          ],
          [
           0.1111111111111111,
           "#482878"
          ],
          [
           0.2222222222222222,
           "#3e4989"
          ],
          [
           0.3333333333333333,
           "#31688e"
          ],
          [
           0.4444444444444444,
           "#26828e"
          ],
          [
           0.5555555555555556,
           "#1f9e89"
          ],
          [
           0.6666666666666666,
           "#35b779"
          ],
          [
           0.7777777777777778,
           "#6ece58"
          ],
          [
           0.8888888888888888,
           "#b5de2b"
          ],
          [
           1,
           "#fde725"
          ]
         ]
        },
        "geo": {
         "center": {},
         "domain": {
          "x": [
           0,
           1
          ],
          "y": [
           0,
           1
          ]
         },
         "scope": "usa"
        },
        "legend": {
         "tracegroupgap": 0
        },
        "template": {
         "data": {
          "bar": [
           {
            "error_x": {
             "color": "#2a3f5f"
            },
            "error_y": {
             "color": "#2a3f5f"
            },
            "marker": {
             "line": {
              "color": "#E5ECF6",
              "width": 0.5
             },
             "pattern": {
              "fillmode": "overlay",
              "size": 10,
              "solidity": 0.2
             }
            },
            "type": "bar"
           }
          ],
          "barpolar": [
           {
            "marker": {
             "line": {
              "color": "#E5ECF6",
              "width": 0.5
             },
             "pattern": {
              "fillmode": "overlay",
              "size": 10,
              "solidity": 0.2
             }
            },
            "type": "barpolar"
           }
          ],
          "carpet": [
           {
            "aaxis": {
             "endlinecolor": "#2a3f5f",
             "gridcolor": "white",
             "linecolor": "white",
             "minorgridcolor": "white",
             "startlinecolor": "#2a3f5f"
            },
            "baxis": {
             "endlinecolor": "#2a3f5f",
             "gridcolor": "white",
             "linecolor": "white",
             "minorgridcolor": "white",
             "startlinecolor": "#2a3f5f"
            },
            "type": "carpet"
           }
          ],
          "choropleth": [
           {
            "colorbar": {
             "outlinewidth": 0,
             "ticks": ""
            },
            "type": "choropleth"
           }
          ],
          "contour": [
           {
            "colorbar": {
             "outlinewidth": 0,
             "ticks": ""
            },
            "colorscale": [
             [
              0,
              "#0d0887"
             ],
             [
              0.1111111111111111,
              "#46039f"
             ],
             [
              0.2222222222222222,
              "#7201a8"
             ],
             [
              0.3333333333333333,
              "#9c179e"
             ],
             [
              0.4444444444444444,
              "#bd3786"
             ],
             [
              0.5555555555555556,
              "#d8576b"
             ],
             [
              0.6666666666666666,
              "#ed7953"
             ],
             [
              0.7777777777777778,
              "#fb9f3a"
             ],
             [
              0.8888888888888888,
              "#fdca26"
             ],
             [
              1,
              "#f0f921"
             ]
            ],
            "type": "contour"
           }
          ],
          "contourcarpet": [
           {
            "colorbar": {
             "outlinewidth": 0,
             "ticks": ""
            },
            "type": "contourcarpet"
           }
          ],
          "heatmap": [
           {
            "colorbar": {
             "outlinewidth": 0,
             "ticks": ""
            },
            "colorscale": [
             [
              0,
              "#0d0887"
             ],
             [
              0.1111111111111111,
              "#46039f"
             ],
             [
              0.2222222222222222,
              "#7201a8"
             ],
             [
              0.3333333333333333,
              "#9c179e"
             ],
             [
              0.4444444444444444,
              "#bd3786"
             ],
             [
              0.5555555555555556,
              "#d8576b"
             ],
             [
              0.6666666666666666,
              "#ed7953"
             ],
             [
              0.7777777777777778,
              "#fb9f3a"
             ],
             [
              0.8888888888888888,
              "#fdca26"
             ],
             [
              1,
              "#f0f921"
             ]
            ],
            "type": "heatmap"
           }
          ],
          "heatmapgl": [
           {
            "colorbar": {
             "outlinewidth": 0,
             "ticks": ""
            },
            "colorscale": [
             [
              0,
              "#0d0887"
             ],
             [
              0.1111111111111111,
              "#46039f"
             ],
             [
              0.2222222222222222,
              "#7201a8"
             ],
             [
              0.3333333333333333,
              "#9c179e"
             ],
             [
              0.4444444444444444,
              "#bd3786"
             ],
             [
              0.5555555555555556,
              "#d8576b"
             ],
             [
              0.6666666666666666,
              "#ed7953"
             ],
             [
              0.7777777777777778,
              "#fb9f3a"
             ],
             [
              0.8888888888888888,
              "#fdca26"
             ],
             [
              1,
              "#f0f921"
             ]
            ],
            "type": "heatmapgl"
           }
          ],
          "histogram": [
           {
            "marker": {
             "pattern": {
              "fillmode": "overlay",
              "size": 10,
              "solidity": 0.2
             }
            },
            "type": "histogram"
           }
          ],
          "histogram2d": [
           {
            "colorbar": {
             "outlinewidth": 0,
             "ticks": ""
            },
            "colorscale": [
             [
              0,
              "#0d0887"
             ],
             [
              0.1111111111111111,
              "#46039f"
             ],
             [
              0.2222222222222222,
              "#7201a8"
             ],
             [
              0.3333333333333333,
              "#9c179e"
             ],
             [
              0.4444444444444444,
              "#bd3786"
             ],
             [
              0.5555555555555556,
              "#d8576b"
             ],
             [
              0.6666666666666666,
              "#ed7953"
             ],
             [
              0.7777777777777778,
              "#fb9f3a"
             ],
             [
              0.8888888888888888,
              "#fdca26"
             ],
             [
              1,
              "#f0f921"
             ]
            ],
            "type": "histogram2d"
           }
          ],
          "histogram2dcontour": [
           {
            "colorbar": {
             "outlinewidth": 0,
             "ticks": ""
            },
            "colorscale": [
             [
              0,
              "#0d0887"
             ],
             [
              0.1111111111111111,
              "#46039f"
             ],
             [
              0.2222222222222222,
              "#7201a8"
             ],
             [
              0.3333333333333333,
              "#9c179e"
             ],
             [
              0.4444444444444444,
              "#bd3786"
             ],
             [
              0.5555555555555556,
              "#d8576b"
             ],
             [
              0.6666666666666666,
              "#ed7953"
             ],
             [
              0.7777777777777778,
              "#fb9f3a"
             ],
             [
              0.8888888888888888,
              "#fdca26"
             ],
             [
              1,
              "#f0f921"
             ]
            ],
            "type": "histogram2dcontour"
           }
          ],
          "mesh3d": [
           {
            "colorbar": {
             "outlinewidth": 0,
             "ticks": ""
            },
            "type": "mesh3d"
           }
          ],
          "parcoords": [
           {
            "line": {
             "colorbar": {
              "outlinewidth": 0,
              "ticks": ""
             }
            },
            "type": "parcoords"
           }
          ],
          "pie": [
           {
            "automargin": true,
            "type": "pie"
           }
          ],
          "scatter": [
           {
            "fillpattern": {
             "fillmode": "overlay",
             "size": 10,
             "solidity": 0.2
            },
            "type": "scatter"
           }
          ],
          "scatter3d": [
           {
            "line": {
             "colorbar": {
              "outlinewidth": 0,
              "ticks": ""
             }
            },
            "marker": {
             "colorbar": {
              "outlinewidth": 0,
              "ticks": ""
             }
            },
            "type": "scatter3d"
           }
          ],
          "scattercarpet": [
           {
            "marker": {
             "colorbar": {
              "outlinewidth": 0,
              "ticks": ""
             }
            },
            "type": "scattercarpet"
           }
          ],
          "scattergeo": [
           {
            "marker": {
             "colorbar": {
              "outlinewidth": 0,
              "ticks": ""
             }
            },
            "type": "scattergeo"
           }
          ],
          "scattergl": [
           {
            "marker": {
             "colorbar": {
              "outlinewidth": 0,
              "ticks": ""
             }
            },
            "type": "scattergl"
           }
          ],
          "scattermapbox": [
           {
            "marker": {
             "colorbar": {
              "outlinewidth": 0,
              "ticks": ""
             }
            },
            "type": "scattermapbox"
           }
          ],
          "scatterpolar": [
           {
            "marker": {
             "colorbar": {
              "outlinewidth": 0,
              "ticks": ""
             }
            },
            "type": "scatterpolar"
           }
          ],
          "scatterpolargl": [
           {
            "marker": {
             "colorbar": {
              "outlinewidth": 0,
              "ticks": ""
             }
            },
            "type": "scatterpolargl"
           }
          ],
          "scatterternary": [
           {
            "marker": {
             "colorbar": {
              "outlinewidth": 0,
              "ticks": ""
             }
            },
            "type": "scatterternary"
           }
          ],
          "surface": [
           {
            "colorbar": {
             "outlinewidth": 0,
             "ticks": ""
            },
            "colorscale": [
             [
              0,
              "#0d0887"
             ],
             [
              0.1111111111111111,
              "#46039f"
             ],
             [
              0.2222222222222222,
              "#7201a8"
             ],
             [
              0.3333333333333333,
              "#9c179e"
             ],
             [
              0.4444444444444444,
              "#bd3786"
             ],
             [
              0.5555555555555556,
              "#d8576b"
             ],
             [
              0.6666666666666666,
              "#ed7953"
             ],
             [
              0.7777777777777778,
              "#fb9f3a"
             ],
             [
              0.8888888888888888,
              "#fdca26"
             ],
             [
              1,
              "#f0f921"
             ]
            ],
            "type": "surface"
           }
          ],
          "table": [
           {
            "cells": {
             "fill": {
              "color": "#EBF0F8"
             },
             "line": {
              "color": "white"
             }
            },
            "header": {
             "fill": {
              "color": "#C8D4E3"
             },
             "line": {
              "color": "white"
             }
            },
            "type": "table"
           }
          ]
         },
         "layout": {
          "annotationdefaults": {
           "arrowcolor": "#2a3f5f",
           "arrowhead": 0,
           "arrowwidth": 1
          },
          "autotypenumbers": "strict",
          "coloraxis": {
           "colorbar": {
            "outlinewidth": 0,
            "ticks": ""
           }
          },
          "colorscale": {
           "diverging": [
            [
             0,
             "#8e0152"
            ],
            [
             0.1,
             "#c51b7d"
            ],
            [
             0.2,
             "#de77ae"
            ],
            [
             0.3,
             "#f1b6da"
            ],
            [
             0.4,
             "#fde0ef"
            ],
            [
             0.5,
             "#f7f7f7"
            ],
            [
             0.6,
             "#e6f5d0"
            ],
            [
             0.7,
             "#b8e186"
            ],
            [
             0.8,
             "#7fbc41"
            ],
            [
             0.9,
             "#4d9221"
            ],
            [
             1,
             "#276419"
            ]
           ],
           "sequential": [
            [
             0,
             "#0d0887"
            ],
            [
             0.1111111111111111,
             "#46039f"
            ],
            [
             0.2222222222222222,
             "#7201a8"
            ],
            [
             0.3333333333333333,
             "#9c179e"
            ],
            [
             0.4444444444444444,
             "#bd3786"
            ],
            [
             0.5555555555555556,
             "#d8576b"
            ],
            [
             0.6666666666666666,
             "#ed7953"
            ],
            [
             0.7777777777777778,
             "#fb9f3a"
            ],
            [
             0.8888888888888888,
             "#fdca26"
            ],
            [
             1,
             "#f0f921"
            ]
           ],
           "sequentialminus": [
            [
             0,
             "#0d0887"
            ],
            [
             0.1111111111111111,
             "#46039f"
            ],
            [
             0.2222222222222222,
             "#7201a8"
            ],
            [
             0.3333333333333333,
             "#9c179e"
            ],
            [
             0.4444444444444444,
             "#bd3786"
            ],
            [
             0.5555555555555556,
             "#d8576b"
            ],
            [
             0.6666666666666666,
             "#ed7953"
            ],
            [
             0.7777777777777778,
             "#fb9f3a"
            ],
            [
             0.8888888888888888,
             "#fdca26"
            ],
            [
             1,
             "#f0f921"
            ]
           ]
          },
          "colorway": [
           "#636efa",
           "#EF553B",
           "#00cc96",
           "#ab63fa",
           "#FFA15A",
           "#19d3f3",
           "#FF6692",
           "#B6E880",
           "#FF97FF",
           "#FECB52"
          ],
          "font": {
           "color": "#2a3f5f"
          },
          "geo": {
           "bgcolor": "white",
           "lakecolor": "white",
           "landcolor": "#E5ECF6",
           "showlakes": true,
           "showland": true,
           "subunitcolor": "white"
          },
          "hoverlabel": {
           "align": "left"
          },
          "hovermode": "closest",
          "mapbox": {
           "style": "light"
          },
          "paper_bgcolor": "white",
          "plot_bgcolor": "#E5ECF6",
          "polar": {
           "angularaxis": {
            "gridcolor": "white",
            "linecolor": "white",
            "ticks": ""
           },
           "bgcolor": "#E5ECF6",
           "radialaxis": {
            "gridcolor": "white",
            "linecolor": "white",
            "ticks": ""
           }
          },
          "scene": {
           "xaxis": {
            "backgroundcolor": "#E5ECF6",
            "gridcolor": "white",
            "gridwidth": 2,
            "linecolor": "white",
            "showbackground": true,
            "ticks": "",
            "zerolinecolor": "white"
           },
           "yaxis": {
            "backgroundcolor": "#E5ECF6",
            "gridcolor": "white",
            "gridwidth": 2,
            "linecolor": "white",
            "showbackground": true,
            "ticks": "",
            "zerolinecolor": "white"
           },
           "zaxis": {
            "backgroundcolor": "#E5ECF6",
            "gridcolor": "white",
            "gridwidth": 2,
            "linecolor": "white",
            "showbackground": true,
            "ticks": "",
            "zerolinecolor": "white"
           }
          },
          "shapedefaults": {
           "line": {
            "color": "#2a3f5f"
           }
          },
          "ternary": {
           "aaxis": {
            "gridcolor": "white",
            "linecolor": "white",
            "ticks": ""
           },
           "baxis": {
            "gridcolor": "white",
            "linecolor": "white",
            "ticks": ""
           },
           "bgcolor": "#E5ECF6",
           "caxis": {
            "gridcolor": "white",
            "linecolor": "white",
            "ticks": ""
           }
          },
          "title": {
           "x": 0.05
          },
          "xaxis": {
           "automargin": true,
           "gridcolor": "white",
           "linecolor": "white",
           "ticks": "",
           "title": {
            "standoff": 15
           },
           "zerolinecolor": "white",
           "zerolinewidth": 2
          },
          "yaxis": {
           "automargin": true,
           "gridcolor": "white",
           "linecolor": "white",
           "ticks": "",
           "title": {
            "standoff": 15
           },
           "zerolinecolor": "white",
           "zerolinewidth": 2
          }
         }
        },
        "title": {
         "text": "Cancer per State from 2016-2020"
        }
       }
      },
      "text/html": [
       "<div>                            <div id=\"31d560d6-aa36-4f4e-89b7-e93debb6e693\" class=\"plotly-graph-div\" style=\"height:525px; width:100%;\"></div>            <script type=\"text/javascript\">                require([\"plotly\"], function(Plotly) {                    window.PLOTLYENV=window.PLOTLYENV || {};                                    if (document.getElementById(\"31d560d6-aa36-4f4e-89b7-e93debb6e693\")) {                    Plotly.newPlot(                        \"31d560d6-aa36-4f4e-89b7-e93debb6e693\",                        [{\"coloraxis\":\"coloraxis\",\"geo\":\"geo\",\"hovertemplate\":\"locations=%{location}\\u003cbr\\u003eAll sites=%{z}\\u003cextra\\u003e\\u003c\\u002fextra\\u003e\",\"locationmode\":\"USA-states\",\"locations\":[\"AL\",\"AK\",\"AZ\",\"AR\",\"CA\",\"CO\",\"CT\",\"DC\",\"DE\",\"FL\",\"GA\",\"HI\",\"ID\",\"IL\",\"IN\",\"IA\",\"KS\",\"KY\",\"LA\",\"ME\",\"MD\",\"MA\",\"MI\",\"MN\",\"MS\",\"MO\",\"MT\",\"NE\",\"NV\",\"NH\",\"NJ\",\"NM\",\"NY\",\"NC\",\"ND\",\"OH\",\"OK\",\"OR\",\"PA\",\"RI\",\"SC\",\"SD\",\"TN\",\"TX\",\"UT\",\"VT\",\"VA\",\"WA\",\"WV\",\"WI\",\"WY\"],\"name\":\"\",\"z\":[30730,3390,41120,18670,192770,28920,23480,7240,3520,162410,61170,8460,10810,74580,40270,20460,16840,30270,28580,10490,35200,42880,61910,34380,18210,37910,7100,11530,17370,9580,56150,11280,123810,67690,4370,74140,23420,26030,88450,7030,33890,5340,43790,139100,13840,4370,47100,44630,12840,37640,3170],\"type\":\"choropleth\"}],                        {\"template\":{\"data\":{\"histogram2dcontour\":[{\"type\":\"histogram2dcontour\",\"colorbar\":{\"outlinewidth\":0,\"ticks\":\"\"},\"colorscale\":[[0.0,\"#0d0887\"],[0.1111111111111111,\"#46039f\"],[0.2222222222222222,\"#7201a8\"],[0.3333333333333333,\"#9c179e\"],[0.4444444444444444,\"#bd3786\"],[0.5555555555555556,\"#d8576b\"],[0.6666666666666666,\"#ed7953\"],[0.7777777777777778,\"#fb9f3a\"],[0.8888888888888888,\"#fdca26\"],[1.0,\"#f0f921\"]]}],\"choropleth\":[{\"type\":\"choropleth\",\"colorbar\":{\"outlinewidth\":0,\"ticks\":\"\"}}],\"histogram2d\":[{\"type\":\"histogram2d\",\"colorbar\":{\"outlinewidth\":0,\"ticks\":\"\"},\"colorscale\":[[0.0,\"#0d0887\"],[0.1111111111111111,\"#46039f\"],[0.2222222222222222,\"#7201a8\"],[0.3333333333333333,\"#9c179e\"],[0.4444444444444444,\"#bd3786\"],[0.5555555555555556,\"#d8576b\"],[0.6666666666666666,\"#ed7953\"],[0.7777777777777778,\"#fb9f3a\"],[0.8888888888888888,\"#fdca26\"],[1.0,\"#f0f921\"]]}],\"heatmap\":[{\"type\":\"heatmap\",\"colorbar\":{\"outlinewidth\":0,\"ticks\":\"\"},\"colorscale\":[[0.0,\"#0d0887\"],[0.1111111111111111,\"#46039f\"],[0.2222222222222222,\"#7201a8\"],[0.3333333333333333,\"#9c179e\"],[0.4444444444444444,\"#bd3786\"],[0.5555555555555556,\"#d8576b\"],[0.6666666666666666,\"#ed7953\"],[0.7777777777777778,\"#fb9f3a\"],[0.8888888888888888,\"#fdca26\"],[1.0,\"#f0f921\"]]}],\"heatmapgl\":[{\"type\":\"heatmapgl\",\"colorbar\":{\"outlinewidth\":0,\"ticks\":\"\"},\"colorscale\":[[0.0,\"#0d0887\"],[0.1111111111111111,\"#46039f\"],[0.2222222222222222,\"#7201a8\"],[0.3333333333333333,\"#9c179e\"],[0.4444444444444444,\"#bd3786\"],[0.5555555555555556,\"#d8576b\"],[0.6666666666666666,\"#ed7953\"],[0.7777777777777778,\"#fb9f3a\"],[0.8888888888888888,\"#fdca26\"],[1.0,\"#f0f921\"]]}],\"contourcarpet\":[{\"type\":\"contourcarpet\",\"colorbar\":{\"outlinewidth\":0,\"ticks\":\"\"}}],\"contour\":[{\"type\":\"contour\",\"colorbar\":{\"outlinewidth\":0,\"ticks\":\"\"},\"colorscale\":[[0.0,\"#0d0887\"],[0.1111111111111111,\"#46039f\"],[0.2222222222222222,\"#7201a8\"],[0.3333333333333333,\"#9c179e\"],[0.4444444444444444,\"#bd3786\"],[0.5555555555555556,\"#d8576b\"],[0.6666666666666666,\"#ed7953\"],[0.7777777777777778,\"#fb9f3a\"],[0.8888888888888888,\"#fdca26\"],[1.0,\"#f0f921\"]]}],\"surface\":[{\"type\":\"surface\",\"colorbar\":{\"outlinewidth\":0,\"ticks\":\"\"},\"colorscale\":[[0.0,\"#0d0887\"],[0.1111111111111111,\"#46039f\"],[0.2222222222222222,\"#7201a8\"],[0.3333333333333333,\"#9c179e\"],[0.4444444444444444,\"#bd3786\"],[0.5555555555555556,\"#d8576b\"],[0.6666666666666666,\"#ed7953\"],[0.7777777777777778,\"#fb9f3a\"],[0.8888888888888888,\"#fdca26\"],[1.0,\"#f0f921\"]]}],\"mesh3d\":[{\"type\":\"mesh3d\",\"colorbar\":{\"outlinewidth\":0,\"ticks\":\"\"}}],\"scatter\":[{\"fillpattern\":{\"fillmode\":\"overlay\",\"size\":10,\"solidity\":0.2},\"type\":\"scatter\"}],\"parcoords\":[{\"type\":\"parcoords\",\"line\":{\"colorbar\":{\"outlinewidth\":0,\"ticks\":\"\"}}}],\"scatterpolargl\":[{\"type\":\"scatterpolargl\",\"marker\":{\"colorbar\":{\"outlinewidth\":0,\"ticks\":\"\"}}}],\"bar\":[{\"error_x\":{\"color\":\"#2a3f5f\"},\"error_y\":{\"color\":\"#2a3f5f\"},\"marker\":{\"line\":{\"color\":\"#E5ECF6\",\"width\":0.5},\"pattern\":{\"fillmode\":\"overlay\",\"size\":10,\"solidity\":0.2}},\"type\":\"bar\"}],\"scattergeo\":[{\"type\":\"scattergeo\",\"marker\":{\"colorbar\":{\"outlinewidth\":0,\"ticks\":\"\"}}}],\"scatterpolar\":[{\"type\":\"scatterpolar\",\"marker\":{\"colorbar\":{\"outlinewidth\":0,\"ticks\":\"\"}}}],\"histogram\":[{\"marker\":{\"pattern\":{\"fillmode\":\"overlay\",\"size\":10,\"solidity\":0.2}},\"type\":\"histogram\"}],\"scattergl\":[{\"type\":\"scattergl\",\"marker\":{\"colorbar\":{\"outlinewidth\":0,\"ticks\":\"\"}}}],\"scatter3d\":[{\"type\":\"scatter3d\",\"line\":{\"colorbar\":{\"outlinewidth\":0,\"ticks\":\"\"}},\"marker\":{\"colorbar\":{\"outlinewidth\":0,\"ticks\":\"\"}}}],\"scattermapbox\":[{\"type\":\"scattermapbox\",\"marker\":{\"colorbar\":{\"outlinewidth\":0,\"ticks\":\"\"}}}],\"scatterternary\":[{\"type\":\"scatterternary\",\"marker\":{\"colorbar\":{\"outlinewidth\":0,\"ticks\":\"\"}}}],\"scattercarpet\":[{\"type\":\"scattercarpet\",\"marker\":{\"colorbar\":{\"outlinewidth\":0,\"ticks\":\"\"}}}],\"carpet\":[{\"aaxis\":{\"endlinecolor\":\"#2a3f5f\",\"gridcolor\":\"white\",\"linecolor\":\"white\",\"minorgridcolor\":\"white\",\"startlinecolor\":\"#2a3f5f\"},\"baxis\":{\"endlinecolor\":\"#2a3f5f\",\"gridcolor\":\"white\",\"linecolor\":\"white\",\"minorgridcolor\":\"white\",\"startlinecolor\":\"#2a3f5f\"},\"type\":\"carpet\"}],\"table\":[{\"cells\":{\"fill\":{\"color\":\"#EBF0F8\"},\"line\":{\"color\":\"white\"}},\"header\":{\"fill\":{\"color\":\"#C8D4E3\"},\"line\":{\"color\":\"white\"}},\"type\":\"table\"}],\"barpolar\":[{\"marker\":{\"line\":{\"color\":\"#E5ECF6\",\"width\":0.5},\"pattern\":{\"fillmode\":\"overlay\",\"size\":10,\"solidity\":0.2}},\"type\":\"barpolar\"}],\"pie\":[{\"automargin\":true,\"type\":\"pie\"}]},\"layout\":{\"autotypenumbers\":\"strict\",\"colorway\":[\"#636efa\",\"#EF553B\",\"#00cc96\",\"#ab63fa\",\"#FFA15A\",\"#19d3f3\",\"#FF6692\",\"#B6E880\",\"#FF97FF\",\"#FECB52\"],\"font\":{\"color\":\"#2a3f5f\"},\"hovermode\":\"closest\",\"hoverlabel\":{\"align\":\"left\"},\"paper_bgcolor\":\"white\",\"plot_bgcolor\":\"#E5ECF6\",\"polar\":{\"bgcolor\":\"#E5ECF6\",\"angularaxis\":{\"gridcolor\":\"white\",\"linecolor\":\"white\",\"ticks\":\"\"},\"radialaxis\":{\"gridcolor\":\"white\",\"linecolor\":\"white\",\"ticks\":\"\"}},\"ternary\":{\"bgcolor\":\"#E5ECF6\",\"aaxis\":{\"gridcolor\":\"white\",\"linecolor\":\"white\",\"ticks\":\"\"},\"baxis\":{\"gridcolor\":\"white\",\"linecolor\":\"white\",\"ticks\":\"\"},\"caxis\":{\"gridcolor\":\"white\",\"linecolor\":\"white\",\"ticks\":\"\"}},\"coloraxis\":{\"colorbar\":{\"outlinewidth\":0,\"ticks\":\"\"}},\"colorscale\":{\"sequential\":[[0.0,\"#0d0887\"],[0.1111111111111111,\"#46039f\"],[0.2222222222222222,\"#7201a8\"],[0.3333333333333333,\"#9c179e\"],[0.4444444444444444,\"#bd3786\"],[0.5555555555555556,\"#d8576b\"],[0.6666666666666666,\"#ed7953\"],[0.7777777777777778,\"#fb9f3a\"],[0.8888888888888888,\"#fdca26\"],[1.0,\"#f0f921\"]],\"sequentialminus\":[[0.0,\"#0d0887\"],[0.1111111111111111,\"#46039f\"],[0.2222222222222222,\"#7201a8\"],[0.3333333333333333,\"#9c179e\"],[0.4444444444444444,\"#bd3786\"],[0.5555555555555556,\"#d8576b\"],[0.6666666666666666,\"#ed7953\"],[0.7777777777777778,\"#fb9f3a\"],[0.8888888888888888,\"#fdca26\"],[1.0,\"#f0f921\"]],\"diverging\":[[0,\"#8e0152\"],[0.1,\"#c51b7d\"],[0.2,\"#de77ae\"],[0.3,\"#f1b6da\"],[0.4,\"#fde0ef\"],[0.5,\"#f7f7f7\"],[0.6,\"#e6f5d0\"],[0.7,\"#b8e186\"],[0.8,\"#7fbc41\"],[0.9,\"#4d9221\"],[1,\"#276419\"]]},\"xaxis\":{\"gridcolor\":\"white\",\"linecolor\":\"white\",\"ticks\":\"\",\"title\":{\"standoff\":15},\"zerolinecolor\":\"white\",\"automargin\":true,\"zerolinewidth\":2},\"yaxis\":{\"gridcolor\":\"white\",\"linecolor\":\"white\",\"ticks\":\"\",\"title\":{\"standoff\":15},\"zerolinecolor\":\"white\",\"automargin\":true,\"zerolinewidth\":2},\"scene\":{\"xaxis\":{\"backgroundcolor\":\"#E5ECF6\",\"gridcolor\":\"white\",\"linecolor\":\"white\",\"showbackground\":true,\"ticks\":\"\",\"zerolinecolor\":\"white\",\"gridwidth\":2},\"yaxis\":{\"backgroundcolor\":\"#E5ECF6\",\"gridcolor\":\"white\",\"linecolor\":\"white\",\"showbackground\":true,\"ticks\":\"\",\"zerolinecolor\":\"white\",\"gridwidth\":2},\"zaxis\":{\"backgroundcolor\":\"#E5ECF6\",\"gridcolor\":\"white\",\"linecolor\":\"white\",\"showbackground\":true,\"ticks\":\"\",\"zerolinecolor\":\"white\",\"gridwidth\":2}},\"shapedefaults\":{\"line\":{\"color\":\"#2a3f5f\"}},\"annotationdefaults\":{\"arrowcolor\":\"#2a3f5f\",\"arrowhead\":0,\"arrowwidth\":1},\"geo\":{\"bgcolor\":\"white\",\"landcolor\":\"#E5ECF6\",\"subunitcolor\":\"white\",\"showland\":true,\"showlakes\":true,\"lakecolor\":\"white\"},\"title\":{\"x\":0.05},\"mapbox\":{\"style\":\"light\"}}},\"geo\":{\"domain\":{\"x\":[0.0,1.0],\"y\":[0.0,1.0]},\"center\":{},\"scope\":\"usa\"},\"coloraxis\":{\"colorbar\":{\"title\":{\"text\":\"All sites\"}},\"colorscale\":[[0.0,\"#440154\"],[0.1111111111111111,\"#482878\"],[0.2222222222222222,\"#3e4989\"],[0.3333333333333333,\"#31688e\"],[0.4444444444444444,\"#26828e\"],[0.5555555555555556,\"#1f9e89\"],[0.6666666666666666,\"#35b779\"],[0.7777777777777778,\"#6ece58\"],[0.8888888888888888,\"#b5de2b\"],[1.0,\"#fde725\"]]},\"legend\":{\"tracegroupgap\":0},\"title\":{\"text\":\"Cancer per State from 2016-2020\"}},                        {\"responsive\": true}                    ).then(function(){\n",
       "                            \n",
       "var gd = document.getElementById('31d560d6-aa36-4f4e-89b7-e93debb6e693');\n",
       "var x = new MutationObserver(function (mutations, observer) {{\n",
       "        var display = window.getComputedStyle(gd).display;\n",
       "        if (!display || display === 'none') {{\n",
       "            console.log([gd, 'removed!']);\n",
       "            Plotly.purge(gd);\n",
       "            observer.disconnect();\n",
       "        }}\n",
       "}});\n",
       "\n",
       "// Listen for the removal of the full notebook cells\n",
       "var notebookContainer = gd.closest('#notebook-container');\n",
       "if (notebookContainer) {{\n",
       "    x.observe(notebookContainer, {childList: true});\n",
       "}}\n",
       "\n",
       "// Listen for the clearing of the current output cell\n",
       "var outputEl = gd.closest('.output');\n",
       "if (outputEl) {{\n",
       "    x.observe(outputEl, {childList: true});\n",
       "}}\n",
       "\n",
       "                        })                };                });            </script>        </div>"
      ]
     },
     "metadata": {},
     "output_type": "display_data"
    }
   ],
   "source": [
    "#heatmap for number of cancer per state\n",
    "fig = px.choropleth(states, locations=code,\n",
    "                    locationmode=\"USA-states\", color='All sites',color_continuous_scale=\"Viridis\", scope=\"usa\", title='Cancer per State from 2016-2020')\n",
    "#on click of state goes to heatmap for that state and its county\n",
    "fig.show()\n",
    "fig.write_html('unitedstates/Cancer per State from 2016-2020.html')"
   ]
  },
  {
   "cell_type": "code",
   "execution_count": 14,
   "metadata": {},
   "outputs": [],
   "source": [
    "fig.write_image(\"unitedstates/Cancer per State from 2016-2020.png\")"
   ]
  },
  {
   "cell_type": "code",
   "execution_count": 13,
   "metadata": {},
   "outputs": [],
   "source": [
    "#https://cancerstatisticscenter.cancer.org/#!/state/New%20York"
   ]
  },
  {
   "cell_type": "markdown",
   "metadata": {},
   "source": [
    "# Annual Cancer per County in NY "
   ]
  },
  {
   "cell_type": "code",
   "execution_count": 6,
   "metadata": {},
   "outputs": [],
   "source": [
    "#read in pdf of annual cancer cases per county in nys\n",
    "df=tabula.read_pdf(\"newyork/volume1.pdf\", pages=\"all\")  \n",
    "#pages of pdfs\n",
    "\n"
   ]
  },
  {
   "cell_type": "code",
   "execution_count": 8,
   "metadata": {},
   "outputs": [],
   "source": [
    "# extracts data for given borough\n",
    "def extract(i,name):\n",
    "    nys=df[i].iloc[:, [0, 1]]\n",
    "    nys=nys[3:]\n",
    "    nys.columns = nys.iloc[0]\n",
    "    nys = nys[1:]\n",
    "    nys.rename(columns={nys.columns[1]: name},inplace=True)\n",
    "    site=nys.iloc[:, [0]]\n",
    "    nys=nys[name].str.split(' ', expand=True)\n",
    "    nys['Site of Cancer']=site\n",
    "    del nys[1]\n",
    "    del nys[2]\n",
    "    nys=nys.rename(columns={0:name})\n",
    "    first_column = nys.pop('Site of Cancer')\n",
    "    nys.insert(0, 'Site of Cancer', first_column)\n",
    "    return nys\n",
    "        \n",
    "        \n",
    "            "
   ]
  },
  {
   "cell_type": "code",
   "execution_count": 9,
   "metadata": {},
   "outputs": [],
   "source": [
    "#list of county names\n",
    "county_name=['Bronx','Brooklyn','Manhattan','Queens','Staten Island','Albany','Allegany','Broome','Cattaraugus','Cayuga','Chautauqua','Chemung','Chenago','Clinton','Columbia','Cortland','Delaware','Dutchess','Erie','Essex','Franklin','Fulton','Genesee','Greene','Hamilton','Herkimer','Jefferson','Lewis','Livingston','Madison','Monroe','Montgomery','Nassau','Niagra','Oneida','Onondaga','Ontario','Orange','Orleans','Oswego','Otsego','Putnam','Rensselaer','Rockland','St. Lawrence','Saratoga','Schenectady','Schoharie','Schuyler','Seneca','Steuben','Suffolk','Sullivan','Tioga','Tompkins','Ulster','Warren','Washington','Wayne','Westchester','Wyoming','Yates']\n",
    "#merge dfs together\n",
    "i=3\n",
    "j=0\n",
    "while(i<65):\n",
    "    c_county=extract(i,county_name[j])\n",
    "    if(j>0):\n",
    "        county=pd.merge(county, c_county, on=['Site of Cancer'])\n",
    "    else:\n",
    "        county=c_county\n",
    "    i+=1\n",
    "    j+=1"
   ]
  },
  {
   "cell_type": "code",
   "execution_count": 12,
   "metadata": {},
   "outputs": [],
   "source": [
    "#Tranposes df (changes rows to columns)\n",
    "county_NY=county.T\n",
    "county_NY.columns = county_NY.iloc[0]\n",
    "county_NY = county_NY[1:]\n",
    "\n",
    "#Reset index and rename columns\n",
    "county_NY=county_NY.reset_index()\n",
    "county_NY=county_NY.rename(columns={'index':'County'})"
   ]
  },
  {
   "cell_type": "code",
   "execution_count": 13,
   "metadata": {},
   "outputs": [],
   "source": [
    "#converts data to float\n",
    "county_NY=county_NY.set_index('County')\n",
    "for i in county_NY.columns:\n",
    "    county_NY[i] = county_NY[i].str.replace(',', '')\n",
    "    county_NY[i]=county_NY[i].astype(float)\n",
    "    \n",
    "county_NY=county_NY.reset_index()"
   ]
  },
  {
   "cell_type": "code",
   "execution_count": 30,
   "metadata": {},
   "outputs": [],
   "source": [
    "county_NY.to_excel(\"newyork/New York Cancer Incidences from 2016-2020.xlsx\")"
   ]
  },
  {
   "cell_type": "code",
   "execution_count": 7,
   "metadata": {},
   "outputs": [],
   "source": [
    "#POPULATION DATA\n",
    "\n",
    "#uses beautiful soup package to go through website and extract out table\n",
    "#appends data to list\n",
    "url='https://www.health.ny.gov/statistics/cancer/registry/appendix/countypop.htm'\n",
    "data=[]\n",
    "async with async_playwright() as p:\n",
    "    browser = await p.chromium.launch(headless=False)\n",
    "    page = await browser.new_page()\n",
    "    await page.goto(url)\n",
    "    time.sleep(6)\n",
    "    html = await page.content()\n",
    "    soup = bs(html, 'html.parser')\n",
    "    #print(soup)\n",
    "    for d in soup.find_all('div',{'id':\"content\"}):\n",
    "        table = d.find('table', attrs={'class':'light_table right'})\n",
    "        table_body = table.find('tbody')\n",
    "        rows = table_body.find_all('tr')\n",
    "        for row in rows:\n",
    "            cols = row.find_all('td')\n",
    "            cols = [ele.text.strip() for ele in cols]\n",
    "            data.append([ele for ele in cols if ele]) # Get rid of empty values\n"
   ]
  },
  {
   "cell_type": "code",
   "execution_count": 8,
   "metadata": {},
   "outputs": [],
   "source": [
    "#slice list\n",
    "d1=data[3:]\n",
    "#converts list to dataframe\n",
    "pop= pd.DataFrame (d1, columns = ['Males','Female','Total Population'])\n",
    "county_name=['Bronx','Brooklyn','Manhattan','Queens','Staten Island','Albany','Allegany','Broome','Cattaraugus','Cayuga','Chautauqua','Chemung','Chenago','Clinton','Columbia','Cortland','Delaware','Dutchess','Erie','Essex','Franklin','Fulton','Genesee','Greene','Hamilton','Herkimer','Jefferson','Lewis','Livingston','Madison','Monroe','Montgomery','Nassau','Niagra','Oneida','Onondaga','Ontario','Orange','Orleans','Oswego','Otsego','Putnam','Rensselaer','Rockland','St. Lawrence','Saratoga','Schenectady','Schoharie','Schuyler','Seneca','Steuben','Suffolk','Sullivan','Tioga','Tompkins','Ulster','Warren','Washington','Wayne','Westchester','Wyoming','Yates']\n",
    "#assign list to column in dataframe\n",
    "pop['Counties']=county_name"
   ]
  },
  {
   "cell_type": "code",
   "execution_count": 9,
   "metadata": {},
   "outputs": [],
   "source": [
    "#replace columns chars w another char and convert to type int\n",
    "pop['Males'] = pop['Males'].str.replace(',', '').astype(int)\n",
    "pop['Female'] = pop['Female'].str.replace(',', '').astype(int)\n",
    "pop['Total Population'] = pop['Total Population'].str.replace(',', '').astype(int)\n",
    "#pop['Males']=pop['Males'].astype(float)\n",
    "\n",
    "#sort values in column by descending\n",
    "pop=pop.sort_values('Total Population', ascending=False)\n",
    "#sort values in column by ascending\n",
    "pop=pop.sort_values('Counties')"
   ]
  },
  {
   "cell_type": "markdown",
   "metadata": {},
   "source": [
    "# Choropleth Maps"
   ]
  },
  {
   "cell_type": "markdown",
   "metadata": {},
   "source": [
    "## Cancer per County NY"
   ]
  },
  {
   "cell_type": "code",
   "execution_count": 10,
   "metadata": {},
   "outputs": [],
   "source": [
    "#Fips of NY counties\n",
    "NY_fips=['36001','36003','36005','36047','36007','36009','36011','36013','36015','36017','36019','36021','36023','36025','36027','36029','36031','36033',\n",
    "        '36035','36037','36039','36041','36043','36045','36049','36051','36053','36061','36055','36057','36059','36063','36065','36067',\n",
    "        '36069','36071','36073','36075','36077','36079','36081','36083','36087','36091','36093','36095','36097','36099','36089','36085','36101',\n",
    "        '36103','36105','36107','36109','36111','36113','36115','36117','36119','36121','36123']"
   ]
  },
  {
   "cell_type": "code",
   "execution_count": 11,
   "metadata": {},
   "outputs": [
    {
     "data": {
      "text/plain": [
       "'choropleth_newyork.html'"
      ]
     },
     "execution_count": 11,
     "metadata": {},
     "output_type": "execute_result"
    }
   ],
   "source": [
    "#heatmap for 2016-2020 cancer per county in NY\n",
    "\n",
    "\n",
    "county_NY=county_NY.sort_values('County')\n",
    "#grabs county names\n",
    "county_val=county_NY['County'].tolist()\n",
    "values=county_NY['All Invasive Malignant Tumors'].tolist()\n",
    "endpts = list(np.mgrid[min(values):max(values):6j])\n",
    "fig =ff.create_choropleth(fips=NY_fips,values=values,scope=[\"New York\"],binning_endpoints=endpts, show_state_data=True,county_outline={'color': 'rgb(255,255,255)', 'width': 0.5},round_legend_values=True,title='Count of Cancer per County in New York from 2016-2020')\n",
    "#on click of state goes to heatmap for that state and its county\n",
    "py.offline.plot(fig,\n",
    "                filename='choropleth_newyork',\n",
    "                include_plotlyjs='https://cdn.plot.ly/plotly-1.42.3.min.js')"
   ]
  },
  {
   "cell_type": "markdown",
   "metadata": {},
   "source": [
    "## Population per County NY"
   ]
  },
  {
   "cell_type": "code",
   "execution_count": 12,
   "metadata": {},
   "outputs": [
    {
     "data": {
      "text/plain": [
       "'choropleth_pop_newyork.html'"
      ]
     },
     "execution_count": 12,
     "metadata": {},
     "output_type": "execute_result"
    }
   ],
   "source": [
    "values=pop['Total Population'].tolist()\n",
    "endpts = list(np.mgrid[min(values):max(values):6j])\n",
    "#heatmap for 2016-2020 population per county in NY\n",
    "fig =ff.create_choropleth(fips=NY_fips,values=values,scope=[\"New York\"],binning_endpoints=endpts, show_state_data=True,county_outline={'color': 'rgb(255,255,255)', 'width': 0.5},round_legend_values=True,title='Count of Pop per County in New York from 2016-2020')\n",
    "#on click of state goes to heatmap for that state and its county\n",
    "py.offline.plot(fig,\n",
    "                filename='choropleth_pop_newyork',\n",
    "                include_plotlyjs='https://cdn.plot.ly/plotly-1.42.3.min.js')"
   ]
  },
  {
   "cell_type": "markdown",
   "metadata": {},
   "source": [
    "# Most common cancer for all 62 counties : Lung and Bronchus"
   ]
  },
  {
   "cell_type": "code",
   "execution_count": 14,
   "metadata": {},
   "outputs": [],
   "source": [
    "max_county_ny=county_NY['County']\n",
    "county_NY_cluster=county_NY.copy()\n",
    "del county_NY_cluster['County']\n",
    "del county_NY_cluster['All Invasive Malignant Tumors']"
   ]
  },
  {
   "cell_type": "code",
   "execution_count": 25,
   "metadata": {},
   "outputs": [
    {
     "data": {
      "text/html": [
       "<div>\n",
       "<style scoped>\n",
       "    .dataframe tbody tr th:only-of-type {\n",
       "        vertical-align: middle;\n",
       "    }\n",
       "\n",
       "    .dataframe tbody tr th {\n",
       "        vertical-align: top;\n",
       "    }\n",
       "\n",
       "    .dataframe thead th {\n",
       "        text-align: right;\n",
       "    }\n",
       "</style>\n",
       "<table border=\"1\" class=\"dataframe\">\n",
       "  <thead>\n",
       "    <tr style=\"text-align: right;\">\n",
       "      <th>Site of Cancer</th>\n",
       "      <th>Oral cavity and pharynx</th>\n",
       "      <th>Esophagus</th>\n",
       "      <th>Colorectal</th>\n",
       "      <th>Colon excluding rectum</th>\n",
       "      <th>Rectum &amp; rectosigmoid</th>\n",
       "      <th>Liver / intrahepatic bile duct</th>\n",
       "      <th>Pancreas</th>\n",
       "      <th>Lung and bronchus</th>\n",
       "      <th>Melanoma of the skin</th>\n",
       "      <th>Female breast</th>\n",
       "      <th>...</th>\n",
       "      <th>Ovary</th>\n",
       "      <th>Prostate</th>\n",
       "      <th>Urinary bladder (incl. in situ)</th>\n",
       "      <th>Kidney and renal pelvis</th>\n",
       "      <th>Brain and other central nervous system</th>\n",
       "      <th>Thyroid</th>\n",
       "      <th>Hodgkin lymphoma</th>\n",
       "      <th>Non-Hodgkin lymphomas</th>\n",
       "      <th>Myeloma</th>\n",
       "      <th>Leukemias</th>\n",
       "    </tr>\n",
       "  </thead>\n",
       "  <tbody>\n",
       "    <tr>\n",
       "      <th>0</th>\n",
       "      <td>150.4</td>\n",
       "      <td>48.0</td>\n",
       "      <td>521.2</td>\n",
       "      <td>365.4</td>\n",
       "      <td>155.8</td>\n",
       "      <td>218.2</td>\n",
       "      <td>200.8</td>\n",
       "      <td>644.4</td>\n",
       "      <td>58.4</td>\n",
       "      <td>NaN</td>\n",
       "      <td>...</td>\n",
       "      <td>NaN</td>\n",
       "      <td>NaN</td>\n",
       "      <td>193.4</td>\n",
       "      <td>226.8</td>\n",
       "      <td>75.4</td>\n",
       "      <td>203.8</td>\n",
       "      <td>41.2</td>\n",
       "      <td>277.2</td>\n",
       "      <td>171.4</td>\n",
       "      <td>178.0</td>\n",
       "    </tr>\n",
       "    <tr>\n",
       "      <th>1</th>\n",
       "      <td>254.8</td>\n",
       "      <td>83.8</td>\n",
       "      <td>1047.2</td>\n",
       "      <td>740.8</td>\n",
       "      <td>306.4</td>\n",
       "      <td>276.4</td>\n",
       "      <td>384.6</td>\n",
       "      <td>1209.0</td>\n",
       "      <td>230.2</td>\n",
       "      <td>NaN</td>\n",
       "      <td>...</td>\n",
       "      <td>NaN</td>\n",
       "      <td>NaN</td>\n",
       "      <td>427.8</td>\n",
       "      <td>404.0</td>\n",
       "      <td>164.4</td>\n",
       "      <td>543.0</td>\n",
       "      <td>82.0</td>\n",
       "      <td>511.4</td>\n",
       "      <td>248.6</td>\n",
       "      <td>351.2</td>\n",
       "    </tr>\n",
       "    <tr>\n",
       "      <th>2</th>\n",
       "      <td>217.0</td>\n",
       "      <td>63.8</td>\n",
       "      <td>614.6</td>\n",
       "      <td>421.4</td>\n",
       "      <td>193.2</td>\n",
       "      <td>197.0</td>\n",
       "      <td>263.2</td>\n",
       "      <td>882.4</td>\n",
       "      <td>340.2</td>\n",
       "      <td>NaN</td>\n",
       "      <td>...</td>\n",
       "      <td>NaN</td>\n",
       "      <td>NaN</td>\n",
       "      <td>345.0</td>\n",
       "      <td>238.0</td>\n",
       "      <td>117.2</td>\n",
       "      <td>326.4</td>\n",
       "      <td>51.0</td>\n",
       "      <td>424.8</td>\n",
       "      <td>155.2</td>\n",
       "      <td>274.4</td>\n",
       "    </tr>\n",
       "    <tr>\n",
       "      <th>3</th>\n",
       "      <td>249.0</td>\n",
       "      <td>92.0</td>\n",
       "      <td>1000.2</td>\n",
       "      <td>705.2</td>\n",
       "      <td>295.0</td>\n",
       "      <td>275.4</td>\n",
       "      <td>369.2</td>\n",
       "      <td>1190.4</td>\n",
       "      <td>198.4</td>\n",
       "      <td>NaN</td>\n",
       "      <td>...</td>\n",
       "      <td>NaN</td>\n",
       "      <td>NaN</td>\n",
       "      <td>431.6</td>\n",
       "      <td>393.8</td>\n",
       "      <td>132.2</td>\n",
       "      <td>492.4</td>\n",
       "      <td>60.8</td>\n",
       "      <td>492.6</td>\n",
       "      <td>216.0</td>\n",
       "      <td>341.4</td>\n",
       "    </tr>\n",
       "    <tr>\n",
       "      <th>4</th>\n",
       "      <td>60.4</td>\n",
       "      <td>28.4</td>\n",
       "      <td>240.6</td>\n",
       "      <td>177.4</td>\n",
       "      <td>63.2</td>\n",
       "      <td>65.2</td>\n",
       "      <td>94.2</td>\n",
       "      <td>384.8</td>\n",
       "      <td>84.2</td>\n",
       "      <td>NaN</td>\n",
       "      <td>...</td>\n",
       "      <td>NaN</td>\n",
       "      <td>NaN</td>\n",
       "      <td>144.4</td>\n",
       "      <td>126.0</td>\n",
       "      <td>36.4</td>\n",
       "      <td>164.4</td>\n",
       "      <td>16.0</td>\n",
       "      <td>138.4</td>\n",
       "      <td>55.0</td>\n",
       "      <td>98.2</td>\n",
       "    </tr>\n",
       "    <tr>\n",
       "      <th>...</th>\n",
       "      <td>...</td>\n",
       "      <td>...</td>\n",
       "      <td>...</td>\n",
       "      <td>...</td>\n",
       "      <td>...</td>\n",
       "      <td>...</td>\n",
       "      <td>...</td>\n",
       "      <td>...</td>\n",
       "      <td>...</td>\n",
       "      <td>...</td>\n",
       "      <td>...</td>\n",
       "      <td>...</td>\n",
       "      <td>...</td>\n",
       "      <td>...</td>\n",
       "      <td>...</td>\n",
       "      <td>...</td>\n",
       "      <td>...</td>\n",
       "      <td>...</td>\n",
       "      <td>...</td>\n",
       "      <td>...</td>\n",
       "      <td>...</td>\n",
       "    </tr>\n",
       "    <tr>\n",
       "      <th>57</th>\n",
       "      <td>12.8</td>\n",
       "      <td>6.4</td>\n",
       "      <td>32.2</td>\n",
       "      <td>21.6</td>\n",
       "      <td>10.6</td>\n",
       "      <td>8.6</td>\n",
       "      <td>14.4</td>\n",
       "      <td>69.4</td>\n",
       "      <td>17.8</td>\n",
       "      <td>NaN</td>\n",
       "      <td>...</td>\n",
       "      <td>NaN</td>\n",
       "      <td>NaN</td>\n",
       "      <td>22.0</td>\n",
       "      <td>15.4</td>\n",
       "      <td>6.6</td>\n",
       "      <td>12.4</td>\n",
       "      <td>0.6</td>\n",
       "      <td>18.2</td>\n",
       "      <td>9.8</td>\n",
       "      <td>13.4</td>\n",
       "    </tr>\n",
       "    <tr>\n",
       "      <th>58</th>\n",
       "      <td>16.4</td>\n",
       "      <td>6.6</td>\n",
       "      <td>52.0</td>\n",
       "      <td>35.0</td>\n",
       "      <td>17.0</td>\n",
       "      <td>9.2</td>\n",
       "      <td>17.6</td>\n",
       "      <td>96.0</td>\n",
       "      <td>34.0</td>\n",
       "      <td>NaN</td>\n",
       "      <td>...</td>\n",
       "      <td>NaN</td>\n",
       "      <td>NaN</td>\n",
       "      <td>32.0</td>\n",
       "      <td>28.4</td>\n",
       "      <td>7.2</td>\n",
       "      <td>11.2</td>\n",
       "      <td>2.2</td>\n",
       "      <td>30.0</td>\n",
       "      <td>9.0</td>\n",
       "      <td>21.2</td>\n",
       "    </tr>\n",
       "    <tr>\n",
       "      <th>59</th>\n",
       "      <td>117.8</td>\n",
       "      <td>43.6</td>\n",
       "      <td>409.4</td>\n",
       "      <td>291.2</td>\n",
       "      <td>118.2</td>\n",
       "      <td>100.0</td>\n",
       "      <td>193.2</td>\n",
       "      <td>583.8</td>\n",
       "      <td>222.2</td>\n",
       "      <td>NaN</td>\n",
       "      <td>...</td>\n",
       "      <td>NaN</td>\n",
       "      <td>NaN</td>\n",
       "      <td>270.4</td>\n",
       "      <td>188.8</td>\n",
       "      <td>71.8</td>\n",
       "      <td>198.8</td>\n",
       "      <td>31.8</td>\n",
       "      <td>277.8</td>\n",
       "      <td>111.2</td>\n",
       "      <td>225.2</td>\n",
       "    </tr>\n",
       "    <tr>\n",
       "      <th>60</th>\n",
       "      <td>6.6</td>\n",
       "      <td>3.2</td>\n",
       "      <td>21.6</td>\n",
       "      <td>12.8</td>\n",
       "      <td>8.8</td>\n",
       "      <td>4.2</td>\n",
       "      <td>9.6</td>\n",
       "      <td>35.8</td>\n",
       "      <td>16.6</td>\n",
       "      <td>NaN</td>\n",
       "      <td>...</td>\n",
       "      <td>NaN</td>\n",
       "      <td>NaN</td>\n",
       "      <td>14.4</td>\n",
       "      <td>7.8</td>\n",
       "      <td>2.4</td>\n",
       "      <td>6.2</td>\n",
       "      <td>1.2</td>\n",
       "      <td>13.2</td>\n",
       "      <td>3.6</td>\n",
       "      <td>10.8</td>\n",
       "    </tr>\n",
       "    <tr>\n",
       "      <th>61</th>\n",
       "      <td>5.8</td>\n",
       "      <td>3.0</td>\n",
       "      <td>9.2</td>\n",
       "      <td>5.6</td>\n",
       "      <td>3.6</td>\n",
       "      <td>1.8</td>\n",
       "      <td>6.0</td>\n",
       "      <td>25.0</td>\n",
       "      <td>9.8</td>\n",
       "      <td>NaN</td>\n",
       "      <td>...</td>\n",
       "      <td>NaN</td>\n",
       "      <td>NaN</td>\n",
       "      <td>12.2</td>\n",
       "      <td>5.6</td>\n",
       "      <td>2.2</td>\n",
       "      <td>3.2</td>\n",
       "      <td>0.8</td>\n",
       "      <td>6.6</td>\n",
       "      <td>3.0</td>\n",
       "      <td>6.0</td>\n",
       "    </tr>\n",
       "  </tbody>\n",
       "</table>\n",
       "<p>62 rows × 22 columns</p>\n",
       "</div>"
      ],
      "text/plain": [
       "Site of Cancer  Oral cavity and pharynx  Esophagus  Colorectal  \\\n",
       "0                                 150.4       48.0       521.2   \n",
       "1                                 254.8       83.8      1047.2   \n",
       "2                                 217.0       63.8       614.6   \n",
       "3                                 249.0       92.0      1000.2   \n",
       "4                                  60.4       28.4       240.6   \n",
       "..                                  ...        ...         ...   \n",
       "57                                 12.8        6.4        32.2   \n",
       "58                                 16.4        6.6        52.0   \n",
       "59                                117.8       43.6       409.4   \n",
       "60                                  6.6        3.2        21.6   \n",
       "61                                  5.8        3.0         9.2   \n",
       "\n",
       "Site of Cancer  Colon excluding rectum  Rectum & rectosigmoid  \\\n",
       "0                                365.4                  155.8   \n",
       "1                                740.8                  306.4   \n",
       "2                                421.4                  193.2   \n",
       "3                                705.2                  295.0   \n",
       "4                                177.4                   63.2   \n",
       "..                                 ...                    ...   \n",
       "57                                21.6                   10.6   \n",
       "58                                35.0                   17.0   \n",
       "59                               291.2                  118.2   \n",
       "60                                12.8                    8.8   \n",
       "61                                 5.6                    3.6   \n",
       "\n",
       "Site of Cancer  Liver / intrahepatic bile duct  Pancreas  Lung and bronchus  \\\n",
       "0                                        218.2     200.8              644.4   \n",
       "1                                        276.4     384.6             1209.0   \n",
       "2                                        197.0     263.2              882.4   \n",
       "3                                        275.4     369.2             1190.4   \n",
       "4                                         65.2      94.2              384.8   \n",
       "..                                         ...       ...                ...   \n",
       "57                                         8.6      14.4               69.4   \n",
       "58                                         9.2      17.6               96.0   \n",
       "59                                       100.0     193.2              583.8   \n",
       "60                                         4.2       9.6               35.8   \n",
       "61                                         1.8       6.0               25.0   \n",
       "\n",
       "Site of Cancer  Melanoma of the skin  Female breast  ...  Ovary  Prostate  \\\n",
       "0                               58.4            NaN  ...    NaN       NaN   \n",
       "1                              230.2            NaN  ...    NaN       NaN   \n",
       "2                              340.2            NaN  ...    NaN       NaN   \n",
       "3                              198.4            NaN  ...    NaN       NaN   \n",
       "4                               84.2            NaN  ...    NaN       NaN   \n",
       "..                               ...            ...  ...    ...       ...   \n",
       "57                              17.8            NaN  ...    NaN       NaN   \n",
       "58                              34.0            NaN  ...    NaN       NaN   \n",
       "59                             222.2            NaN  ...    NaN       NaN   \n",
       "60                              16.6            NaN  ...    NaN       NaN   \n",
       "61                               9.8            NaN  ...    NaN       NaN   \n",
       "\n",
       "Site of Cancer  Urinary bladder (incl. in situ)  Kidney and renal pelvis  \\\n",
       "0                                         193.4                    226.8   \n",
       "1                                         427.8                    404.0   \n",
       "2                                         345.0                    238.0   \n",
       "3                                         431.6                    393.8   \n",
       "4                                         144.4                    126.0   \n",
       "..                                          ...                      ...   \n",
       "57                                         22.0                     15.4   \n",
       "58                                         32.0                     28.4   \n",
       "59                                        270.4                    188.8   \n",
       "60                                         14.4                      7.8   \n",
       "61                                         12.2                      5.6   \n",
       "\n",
       "Site of Cancer  Brain and other central nervous system  Thyroid  \\\n",
       "0                                                 75.4    203.8   \n",
       "1                                                164.4    543.0   \n",
       "2                                                117.2    326.4   \n",
       "3                                                132.2    492.4   \n",
       "4                                                 36.4    164.4   \n",
       "..                                                 ...      ...   \n",
       "57                                                 6.6     12.4   \n",
       "58                                                 7.2     11.2   \n",
       "59                                                71.8    198.8   \n",
       "60                                                 2.4      6.2   \n",
       "61                                                 2.2      3.2   \n",
       "\n",
       "Site of Cancer  Hodgkin lymphoma  Non-Hodgkin lymphomas  Myeloma  Leukemias  \n",
       "0                           41.2                  277.2    171.4      178.0  \n",
       "1                           82.0                  511.4    248.6      351.2  \n",
       "2                           51.0                  424.8    155.2      274.4  \n",
       "3                           60.8                  492.6    216.0      341.4  \n",
       "4                           16.0                  138.4     55.0       98.2  \n",
       "..                           ...                    ...      ...        ...  \n",
       "57                           0.6                   18.2      9.8       13.4  \n",
       "58                           2.2                   30.0      9.0       21.2  \n",
       "59                          31.8                  277.8    111.2      225.2  \n",
       "60                           1.2                   13.2      3.6       10.8  \n",
       "61                           0.8                    6.6      3.0        6.0  \n",
       "\n",
       "[62 rows x 22 columns]"
      ]
     },
     "execution_count": 25,
     "metadata": {},
     "output_type": "execute_result"
    }
   ],
   "source": [
    "county_NY_cluster"
   ]
  },
  {
   "cell_type": "code",
   "execution_count": 15,
   "metadata": {},
   "outputs": [],
   "source": [
    "#grabs the most prevalent cancer in all the counties\n",
    "max_county_ny['Area Site']=county_NY_cluster.idxmax(axis=1)\n",
    "max_ny_num=max_county_ny.groupby(max_county_ny['Area Site']).count()"
   ]
  },
  {
   "cell_type": "code",
   "execution_count": 26,
   "metadata": {},
   "outputs": [
    {
     "data": {
      "text/plain": [
       "0                                                        Bronx\n",
       "1                                                     Brooklyn\n",
       "2                                                    Manhattan\n",
       "3                                                       Queens\n",
       "4                                                Staten Island\n",
       "                                   ...                        \n",
       "58                                                       Wayne\n",
       "59                                                 Westchester\n",
       "60                                                     Wyoming\n",
       "61                                                       Yates\n",
       "Area Site    0     Lung and bronchus\n",
       "1     Lung and bronchu...\n",
       "Name: County, Length: 63, dtype: object"
      ]
     },
     "execution_count": 26,
     "metadata": {},
     "output_type": "execute_result"
    }
   ],
   "source": [
    "max_county_ny"
   ]
  },
  {
   "cell_type": "code",
   "execution_count": 40,
   "metadata": {},
   "outputs": [],
   "source": [
    "maxx=county_NY['County'].to_list()\n",
    "maxx2=county_NY_cluster.idxmax(axis=1).tolist()"
   ]
  },
  {
   "cell_type": "code",
   "execution_count": 41,
   "metadata": {},
   "outputs": [],
   "source": [
    "max_case=pd.DataFrame()\n",
    "max_case['County']=maxx\n",
    "max_case['Cancer Site']=maxx2"
   ]
  },
  {
   "cell_type": "code",
   "execution_count": 42,
   "metadata": {},
   "outputs": [],
   "source": [
    "max_case.to_excel('Max check.xlsx')"
   ]
  },
  {
   "cell_type": "code",
   "execution_count": 31,
   "metadata": {},
   "outputs": [
    {
     "data": {
      "text/plain": [
       "Lung and bronchus    62\n",
       "Name: County, dtype: int64"
      ]
     },
     "execution_count": 31,
     "metadata": {},
     "output_type": "execute_result"
    }
   ],
   "source": [
    "max_ny_num"
   ]
  },
  {
   "cell_type": "markdown",
   "metadata": {},
   "source": [
    "# County with the most type of each cancer"
   ]
  },
  {
   "cell_type": "code",
   "execution_count": 27,
   "metadata": {},
   "outputs": [],
   "source": [
    "#makes each column float values\n",
    "\n",
    "county=county.set_index('Site of Cancer')\n",
    "\n",
    "for i in county.columns:\n",
    "    county[i] = county[i].str.replace(',', '')\n",
    "    county[i]=county[i].astype(float)\n",
    "\n",
    "county=county.reset_index()"
   ]
  },
  {
   "cell_type": "code",
   "execution_count": 28,
   "metadata": {},
   "outputs": [],
   "source": [
    "#drops indexes\n",
    "county=county.drop([10,11,12,13,14])\n",
    "county=county.set_index('Site of Cancer')"
   ]
  },
  {
   "cell_type": "code",
   "execution_count": 29,
   "metadata": {},
   "outputs": [],
   "source": [
    "#grabs top county that has the most accounts of a certain type of cancer\n",
    "\n",
    "def top(c):\n",
    "    # Define the number of top values to return\n",
    "    n = 1\n",
    "    i=[]\n",
    "    t=[]\n",
    "    # Iterate over each row of the DataFrame\n",
    "    for index, row in c.iterrows():\n",
    "        # Get the top-n highest values in the row\n",
    "        top_n = row.nlargest(n)\n",
    "        i.append(index)\n",
    "        t.append(list(top_n.index))\n",
    "\n",
    "\n",
    "        # Print the names of the top-n highest-value columns\n",
    "        #print(f'Top column in row {index}: {list(top_n.index)}')\n",
    "        #print()\n",
    "    return i,t\n",
    "\n",
    "    "
   ]
  },
  {
   "cell_type": "code",
   "execution_count": 30,
   "metadata": {},
   "outputs": [
    {
     "data": {
      "text/html": [
       "<div>\n",
       "<style scoped>\n",
       "    .dataframe tbody tr th:only-of-type {\n",
       "        vertical-align: middle;\n",
       "    }\n",
       "\n",
       "    .dataframe tbody tr th {\n",
       "        vertical-align: top;\n",
       "    }\n",
       "\n",
       "    .dataframe thead th {\n",
       "        text-align: right;\n",
       "    }\n",
       "</style>\n",
       "<table border=\"1\" class=\"dataframe\">\n",
       "  <thead>\n",
       "    <tr style=\"text-align: right;\">\n",
       "      <th></th>\n",
       "      <th>Bronx</th>\n",
       "      <th>Brooklyn</th>\n",
       "      <th>Manhattan</th>\n",
       "      <th>Queens</th>\n",
       "      <th>Staten Island</th>\n",
       "      <th>Albany</th>\n",
       "      <th>Allegany</th>\n",
       "      <th>Broome</th>\n",
       "      <th>Cattaraugus</th>\n",
       "      <th>Cayuga</th>\n",
       "      <th>...</th>\n",
       "      <th>Sullivan</th>\n",
       "      <th>Tioga</th>\n",
       "      <th>Tompkins</th>\n",
       "      <th>Ulster</th>\n",
       "      <th>Warren</th>\n",
       "      <th>Washington</th>\n",
       "      <th>Wayne</th>\n",
       "      <th>Westchester</th>\n",
       "      <th>Wyoming</th>\n",
       "      <th>Yates</th>\n",
       "    </tr>\n",
       "    <tr>\n",
       "      <th>Site of Cancer</th>\n",
       "      <th></th>\n",
       "      <th></th>\n",
       "      <th></th>\n",
       "      <th></th>\n",
       "      <th></th>\n",
       "      <th></th>\n",
       "      <th></th>\n",
       "      <th></th>\n",
       "      <th></th>\n",
       "      <th></th>\n",
       "      <th></th>\n",
       "      <th></th>\n",
       "      <th></th>\n",
       "      <th></th>\n",
       "      <th></th>\n",
       "      <th></th>\n",
       "      <th></th>\n",
       "      <th></th>\n",
       "      <th></th>\n",
       "      <th></th>\n",
       "      <th></th>\n",
       "    </tr>\n",
       "  </thead>\n",
       "  <tbody>\n",
       "    <tr>\n",
       "      <th>All Invasive Malignant Tumors</th>\n",
       "      <td>6325.0</td>\n",
       "      <td>12018.8</td>\n",
       "      <td>8601.8</td>\n",
       "      <td>11454.4</td>\n",
       "      <td>3041.6</td>\n",
       "      <td>1986.4</td>\n",
       "      <td>299.0</td>\n",
       "      <td>1311.8</td>\n",
       "      <td>527.4</td>\n",
       "      <td>554.6</td>\n",
       "      <td>...</td>\n",
       "      <td>464.8</td>\n",
       "      <td>347.2</td>\n",
       "      <td>494.8</td>\n",
       "      <td>1168.8</td>\n",
       "      <td>515.2</td>\n",
       "      <td>443.2</td>\n",
       "      <td>649.8</td>\n",
       "      <td>5767.4</td>\n",
       "      <td>285.6</td>\n",
       "      <td>180.0</td>\n",
       "    </tr>\n",
       "    <tr>\n",
       "      <th>Oral cavity and pharynx</th>\n",
       "      <td>150.4</td>\n",
       "      <td>254.8</td>\n",
       "      <td>217.0</td>\n",
       "      <td>249.0</td>\n",
       "      <td>60.4</td>\n",
       "      <td>57.6</td>\n",
       "      <td>8.0</td>\n",
       "      <td>35.4</td>\n",
       "      <td>16.8</td>\n",
       "      <td>11.4</td>\n",
       "      <td>...</td>\n",
       "      <td>15.0</td>\n",
       "      <td>8.6</td>\n",
       "      <td>12.2</td>\n",
       "      <td>39.6</td>\n",
       "      <td>14.8</td>\n",
       "      <td>12.8</td>\n",
       "      <td>16.4</td>\n",
       "      <td>117.8</td>\n",
       "      <td>6.6</td>\n",
       "      <td>5.8</td>\n",
       "    </tr>\n",
       "    <tr>\n",
       "      <th>Esophagus</th>\n",
       "      <td>48.0</td>\n",
       "      <td>83.8</td>\n",
       "      <td>63.8</td>\n",
       "      <td>92.0</td>\n",
       "      <td>28.4</td>\n",
       "      <td>22.6</td>\n",
       "      <td>3.0</td>\n",
       "      <td>15.6</td>\n",
       "      <td>6.2</td>\n",
       "      <td>7.8</td>\n",
       "      <td>...</td>\n",
       "      <td>5.2</td>\n",
       "      <td>4.4</td>\n",
       "      <td>7.6</td>\n",
       "      <td>17.2</td>\n",
       "      <td>8.4</td>\n",
       "      <td>6.4</td>\n",
       "      <td>6.6</td>\n",
       "      <td>43.6</td>\n",
       "      <td>3.2</td>\n",
       "      <td>3.0</td>\n",
       "    </tr>\n",
       "    <tr>\n",
       "      <th>Colorectal</th>\n",
       "      <td>521.2</td>\n",
       "      <td>1047.2</td>\n",
       "      <td>614.6</td>\n",
       "      <td>1000.2</td>\n",
       "      <td>240.6</td>\n",
       "      <td>140.0</td>\n",
       "      <td>26.0</td>\n",
       "      <td>92.6</td>\n",
       "      <td>38.8</td>\n",
       "      <td>37.4</td>\n",
       "      <td>...</td>\n",
       "      <td>40.2</td>\n",
       "      <td>29.6</td>\n",
       "      <td>26.6</td>\n",
       "      <td>98.0</td>\n",
       "      <td>32.4</td>\n",
       "      <td>32.2</td>\n",
       "      <td>52.0</td>\n",
       "      <td>409.4</td>\n",
       "      <td>21.6</td>\n",
       "      <td>9.2</td>\n",
       "    </tr>\n",
       "    <tr>\n",
       "      <th>Colon excluding rectum</th>\n",
       "      <td>365.4</td>\n",
       "      <td>740.8</td>\n",
       "      <td>421.4</td>\n",
       "      <td>705.2</td>\n",
       "      <td>177.4</td>\n",
       "      <td>102.2</td>\n",
       "      <td>18.6</td>\n",
       "      <td>63.6</td>\n",
       "      <td>26.6</td>\n",
       "      <td>25.8</td>\n",
       "      <td>...</td>\n",
       "      <td>27.4</td>\n",
       "      <td>20.2</td>\n",
       "      <td>19.4</td>\n",
       "      <td>66.0</td>\n",
       "      <td>23.8</td>\n",
       "      <td>21.6</td>\n",
       "      <td>35.0</td>\n",
       "      <td>291.2</td>\n",
       "      <td>12.8</td>\n",
       "      <td>5.6</td>\n",
       "    </tr>\n",
       "    <tr>\n",
       "      <th>Rectum &amp; rectosigmoid</th>\n",
       "      <td>155.8</td>\n",
       "      <td>306.4</td>\n",
       "      <td>193.2</td>\n",
       "      <td>295.0</td>\n",
       "      <td>63.2</td>\n",
       "      <td>37.8</td>\n",
       "      <td>7.4</td>\n",
       "      <td>29.0</td>\n",
       "      <td>12.2</td>\n",
       "      <td>11.6</td>\n",
       "      <td>...</td>\n",
       "      <td>12.8</td>\n",
       "      <td>9.4</td>\n",
       "      <td>7.2</td>\n",
       "      <td>32.0</td>\n",
       "      <td>8.6</td>\n",
       "      <td>10.6</td>\n",
       "      <td>17.0</td>\n",
       "      <td>118.2</td>\n",
       "      <td>8.8</td>\n",
       "      <td>3.6</td>\n",
       "    </tr>\n",
       "    <tr>\n",
       "      <th>Liver / intrahepatic bile duct</th>\n",
       "      <td>218.2</td>\n",
       "      <td>276.4</td>\n",
       "      <td>197.0</td>\n",
       "      <td>275.4</td>\n",
       "      <td>65.2</td>\n",
       "      <td>37.8</td>\n",
       "      <td>3.6</td>\n",
       "      <td>24.0</td>\n",
       "      <td>6.2</td>\n",
       "      <td>5.8</td>\n",
       "      <td>...</td>\n",
       "      <td>10.0</td>\n",
       "      <td>5.4</td>\n",
       "      <td>7.2</td>\n",
       "      <td>26.6</td>\n",
       "      <td>8.0</td>\n",
       "      <td>8.6</td>\n",
       "      <td>9.2</td>\n",
       "      <td>100.0</td>\n",
       "      <td>4.2</td>\n",
       "      <td>1.8</td>\n",
       "    </tr>\n",
       "    <tr>\n",
       "      <th>Pancreas</th>\n",
       "      <td>200.8</td>\n",
       "      <td>384.6</td>\n",
       "      <td>263.2</td>\n",
       "      <td>369.2</td>\n",
       "      <td>94.2</td>\n",
       "      <td>64.0</td>\n",
       "      <td>9.0</td>\n",
       "      <td>45.8</td>\n",
       "      <td>14.2</td>\n",
       "      <td>13.4</td>\n",
       "      <td>...</td>\n",
       "      <td>17.4</td>\n",
       "      <td>7.0</td>\n",
       "      <td>15.6</td>\n",
       "      <td>34.6</td>\n",
       "      <td>12.6</td>\n",
       "      <td>14.4</td>\n",
       "      <td>17.6</td>\n",
       "      <td>193.2</td>\n",
       "      <td>9.6</td>\n",
       "      <td>6.0</td>\n",
       "    </tr>\n",
       "    <tr>\n",
       "      <th>Lung and bronchus</th>\n",
       "      <td>644.4</td>\n",
       "      <td>1209.0</td>\n",
       "      <td>882.4</td>\n",
       "      <td>1190.4</td>\n",
       "      <td>384.8</td>\n",
       "      <td>277.6</td>\n",
       "      <td>45.6</td>\n",
       "      <td>170.2</td>\n",
       "      <td>78.2</td>\n",
       "      <td>91.2</td>\n",
       "      <td>...</td>\n",
       "      <td>71.0</td>\n",
       "      <td>44.2</td>\n",
       "      <td>59.2</td>\n",
       "      <td>166.8</td>\n",
       "      <td>76.4</td>\n",
       "      <td>69.4</td>\n",
       "      <td>96.0</td>\n",
       "      <td>583.8</td>\n",
       "      <td>35.8</td>\n",
       "      <td>25.0</td>\n",
       "    </tr>\n",
       "    <tr>\n",
       "      <th>Melanoma of the skin</th>\n",
       "      <td>58.4</td>\n",
       "      <td>230.2</td>\n",
       "      <td>340.2</td>\n",
       "      <td>198.4</td>\n",
       "      <td>84.2</td>\n",
       "      <td>87.0</td>\n",
       "      <td>16.6</td>\n",
       "      <td>63.2</td>\n",
       "      <td>28.8</td>\n",
       "      <td>23.4</td>\n",
       "      <td>...</td>\n",
       "      <td>16.6</td>\n",
       "      <td>19.2</td>\n",
       "      <td>26.4</td>\n",
       "      <td>42.4</td>\n",
       "      <td>28.0</td>\n",
       "      <td>17.8</td>\n",
       "      <td>34.0</td>\n",
       "      <td>222.2</td>\n",
       "      <td>16.6</td>\n",
       "      <td>9.8</td>\n",
       "    </tr>\n",
       "    <tr>\n",
       "      <th>Urinary bladder (incl. in situ)</th>\n",
       "      <td>193.4</td>\n",
       "      <td>427.8</td>\n",
       "      <td>345.0</td>\n",
       "      <td>431.6</td>\n",
       "      <td>144.4</td>\n",
       "      <td>99.8</td>\n",
       "      <td>15.8</td>\n",
       "      <td>64.4</td>\n",
       "      <td>28.8</td>\n",
       "      <td>31.2</td>\n",
       "      <td>...</td>\n",
       "      <td>25.4</td>\n",
       "      <td>21.4</td>\n",
       "      <td>24.2</td>\n",
       "      <td>62.8</td>\n",
       "      <td>26.8</td>\n",
       "      <td>22.0</td>\n",
       "      <td>32.0</td>\n",
       "      <td>270.4</td>\n",
       "      <td>14.4</td>\n",
       "      <td>12.2</td>\n",
       "    </tr>\n",
       "    <tr>\n",
       "      <th>Kidney and renal pelvis</th>\n",
       "      <td>226.8</td>\n",
       "      <td>404.0</td>\n",
       "      <td>238.0</td>\n",
       "      <td>393.8</td>\n",
       "      <td>126.0</td>\n",
       "      <td>76.0</td>\n",
       "      <td>10.4</td>\n",
       "      <td>49.4</td>\n",
       "      <td>21.0</td>\n",
       "      <td>20.4</td>\n",
       "      <td>...</td>\n",
       "      <td>15.4</td>\n",
       "      <td>12.0</td>\n",
       "      <td>14.2</td>\n",
       "      <td>38.2</td>\n",
       "      <td>16.2</td>\n",
       "      <td>15.4</td>\n",
       "      <td>28.4</td>\n",
       "      <td>188.8</td>\n",
       "      <td>7.8</td>\n",
       "      <td>5.6</td>\n",
       "    </tr>\n",
       "    <tr>\n",
       "      <th>Brain and other central nervous system</th>\n",
       "      <td>75.4</td>\n",
       "      <td>164.4</td>\n",
       "      <td>117.2</td>\n",
       "      <td>132.2</td>\n",
       "      <td>36.4</td>\n",
       "      <td>21.8</td>\n",
       "      <td>3.0</td>\n",
       "      <td>17.6</td>\n",
       "      <td>7.6</td>\n",
       "      <td>6.6</td>\n",
       "      <td>...</td>\n",
       "      <td>5.2</td>\n",
       "      <td>3.6</td>\n",
       "      <td>5.0</td>\n",
       "      <td>15.0</td>\n",
       "      <td>6.6</td>\n",
       "      <td>6.6</td>\n",
       "      <td>7.2</td>\n",
       "      <td>71.8</td>\n",
       "      <td>2.4</td>\n",
       "      <td>2.2</td>\n",
       "    </tr>\n",
       "    <tr>\n",
       "      <th>Thyroid</th>\n",
       "      <td>203.8</td>\n",
       "      <td>543.0</td>\n",
       "      <td>326.4</td>\n",
       "      <td>492.4</td>\n",
       "      <td>164.4</td>\n",
       "      <td>53.0</td>\n",
       "      <td>4.4</td>\n",
       "      <td>33.4</td>\n",
       "      <td>11.2</td>\n",
       "      <td>12.2</td>\n",
       "      <td>...</td>\n",
       "      <td>12.0</td>\n",
       "      <td>10.4</td>\n",
       "      <td>11.0</td>\n",
       "      <td>30.4</td>\n",
       "      <td>14.2</td>\n",
       "      <td>12.4</td>\n",
       "      <td>11.2</td>\n",
       "      <td>198.8</td>\n",
       "      <td>6.2</td>\n",
       "      <td>3.2</td>\n",
       "    </tr>\n",
       "    <tr>\n",
       "      <th>Hodgkin lymphoma</th>\n",
       "      <td>41.2</td>\n",
       "      <td>82.0</td>\n",
       "      <td>51.0</td>\n",
       "      <td>60.8</td>\n",
       "      <td>16.0</td>\n",
       "      <td>8.6</td>\n",
       "      <td>2.0</td>\n",
       "      <td>6.4</td>\n",
       "      <td>2.0</td>\n",
       "      <td>2.2</td>\n",
       "      <td>...</td>\n",
       "      <td>2.4</td>\n",
       "      <td>0.2</td>\n",
       "      <td>2.6</td>\n",
       "      <td>6.6</td>\n",
       "      <td>1.6</td>\n",
       "      <td>0.6</td>\n",
       "      <td>2.2</td>\n",
       "      <td>31.8</td>\n",
       "      <td>1.2</td>\n",
       "      <td>0.8</td>\n",
       "    </tr>\n",
       "    <tr>\n",
       "      <th>Non-Hodgkin lymphomas</th>\n",
       "      <td>277.2</td>\n",
       "      <td>511.4</td>\n",
       "      <td>424.8</td>\n",
       "      <td>492.6</td>\n",
       "      <td>138.4</td>\n",
       "      <td>85.2</td>\n",
       "      <td>10.6</td>\n",
       "      <td>50.4</td>\n",
       "      <td>22.2</td>\n",
       "      <td>20.4</td>\n",
       "      <td>...</td>\n",
       "      <td>17.8</td>\n",
       "      <td>11.8</td>\n",
       "      <td>21.8</td>\n",
       "      <td>52.4</td>\n",
       "      <td>22.2</td>\n",
       "      <td>18.2</td>\n",
       "      <td>30.0</td>\n",
       "      <td>277.8</td>\n",
       "      <td>13.2</td>\n",
       "      <td>6.6</td>\n",
       "    </tr>\n",
       "    <tr>\n",
       "      <th>Myeloma</th>\n",
       "      <td>171.4</td>\n",
       "      <td>248.6</td>\n",
       "      <td>155.2</td>\n",
       "      <td>216.0</td>\n",
       "      <td>55.0</td>\n",
       "      <td>33.0</td>\n",
       "      <td>2.0</td>\n",
       "      <td>22.0</td>\n",
       "      <td>7.0</td>\n",
       "      <td>6.0</td>\n",
       "      <td>...</td>\n",
       "      <td>7.4</td>\n",
       "      <td>4.8</td>\n",
       "      <td>12.6</td>\n",
       "      <td>17.2</td>\n",
       "      <td>9.8</td>\n",
       "      <td>9.8</td>\n",
       "      <td>9.0</td>\n",
       "      <td>111.2</td>\n",
       "      <td>3.6</td>\n",
       "      <td>3.0</td>\n",
       "    </tr>\n",
       "    <tr>\n",
       "      <th>Leukemias</th>\n",
       "      <td>178.0</td>\n",
       "      <td>351.2</td>\n",
       "      <td>274.4</td>\n",
       "      <td>341.4</td>\n",
       "      <td>98.2</td>\n",
       "      <td>64.6</td>\n",
       "      <td>7.6</td>\n",
       "      <td>42.4</td>\n",
       "      <td>17.2</td>\n",
       "      <td>18.0</td>\n",
       "      <td>...</td>\n",
       "      <td>14.6</td>\n",
       "      <td>11.2</td>\n",
       "      <td>18.8</td>\n",
       "      <td>35.4</td>\n",
       "      <td>16.0</td>\n",
       "      <td>13.4</td>\n",
       "      <td>21.2</td>\n",
       "      <td>225.2</td>\n",
       "      <td>10.8</td>\n",
       "      <td>6.0</td>\n",
       "    </tr>\n",
       "  </tbody>\n",
       "</table>\n",
       "<p>18 rows × 62 columns</p>\n",
       "</div>"
      ],
      "text/plain": [
       "                                         Bronx  Brooklyn  Manhattan   Queens  \\\n",
       "Site of Cancer                                                                 \n",
       "All Invasive Malignant Tumors           6325.0   12018.8     8601.8  11454.4   \n",
       "Oral cavity and pharynx                  150.4     254.8      217.0    249.0   \n",
       "Esophagus                                 48.0      83.8       63.8     92.0   \n",
       "Colorectal                               521.2    1047.2      614.6   1000.2   \n",
       "Colon excluding rectum                   365.4     740.8      421.4    705.2   \n",
       "Rectum & rectosigmoid                    155.8     306.4      193.2    295.0   \n",
       "Liver / intrahepatic bile duct           218.2     276.4      197.0    275.4   \n",
       "Pancreas                                 200.8     384.6      263.2    369.2   \n",
       "Lung and bronchus                        644.4    1209.0      882.4   1190.4   \n",
       "Melanoma of the skin                      58.4     230.2      340.2    198.4   \n",
       "Urinary bladder (incl. in situ)          193.4     427.8      345.0    431.6   \n",
       "Kidney and renal pelvis                  226.8     404.0      238.0    393.8   \n",
       "Brain and other central nervous system    75.4     164.4      117.2    132.2   \n",
       "Thyroid                                  203.8     543.0      326.4    492.4   \n",
       "Hodgkin lymphoma                          41.2      82.0       51.0     60.8   \n",
       "Non-Hodgkin lymphomas                    277.2     511.4      424.8    492.6   \n",
       "Myeloma                                  171.4     248.6      155.2    216.0   \n",
       "Leukemias                                178.0     351.2      274.4    341.4   \n",
       "\n",
       "                                        Staten Island  Albany  Allegany  \\\n",
       "Site of Cancer                                                            \n",
       "All Invasive Malignant Tumors                  3041.6  1986.4     299.0   \n",
       "Oral cavity and pharynx                          60.4    57.6       8.0   \n",
       "Esophagus                                        28.4    22.6       3.0   \n",
       "Colorectal                                      240.6   140.0      26.0   \n",
       "Colon excluding rectum                          177.4   102.2      18.6   \n",
       "Rectum & rectosigmoid                            63.2    37.8       7.4   \n",
       "Liver / intrahepatic bile duct                   65.2    37.8       3.6   \n",
       "Pancreas                                         94.2    64.0       9.0   \n",
       "Lung and bronchus                               384.8   277.6      45.6   \n",
       "Melanoma of the skin                             84.2    87.0      16.6   \n",
       "Urinary bladder (incl. in situ)                 144.4    99.8      15.8   \n",
       "Kidney and renal pelvis                         126.0    76.0      10.4   \n",
       "Brain and other central nervous system           36.4    21.8       3.0   \n",
       "Thyroid                                         164.4    53.0       4.4   \n",
       "Hodgkin lymphoma                                 16.0     8.6       2.0   \n",
       "Non-Hodgkin lymphomas                           138.4    85.2      10.6   \n",
       "Myeloma                                          55.0    33.0       2.0   \n",
       "Leukemias                                        98.2    64.6       7.6   \n",
       "\n",
       "                                        Broome  Cattaraugus  Cayuga  ...  \\\n",
       "Site of Cancer                                                       ...   \n",
       "All Invasive Malignant Tumors           1311.8        527.4   554.6  ...   \n",
       "Oral cavity and pharynx                   35.4         16.8    11.4  ...   \n",
       "Esophagus                                 15.6          6.2     7.8  ...   \n",
       "Colorectal                                92.6         38.8    37.4  ...   \n",
       "Colon excluding rectum                    63.6         26.6    25.8  ...   \n",
       "Rectum & rectosigmoid                     29.0         12.2    11.6  ...   \n",
       "Liver / intrahepatic bile duct            24.0          6.2     5.8  ...   \n",
       "Pancreas                                  45.8         14.2    13.4  ...   \n",
       "Lung and bronchus                        170.2         78.2    91.2  ...   \n",
       "Melanoma of the skin                      63.2         28.8    23.4  ...   \n",
       "Urinary bladder (incl. in situ)           64.4         28.8    31.2  ...   \n",
       "Kidney and renal pelvis                   49.4         21.0    20.4  ...   \n",
       "Brain and other central nervous system    17.6          7.6     6.6  ...   \n",
       "Thyroid                                   33.4         11.2    12.2  ...   \n",
       "Hodgkin lymphoma                           6.4          2.0     2.2  ...   \n",
       "Non-Hodgkin lymphomas                     50.4         22.2    20.4  ...   \n",
       "Myeloma                                   22.0          7.0     6.0  ...   \n",
       "Leukemias                                 42.4         17.2    18.0  ...   \n",
       "\n",
       "                                        Sullivan  Tioga  Tompkins  Ulster  \\\n",
       "Site of Cancer                                                              \n",
       "All Invasive Malignant Tumors              464.8  347.2     494.8  1168.8   \n",
       "Oral cavity and pharynx                     15.0    8.6      12.2    39.6   \n",
       "Esophagus                                    5.2    4.4       7.6    17.2   \n",
       "Colorectal                                  40.2   29.6      26.6    98.0   \n",
       "Colon excluding rectum                      27.4   20.2      19.4    66.0   \n",
       "Rectum & rectosigmoid                       12.8    9.4       7.2    32.0   \n",
       "Liver / intrahepatic bile duct              10.0    5.4       7.2    26.6   \n",
       "Pancreas                                    17.4    7.0      15.6    34.6   \n",
       "Lung and bronchus                           71.0   44.2      59.2   166.8   \n",
       "Melanoma of the skin                        16.6   19.2      26.4    42.4   \n",
       "Urinary bladder (incl. in situ)             25.4   21.4      24.2    62.8   \n",
       "Kidney and renal pelvis                     15.4   12.0      14.2    38.2   \n",
       "Brain and other central nervous system       5.2    3.6       5.0    15.0   \n",
       "Thyroid                                     12.0   10.4      11.0    30.4   \n",
       "Hodgkin lymphoma                             2.4    0.2       2.6     6.6   \n",
       "Non-Hodgkin lymphomas                       17.8   11.8      21.8    52.4   \n",
       "Myeloma                                      7.4    4.8      12.6    17.2   \n",
       "Leukemias                                   14.6   11.2      18.8    35.4   \n",
       "\n",
       "                                        Warren  Washington  Wayne  \\\n",
       "Site of Cancer                                                      \n",
       "All Invasive Malignant Tumors            515.2       443.2  649.8   \n",
       "Oral cavity and pharynx                   14.8        12.8   16.4   \n",
       "Esophagus                                  8.4         6.4    6.6   \n",
       "Colorectal                                32.4        32.2   52.0   \n",
       "Colon excluding rectum                    23.8        21.6   35.0   \n",
       "Rectum & rectosigmoid                      8.6        10.6   17.0   \n",
       "Liver / intrahepatic bile duct             8.0         8.6    9.2   \n",
       "Pancreas                                  12.6        14.4   17.6   \n",
       "Lung and bronchus                         76.4        69.4   96.0   \n",
       "Melanoma of the skin                      28.0        17.8   34.0   \n",
       "Urinary bladder (incl. in situ)           26.8        22.0   32.0   \n",
       "Kidney and renal pelvis                   16.2        15.4   28.4   \n",
       "Brain and other central nervous system     6.6         6.6    7.2   \n",
       "Thyroid                                   14.2        12.4   11.2   \n",
       "Hodgkin lymphoma                           1.6         0.6    2.2   \n",
       "Non-Hodgkin lymphomas                     22.2        18.2   30.0   \n",
       "Myeloma                                    9.8         9.8    9.0   \n",
       "Leukemias                                 16.0        13.4   21.2   \n",
       "\n",
       "                                        Westchester  Wyoming  Yates  \n",
       "Site of Cancer                                                       \n",
       "All Invasive Malignant Tumors                5767.4    285.6  180.0  \n",
       "Oral cavity and pharynx                       117.8      6.6    5.8  \n",
       "Esophagus                                      43.6      3.2    3.0  \n",
       "Colorectal                                    409.4     21.6    9.2  \n",
       "Colon excluding rectum                        291.2     12.8    5.6  \n",
       "Rectum & rectosigmoid                         118.2      8.8    3.6  \n",
       "Liver / intrahepatic bile duct                100.0      4.2    1.8  \n",
       "Pancreas                                      193.2      9.6    6.0  \n",
       "Lung and bronchus                             583.8     35.8   25.0  \n",
       "Melanoma of the skin                          222.2     16.6    9.8  \n",
       "Urinary bladder (incl. in situ)               270.4     14.4   12.2  \n",
       "Kidney and renal pelvis                       188.8      7.8    5.6  \n",
       "Brain and other central nervous system         71.8      2.4    2.2  \n",
       "Thyroid                                       198.8      6.2    3.2  \n",
       "Hodgkin lymphoma                               31.8      1.2    0.8  \n",
       "Non-Hodgkin lymphomas                         277.8     13.2    6.6  \n",
       "Myeloma                                       111.2      3.6    3.0  \n",
       "Leukemias                                     225.2     10.8    6.0  \n",
       "\n",
       "[18 rows x 62 columns]"
      ]
     },
     "execution_count": 30,
     "metadata": {},
     "output_type": "execute_result"
    }
   ],
   "source": [
    "county"
   ]
  },
  {
   "cell_type": "code",
   "execution_count": 18,
   "metadata": {},
   "outputs": [],
   "source": [
    "#call function from above and put it in df\n",
    "\n",
    "top_cancer_county=pd.DataFrame(columns=['Site','County'])\n",
    "top_cancer_county['Site'],top_cancer_county['Site of Cancer']=top(county)\n",
    "del top_cancer_county['County']\n",
    "top_cancer_county=top_cancer_county.rename(columns={'Site of Cancer':'County'})\n",
    "\n",
    "#converts list to string\n",
    "top_cancer_county['County'] = [','.join(map(str, l)) for l in top_cancer_county['County']]\n",
    "top_cancer_county=top_cancer_county[1:]"
   ]
  },
  {
   "cell_type": "code",
   "execution_count": 19,
   "metadata": {},
   "outputs": [
    {
     "data": {
      "text/html": [
       "<div>\n",
       "<style scoped>\n",
       "    .dataframe tbody tr th:only-of-type {\n",
       "        vertical-align: middle;\n",
       "    }\n",
       "\n",
       "    .dataframe tbody tr th {\n",
       "        vertical-align: top;\n",
       "    }\n",
       "\n",
       "    .dataframe thead th {\n",
       "        text-align: right;\n",
       "    }\n",
       "</style>\n",
       "<table border=\"1\" class=\"dataframe\">\n",
       "  <thead>\n",
       "    <tr style=\"text-align: right;\">\n",
       "      <th></th>\n",
       "      <th>Site</th>\n",
       "      <th>County</th>\n",
       "    </tr>\n",
       "  </thead>\n",
       "  <tbody>\n",
       "    <tr>\n",
       "      <th>1</th>\n",
       "      <td>Oral cavity and pharynx</td>\n",
       "      <td>Brooklyn</td>\n",
       "    </tr>\n",
       "    <tr>\n",
       "      <th>2</th>\n",
       "      <td>Esophagus</td>\n",
       "      <td>Queens</td>\n",
       "    </tr>\n",
       "    <tr>\n",
       "      <th>3</th>\n",
       "      <td>Colorectal</td>\n",
       "      <td>Brooklyn</td>\n",
       "    </tr>\n",
       "    <tr>\n",
       "      <th>4</th>\n",
       "      <td>Colon excluding rectum</td>\n",
       "      <td>Brooklyn</td>\n",
       "    </tr>\n",
       "    <tr>\n",
       "      <th>5</th>\n",
       "      <td>Rectum &amp; rectosigmoid</td>\n",
       "      <td>Brooklyn</td>\n",
       "    </tr>\n",
       "    <tr>\n",
       "      <th>6</th>\n",
       "      <td>Liver / intrahepatic bile duct</td>\n",
       "      <td>Brooklyn</td>\n",
       "    </tr>\n",
       "    <tr>\n",
       "      <th>7</th>\n",
       "      <td>Pancreas</td>\n",
       "      <td>Brooklyn</td>\n",
       "    </tr>\n",
       "    <tr>\n",
       "      <th>8</th>\n",
       "      <td>Lung and bronchus</td>\n",
       "      <td>Suffolk</td>\n",
       "    </tr>\n",
       "    <tr>\n",
       "      <th>9</th>\n",
       "      <td>Melanoma of the skin</td>\n",
       "      <td>Suffolk</td>\n",
       "    </tr>\n",
       "    <tr>\n",
       "      <th>10</th>\n",
       "      <td>Urinary bladder (incl. in situ)</td>\n",
       "      <td>Suffolk</td>\n",
       "    </tr>\n",
       "    <tr>\n",
       "      <th>11</th>\n",
       "      <td>Kidney and renal pelvis</td>\n",
       "      <td>Brooklyn</td>\n",
       "    </tr>\n",
       "    <tr>\n",
       "      <th>12</th>\n",
       "      <td>Brain and other central nervous system</td>\n",
       "      <td>Brooklyn</td>\n",
       "    </tr>\n",
       "    <tr>\n",
       "      <th>13</th>\n",
       "      <td>Thyroid</td>\n",
       "      <td>Brooklyn</td>\n",
       "    </tr>\n",
       "    <tr>\n",
       "      <th>14</th>\n",
       "      <td>Hodgkin lymphoma</td>\n",
       "      <td>Brooklyn</td>\n",
       "    </tr>\n",
       "    <tr>\n",
       "      <th>15</th>\n",
       "      <td>Non-Hodgkin lymphomas</td>\n",
       "      <td>Brooklyn</td>\n",
       "    </tr>\n",
       "    <tr>\n",
       "      <th>16</th>\n",
       "      <td>Myeloma</td>\n",
       "      <td>Brooklyn</td>\n",
       "    </tr>\n",
       "    <tr>\n",
       "      <th>17</th>\n",
       "      <td>Leukemias</td>\n",
       "      <td>Suffolk</td>\n",
       "    </tr>\n",
       "  </tbody>\n",
       "</table>\n",
       "</div>"
      ],
      "text/plain": [
       "                                      Site    County\n",
       "1                  Oral cavity and pharynx  Brooklyn\n",
       "2                                Esophagus    Queens\n",
       "3                               Colorectal  Brooklyn\n",
       "4                   Colon excluding rectum  Brooklyn\n",
       "5                    Rectum & rectosigmoid  Brooklyn\n",
       "6           Liver / intrahepatic bile duct  Brooklyn\n",
       "7                                 Pancreas  Brooklyn\n",
       "8                        Lung and bronchus   Suffolk\n",
       "9                     Melanoma of the skin   Suffolk\n",
       "10         Urinary bladder (incl. in situ)   Suffolk\n",
       "11                 Kidney and renal pelvis  Brooklyn\n",
       "12  Brain and other central nervous system  Brooklyn\n",
       "13                                 Thyroid  Brooklyn\n",
       "14                        Hodgkin lymphoma  Brooklyn\n",
       "15                   Non-Hodgkin lymphomas  Brooklyn\n",
       "16                                 Myeloma  Brooklyn\n",
       "17                               Leukemias   Suffolk"
      ]
     },
     "execution_count": 19,
     "metadata": {},
     "output_type": "execute_result"
    }
   ],
   "source": [
    "top_cancer_county"
   ]
  },
  {
   "cell_type": "code",
   "execution_count": 20,
   "metadata": {},
   "outputs": [
    {
     "name": "stdout",
     "output_type": "stream",
     "text": [
      "          Site\n",
      "County        \n",
      "Brooklyn    12\n",
      "Queens       1\n",
      "Suffolk      4\n"
     ]
    }
   ],
   "source": [
    "#group by to get counts per county\n",
    "top_county_per_site=top_cancer_county.groupby(top_cancer_county['County']).count()\n",
    "print(top_county_per_site)"
   ]
  },
  {
   "cell_type": "code",
   "execution_count": 21,
   "metadata": {},
   "outputs": [
    {
     "data": {
      "text/html": [
       "<div>\n",
       "<style scoped>\n",
       "    .dataframe tbody tr th:only-of-type {\n",
       "        vertical-align: middle;\n",
       "    }\n",
       "\n",
       "    .dataframe tbody tr th {\n",
       "        vertical-align: top;\n",
       "    }\n",
       "\n",
       "    .dataframe thead th {\n",
       "        text-align: right;\n",
       "    }\n",
       "</style>\n",
       "<table border=\"1\" class=\"dataframe\">\n",
       "  <thead>\n",
       "    <tr style=\"text-align: right;\">\n",
       "      <th></th>\n",
       "      <th>Site</th>\n",
       "      <th>County</th>\n",
       "    </tr>\n",
       "  </thead>\n",
       "  <tbody>\n",
       "    <tr>\n",
       "      <th>8</th>\n",
       "      <td>Lung and bronchus</td>\n",
       "      <td>Suffolk</td>\n",
       "    </tr>\n",
       "    <tr>\n",
       "      <th>9</th>\n",
       "      <td>Melanoma of the skin</td>\n",
       "      <td>Suffolk</td>\n",
       "    </tr>\n",
       "    <tr>\n",
       "      <th>10</th>\n",
       "      <td>Urinary bladder (incl. in situ)</td>\n",
       "      <td>Suffolk</td>\n",
       "    </tr>\n",
       "    <tr>\n",
       "      <th>17</th>\n",
       "      <td>Leukemias</td>\n",
       "      <td>Suffolk</td>\n",
       "    </tr>\n",
       "  </tbody>\n",
       "</table>\n",
       "</div>"
      ],
      "text/plain": [
       "                               Site   County\n",
       "8                 Lung and bronchus  Suffolk\n",
       "9              Melanoma of the skin  Suffolk\n",
       "10  Urinary bladder (incl. in situ)  Suffolk\n",
       "17                        Leukemias  Suffolk"
      ]
     },
     "execution_count": 21,
     "metadata": {},
     "output_type": "execute_result"
    }
   ],
   "source": [
    "top_cancer_county.loc[top_cancer_county['County']=='Suffolk']"
   ]
  },
  {
   "cell_type": "code",
   "execution_count": null,
   "metadata": {},
   "outputs": [],
   "source": []
  },
  {
   "cell_type": "markdown",
   "metadata": {},
   "source": [
    "# Florida Extraction"
   ]
  },
  {
   "cell_type": "code",
   "execution_count": 22,
   "metadata": {},
   "outputs": [],
   "source": [
    "fl1=tabula.read_pdf(\"florida/Florida 2016 cases.pdf\", pages=\"all\")  \n",
    "fl2=tabula.read_pdf(\"florida/Florida 2017 cases.pdf\", pages=\"all\")  \n",
    "fl3=tabula.read_pdf(\"florida/Florida 2018 cases.pdf\", pages=\"all\")  \n",
    "fl4=tabula.read_pdf(\"florida/Florida 2019 cases.pdf\", pages=\"all\")  \n",
    "fl5=tabula.read_pdf(\"florida/Florida 2020 cases.pdf\", pages=\"all\")  "
   ]
  },
  {
   "cell_type": "code",
   "execution_count": 23,
   "metadata": {},
   "outputs": [],
   "source": [
    "#grabs data from pdf and put in df\n",
    "def florida_extract(fl):\n",
    "    florida=fl[0]\n",
    "    florida.columns = florida.iloc[0]\n",
    "    florida = florida[1:]\n",
    "    florida.rename(columns={florida.columns[0]: 'County'},inplace=True)\n",
    "    florida=florida[1:]\n",
    "    florida=florida.replace('^','0')\n",
    "    #florida['Cancers'] = florida['Cancers'].str.replace(',', '').astype(int)\n",
    "    return florida"
   ]
  },
  {
   "cell_type": "code",
   "execution_count": 24,
   "metadata": {},
   "outputs": [],
   "source": [
    "#merges dfs\n",
    "fl1=florida_extract(fl1)\n",
    "fl2=florida_extract(fl2)\n",
    "fl3=florida_extract(fl3)\n",
    "fl4=florida_extract(fl4)\n",
    "fl5=florida_extract(fl5)\n",
    "\n",
    "fl1=fl1.rename(columns={'All Cancers':'Cancers'})\n",
    "\n",
    "florida=pd.DataFrame()\n",
    "\n",
    "k=0\n",
    "for i in fl1.columns:\n",
    "    if(k!=0):\n",
    "        fl1[i] = fl1[i].str.replace(',', '').astype(int)\n",
    "        fl2[i] = fl2[i].str.replace(',', '').astype(int)\n",
    "        fl3[i] = fl3[i].str.replace(',', '').astype(int)\n",
    "        fl4[i] = fl4[i].str.replace(',', '').astype(int)\n",
    "        fl5[i] = fl5[i].str.replace(',', '').astype(int)\n",
    "        florida[i]=fl1[i]+fl2[i]+fl3[i]+fl4[i]+fl5[i]\n",
    "    else:\n",
    "        florida[i]=fl1[i]\n",
    "    k+=1\n",
    "    "
   ]
  },
  {
   "cell_type": "code",
   "execution_count": 32,
   "metadata": {},
   "outputs": [
    {
     "name": "stdout",
     "output_type": "stream",
     "text": [
      "CO-EST2019-ANNRES-12\n"
     ]
    }
   ],
   "source": [
    "pop_fl=pd.read_excel('florida/Florida Population 2016-2020.xlsx')"
   ]
  },
  {
   "cell_type": "code",
   "execution_count": 34,
   "metadata": {},
   "outputs": [],
   "source": [
    "new_header = pop_fl.iloc[0] #grab the first row for the header\n",
    "pop_fl = pop_fl[1:] #take the data less the header row\n",
    "pop_fl.columns = new_header #set the header row as the df header"
   ]
  },
  {
   "cell_type": "code",
   "execution_count": 35,
   "metadata": {},
   "outputs": [
    {
     "data": {
      "text/html": [
       "<div>\n",
       "<style scoped>\n",
       "    .dataframe tbody tr th:only-of-type {\n",
       "        vertical-align: middle;\n",
       "    }\n",
       "\n",
       "    .dataframe tbody tr th {\n",
       "        vertical-align: top;\n",
       "    }\n",
       "\n",
       "    .dataframe thead th {\n",
       "        text-align: right;\n",
       "    }\n",
       "</style>\n",
       "<table border=\"1\" class=\"dataframe\">\n",
       "  <thead>\n",
       "    <tr style=\"text-align: right;\">\n",
       "      <th></th>\n",
       "      <th>Florida</th>\n",
       "      <th>2016</th>\n",
       "      <th>2017</th>\n",
       "      <th>2018</th>\n",
       "      <th>2019</th>\n",
       "      <th>Total</th>\n",
       "    </tr>\n",
       "  </thead>\n",
       "  <tbody>\n",
       "    <tr>\n",
       "      <th>1</th>\n",
       "      <td>.Alachua County, Florida</td>\n",
       "      <td>263959</td>\n",
       "      <td>266309</td>\n",
       "      <td>268851</td>\n",
       "      <td>269043</td>\n",
       "      <td>1068162</td>\n",
       "    </tr>\n",
       "    <tr>\n",
       "      <th>2</th>\n",
       "      <td>.Baker County, Florida</td>\n",
       "      <td>27884</td>\n",
       "      <td>28254</td>\n",
       "      <td>28353</td>\n",
       "      <td>29210</td>\n",
       "      <td>113701</td>\n",
       "    </tr>\n",
       "    <tr>\n",
       "      <th>3</th>\n",
       "      <td>.Bay County, Florida</td>\n",
       "      <td>183634</td>\n",
       "      <td>184736</td>\n",
       "      <td>186240</td>\n",
       "      <td>174705</td>\n",
       "      <td>729315</td>\n",
       "    </tr>\n",
       "    <tr>\n",
       "      <th>4</th>\n",
       "      <td>.Bradford County, Florida</td>\n",
       "      <td>26740</td>\n",
       "      <td>27142</td>\n",
       "      <td>27752</td>\n",
       "      <td>28201</td>\n",
       "      <td>109835</td>\n",
       "    </tr>\n",
       "    <tr>\n",
       "      <th>5</th>\n",
       "      <td>.Brevard County, Florida</td>\n",
       "      <td>576874</td>\n",
       "      <td>587769</td>\n",
       "      <td>595203</td>\n",
       "      <td>601942</td>\n",
       "      <td>2361788</td>\n",
       "    </tr>\n",
       "    <tr>\n",
       "      <th>...</th>\n",
       "      <td>...</td>\n",
       "      <td>...</td>\n",
       "      <td>...</td>\n",
       "      <td>...</td>\n",
       "      <td>...</td>\n",
       "      <td>...</td>\n",
       "    </tr>\n",
       "    <tr>\n",
       "      <th>63</th>\n",
       "      <td>.Union County, Florida</td>\n",
       "      <td>15238</td>\n",
       "      <td>15448</td>\n",
       "      <td>15328</td>\n",
       "      <td>15237</td>\n",
       "      <td>61251</td>\n",
       "    </tr>\n",
       "    <tr>\n",
       "      <th>64</th>\n",
       "      <td>.Volusia County, Florida</td>\n",
       "      <td>528453</td>\n",
       "      <td>537868</td>\n",
       "      <td>546101</td>\n",
       "      <td>553284</td>\n",
       "      <td>2165706</td>\n",
       "    </tr>\n",
       "    <tr>\n",
       "      <th>65</th>\n",
       "      <td>.Wakulla County, Florida</td>\n",
       "      <td>31882</td>\n",
       "      <td>32050</td>\n",
       "      <td>32413</td>\n",
       "      <td>33739</td>\n",
       "      <td>130084</td>\n",
       "    </tr>\n",
       "    <tr>\n",
       "      <th>66</th>\n",
       "      <td>.Walton County, Florida</td>\n",
       "      <td>65421</td>\n",
       "      <td>68021</td>\n",
       "      <td>70732</td>\n",
       "      <td>74071</td>\n",
       "      <td>278245</td>\n",
       "    </tr>\n",
       "    <tr>\n",
       "      <th>67</th>\n",
       "      <td>.Washington County, Florida</td>\n",
       "      <td>24454</td>\n",
       "      <td>24546</td>\n",
       "      <td>24793</td>\n",
       "      <td>25473</td>\n",
       "      <td>99266</td>\n",
       "    </tr>\n",
       "  </tbody>\n",
       "</table>\n",
       "<p>67 rows × 6 columns</p>\n",
       "</div>"
      ],
      "text/plain": [
       "0                       Florida    2016    2017    2018    2019    Total\n",
       "1      .Alachua County, Florida  263959  266309  268851  269043  1068162\n",
       "2        .Baker County, Florida   27884   28254   28353   29210   113701\n",
       "3          .Bay County, Florida  183634  184736  186240  174705   729315\n",
       "4     .Bradford County, Florida   26740   27142   27752   28201   109835\n",
       "5      .Brevard County, Florida  576874  587769  595203  601942  2361788\n",
       "..                          ...     ...     ...     ...     ...      ...\n",
       "63       .Union County, Florida   15238   15448   15328   15237    61251\n",
       "64     .Volusia County, Florida  528453  537868  546101  553284  2165706\n",
       "65     .Wakulla County, Florida   31882   32050   32413   33739   130084\n",
       "66      .Walton County, Florida   65421   68021   70732   74071   278245\n",
       "67  .Washington County, Florida   24454   24546   24793   25473    99266\n",
       "\n",
       "[67 rows x 6 columns]"
      ]
     },
     "execution_count": 35,
     "metadata": {},
     "output_type": "execute_result"
    }
   ],
   "source": [
    "pop_fl"
   ]
  },
  {
   "cell_type": "code",
   "execution_count": 25,
   "metadata": {},
   "outputs": [],
   "source": [
    "florida.to_csv('Florida Cancer 2016-2020.csv')"
   ]
  },
  {
   "cell_type": "markdown",
   "metadata": {},
   "source": [
    "# Choropleth Map of Cancer per Florida County"
   ]
  },
  {
   "cell_type": "code",
   "execution_count": 39,
   "metadata": {},
   "outputs": [],
   "source": [
    "fips=['12001', '12003', '12005', '12007', '12009', '12011', '12013', '12015', '12017', '12019', '12021', '12023','12027', '12029', '12031','12033','12035','12037','12039','12041','12043','12045','12047','12049','12051','12053','12055',\n",
    "      '12057','12059','12061','12063','12065','12067','12069','12071','12073','12075','12077','12079','12081','12083',\n",
    "      '12085','12086','12087','12089','12091','12093','12095','12097','12099','12101','12103','12105','12107','12109','12111',\n",
    "      '12113','12115','12117','12119','12121','12123','12125','12127','12129','12131','12133']"
   ]
  },
  {
   "cell_type": "code",
   "execution_count": 27,
   "metadata": {},
   "outputs": [
    {
     "data": {
      "text/plain": [
       "'choropleth_florida.html'"
      ]
     },
     "execution_count": 27,
     "metadata": {},
     "output_type": "execute_result"
    }
   ],
   "source": [
    "county_fl=florida['County'].tolist()\n",
    "values=florida['Cancers'].tolist()\n",
    "endpts = list(np.mgrid[min(values):max(values):6j])\n",
    "fig =ff.create_choropleth(fips=fips,values=values,scope=[\"Florida\"],binning_endpoints=endpts, show_state_data=True,county_outline={'color': 'rgb(255,255,255)', 'width': 0.5},round_legend_values=True,title='Count of Cancer per County in Florida from 2016-2020')\n",
    "#on click of state goes to heatmap for that state and its county\n",
    "py.offline.plot(fig,\n",
    "                filename='choropleth_florida',\n",
    "                include_plotlyjs='https://cdn.plot.ly/plotly-1.42.3.min.js')"
   ]
  },
  {
   "cell_type": "code",
   "execution_count": 40,
   "metadata": {},
   "outputs": [
    {
     "data": {
      "text/plain": [
       "'choropleth_floridapop.html'"
      ]
     },
     "execution_count": 40,
     "metadata": {},
     "output_type": "execute_result"
    }
   ],
   "source": [
    "county_fl=pop_fl['Florida'].tolist()\n",
    "values=pop_fl['Total'].tolist()\n",
    "endpts = list(np.mgrid[min(values):max(values):6j])\n",
    "fig =ff.create_choropleth(fips=fips,values=values,scope=[\"Florida\"],binning_endpoints=endpts, show_state_data=True,county_outline={'color': 'rgb(255,255,255)', 'width': 0.5},round_legend_values=True,title='Population per County in Florida from 2016-2020')\n",
    "#on click of state goes to heatmap for that state and its county\n",
    "py.offline.plot(fig,\n",
    "                filename='choropleth_floridapop',\n",
    "                include_plotlyjs='https://cdn.plot.ly/plotly-1.42.3.min.js')"
   ]
  },
  {
   "cell_type": "code",
   "execution_count": 42,
   "metadata": {},
   "outputs": [],
   "source": [
    "fig.write_image('florida/Population Florida.png')"
   ]
  },
  {
   "cell_type": "code",
   "execution_count": 19,
   "metadata": {},
   "outputs": [],
   "source": [
    "cancer_fl=florida.sort_values('Cancers', ascending=False)\n",
    "cancer_fl.to_excel(\"florida/Cancer per County.xlsx\")\n",
    "cancer_fl.to_html(\"florida/Cancer per County.html\")\n"
   ]
  },
  {
   "cell_type": "markdown",
   "metadata": {},
   "source": [
    "# Showing how many counties cancers are most prevalent in"
   ]
  },
  {
   "cell_type": "code",
   "execution_count": 32,
   "metadata": {},
   "outputs": [],
   "source": [
    "#create df and fill column with existing data from another df\n",
    "max_florida=pd.DataFrame(columns=['County'])\n",
    "max_florida['County']=florida['County']"
   ]
  },
  {
   "cell_type": "code",
   "execution_count": 35,
   "metadata": {},
   "outputs": [],
   "source": [
    "#creates copy of df\n",
    "florida_cluster=florida.copy()\n",
    "del florida_cluster['County']\n",
    "del florida_cluster['Cancers']\n",
    "\n",
    "#grabs each cancer site and counts how many counties it's the most prevalent\n",
    "max_florida['Area Site']=florida_cluster.idxmax(axis=1)\n",
    "max_florida_num=max_florida.groupby(max_florida['Area Site']).count()"
   ]
  },
  {
   "cell_type": "code",
   "execution_count": 40,
   "metadata": {},
   "outputs": [
    {
     "data": {
      "text/html": [
       "<div>\n",
       "<style scoped>\n",
       "    .dataframe tbody tr th:only-of-type {\n",
       "        vertical-align: middle;\n",
       "    }\n",
       "\n",
       "    .dataframe tbody tr th {\n",
       "        vertical-align: top;\n",
       "    }\n",
       "\n",
       "    .dataframe thead th {\n",
       "        text-align: right;\n",
       "    }\n",
       "</style>\n",
       "<table border=\"1\" class=\"dataframe\">\n",
       "  <thead>\n",
       "    <tr style=\"text-align: right;\">\n",
       "      <th></th>\n",
       "      <th>County</th>\n",
       "    </tr>\n",
       "    <tr>\n",
       "      <th>Area Site</th>\n",
       "      <th></th>\n",
       "    </tr>\n",
       "  </thead>\n",
       "  <tbody>\n",
       "    <tr>\n",
       "      <th>Bronchus</th>\n",
       "      <td>50</td>\n",
       "    </tr>\n",
       "    <tr>\n",
       "      <th>Breast</th>\n",
       "      <td>15</td>\n",
       "    </tr>\n",
       "    <tr>\n",
       "      <th>Melanoma</th>\n",
       "      <td>1</td>\n",
       "    </tr>\n",
       "    <tr>\n",
       "      <th>Prostate</th>\n",
       "      <td>1</td>\n",
       "    </tr>\n",
       "  </tbody>\n",
       "</table>\n",
       "</div>"
      ],
      "text/plain": [
       "           County\n",
       "Area Site        \n",
       "Bronchus       50\n",
       "Breast         15\n",
       "Melanoma        1\n",
       "Prostate        1"
      ]
     },
     "execution_count": 40,
     "metadata": {},
     "output_type": "execute_result"
    }
   ],
   "source": [
    "max_florida_num.sort_values('County', ascending=False)"
   ]
  },
  {
   "cell_type": "code",
   "execution_count": 41,
   "metadata": {},
   "outputs": [
    {
     "data": {
      "text/html": [
       "<div>\n",
       "<style scoped>\n",
       "    .dataframe tbody tr th:only-of-type {\n",
       "        vertical-align: middle;\n",
       "    }\n",
       "\n",
       "    .dataframe tbody tr th {\n",
       "        vertical-align: top;\n",
       "    }\n",
       "\n",
       "    .dataframe thead th {\n",
       "        text-align: right;\n",
       "    }\n",
       "</style>\n",
       "<table border=\"1\" class=\"dataframe\">\n",
       "  <thead>\n",
       "    <tr style=\"text-align: right;\">\n",
       "      <th></th>\n",
       "      <th>County</th>\n",
       "      <th>Area Site</th>\n",
       "    </tr>\n",
       "  </thead>\n",
       "  <tbody>\n",
       "    <tr>\n",
       "      <th>2</th>\n",
       "      <td>Alachua</td>\n",
       "      <td>Breast</td>\n",
       "    </tr>\n",
       "    <tr>\n",
       "      <th>3</th>\n",
       "      <td>Baker</td>\n",
       "      <td>Bronchus</td>\n",
       "    </tr>\n",
       "    <tr>\n",
       "      <th>4</th>\n",
       "      <td>Bay</td>\n",
       "      <td>Bronchus</td>\n",
       "    </tr>\n",
       "    <tr>\n",
       "      <th>5</th>\n",
       "      <td>Bradford</td>\n",
       "      <td>Bronchus</td>\n",
       "    </tr>\n",
       "    <tr>\n",
       "      <th>6</th>\n",
       "      <td>Brevard</td>\n",
       "      <td>Bronchus</td>\n",
       "    </tr>\n",
       "    <tr>\n",
       "      <th>...</th>\n",
       "      <td>...</td>\n",
       "      <td>...</td>\n",
       "    </tr>\n",
       "    <tr>\n",
       "      <th>64</th>\n",
       "      <td>Union</td>\n",
       "      <td>Prostate</td>\n",
       "    </tr>\n",
       "    <tr>\n",
       "      <th>65</th>\n",
       "      <td>Volusia</td>\n",
       "      <td>Bronchus</td>\n",
       "    </tr>\n",
       "    <tr>\n",
       "      <th>66</th>\n",
       "      <td>Wakulla</td>\n",
       "      <td>Bronchus</td>\n",
       "    </tr>\n",
       "    <tr>\n",
       "      <th>67</th>\n",
       "      <td>Walton</td>\n",
       "      <td>Bronchus</td>\n",
       "    </tr>\n",
       "    <tr>\n",
       "      <th>68</th>\n",
       "      <td>Washington</td>\n",
       "      <td>Bronchus</td>\n",
       "    </tr>\n",
       "  </tbody>\n",
       "</table>\n",
       "<p>67 rows × 2 columns</p>\n",
       "</div>"
      ],
      "text/plain": [
       "        County Area Site\n",
       "2      Alachua    Breast\n",
       "3        Baker  Bronchus\n",
       "4          Bay  Bronchus\n",
       "5     Bradford  Bronchus\n",
       "6      Brevard  Bronchus\n",
       "..         ...       ...\n",
       "64       Union  Prostate\n",
       "65     Volusia  Bronchus\n",
       "66     Wakulla  Bronchus\n",
       "67      Walton  Bronchus\n",
       "68  Washington  Bronchus\n",
       "\n",
       "[67 rows x 2 columns]"
      ]
     },
     "execution_count": 41,
     "metadata": {},
     "output_type": "execute_result"
    }
   ],
   "source": [
    "max_florida"
   ]
  },
  {
   "cell_type": "code",
   "execution_count": null,
   "metadata": {},
   "outputs": [],
   "source": []
  }
 ],
 "metadata": {
  "kernelspec": {
   "display_name": "Python 3",
   "language": "python",
   "name": "python3"
  },
  "language_info": {
   "codemirror_mode": {
    "name": "ipython",
    "version": 3
   },
   "file_extension": ".py",
   "mimetype": "text/x-python",
   "name": "python",
   "nbconvert_exporter": "python",
   "pygments_lexer": "ipython3",
   "version": "3.8.5"
  }
 },
 "nbformat": 4,
 "nbformat_minor": 4
}
